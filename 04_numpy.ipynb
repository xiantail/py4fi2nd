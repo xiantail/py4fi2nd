{
  "nbformat": 4,
  "nbformat_minor": 0,
  "metadata": {
    "kernelspec": {
      "display_name": "Python 3",
      "language": "python",
      "name": "python3"
    },
    "language_info": {
      "codemirror_mode": {
        "name": "ipython",
        "version": 3
      },
      "file_extension": ".py",
      "mimetype": "text/x-python",
      "name": "python",
      "nbconvert_exporter": "python",
      "pygments_lexer": "ipython3",
      "version": "3.6.7"
    },
    "colab": {
      "name": "04_numpy.ipynb",
      "provenance": [],
      "include_colab_link": true
    }
  },
  "cells": [
    {
      "cell_type": "markdown",
      "metadata": {
        "id": "view-in-github",
        "colab_type": "text"
      },
      "source": [
        "<a href=\"https://colab.research.google.com/github/xiantail/py4fi2nd/blob/master/04_numpy.ipynb\" target=\"_parent\"><img src=\"https://colab.research.google.com/assets/colab-badge.svg\" alt=\"Open In Colab\"/></a>"
      ]
    },
    {
      "cell_type": "markdown",
      "metadata": {
        "id": "LbhFiWxcT6zu",
        "colab_type": "text"
      },
      "source": [
        "<img src=\"http://hilpisch.com/tpq_logo.png\" alt=\"The Python Quants\" width=\"35%\" align=\"right\" border=\"0\"><br>"
      ]
    },
    {
      "cell_type": "markdown",
      "metadata": {
        "id": "e8h16rPtT6zw",
        "colab_type": "text"
      },
      "source": [
        "# Python for Finance (2nd ed.)\n",
        "\n",
        "**Mastering Data-Driven Finance**\n",
        "\n",
        "&copy; Dr. Yves J. Hilpisch | The Python Quants GmbH\n",
        "\n",
        "<img src=\"http://hilpisch.com/images/py4fi_2nd_shadow.png\" width=\"300px\" align=\"left\">"
      ]
    },
    {
      "cell_type": "markdown",
      "metadata": {
        "id": "Vx37v993T6zx",
        "colab_type": "text"
      },
      "source": [
        "# Numerical Computing with NumPy"
      ]
    },
    {
      "cell_type": "markdown",
      "metadata": {
        "id": "qomhodGiT6zy",
        "colab_type": "text"
      },
      "source": [
        "## Arrays with Python Lists"
      ]
    },
    {
      "cell_type": "code",
      "metadata": {
        "uuid": "be5428db-f5f0-48d1-9cb3-46ab122778e7",
        "id": "iNloEVzLT6zy",
        "colab_type": "code",
        "colab": {}
      },
      "source": [
        "v = [0.5, 0.75, 1.0, 1.5, 2.0]  "
      ],
      "execution_count": 0,
      "outputs": []
    },
    {
      "cell_type": "code",
      "metadata": {
        "uuid": "01678cdc-dfe0-481e-b9bc-b735b15c76c0",
        "id": "bWZRYH6cT6z1",
        "colab_type": "code",
        "outputId": "1c74ae77-19cd-4da9-a425-a587bd7a6959",
        "colab": {
          "base_uri": "https://localhost:8080/",
          "height": 68
        }
      },
      "source": [
        "m = [v, v, v]  \n",
        "m  "
      ],
      "execution_count": 0,
      "outputs": [
        {
          "output_type": "execute_result",
          "data": {
            "text/plain": [
              "[[0.5, 0.75, 1.0, 1.5, 2.0],\n",
              " [0.5, 0.75, 1.0, 1.5, 2.0],\n",
              " [0.5, 0.75, 1.0, 1.5, 2.0]]"
            ]
          },
          "metadata": {
            "tags": []
          },
          "execution_count": 3
        }
      ]
    },
    {
      "cell_type": "code",
      "metadata": {
        "uuid": "e2d1473a-4970-4085-9e8a-de65ed22f986",
        "id": "RDP_5jqNT6z4",
        "colab_type": "code",
        "outputId": "8609285f-5672-4708-86c6-a200d1146a0f",
        "colab": {
          "base_uri": "https://localhost:8080/",
          "height": 34
        }
      },
      "source": [
        "m[1]"
      ],
      "execution_count": 0,
      "outputs": [
        {
          "output_type": "execute_result",
          "data": {
            "text/plain": [
              "[0.5, 0.75, 1.0, 1.5, 2.0]"
            ]
          },
          "metadata": {
            "tags": []
          },
          "execution_count": 4
        }
      ]
    },
    {
      "cell_type": "code",
      "metadata": {
        "uuid": "e33ea433-6716-4d17-9ed3-04a68af6b489",
        "id": "e1gw2RdbT6z6",
        "colab_type": "code",
        "outputId": "94a964a5-570c-46f1-bedb-0aa8ae3ac769",
        "colab": {
          "base_uri": "https://localhost:8080/",
          "height": 34
        }
      },
      "source": [
        "m[1][0]"
      ],
      "execution_count": 0,
      "outputs": [
        {
          "output_type": "execute_result",
          "data": {
            "text/plain": [
              "0.5"
            ]
          },
          "metadata": {
            "tags": []
          },
          "execution_count": 5
        }
      ]
    },
    {
      "cell_type": "code",
      "metadata": {
        "uuid": "d905bfcc-e325-468e-829e-bb5c59def934",
        "id": "Z46fu0zyT6z7",
        "colab_type": "code",
        "outputId": "0f21194f-7afe-4052-d499-38fe88b1c8eb",
        "colab": {
          "base_uri": "https://localhost:8080/",
          "height": 34
        }
      },
      "source": [
        "v1 = [0.5, 1.5]\n",
        "v2 = [1, 2]\n",
        "m = [v1, v2]\n",
        "c = [m, m]  \n",
        "c"
      ],
      "execution_count": 0,
      "outputs": [
        {
          "output_type": "execute_result",
          "data": {
            "text/plain": [
              "[[[0.5, 1.5], [1, 2]], [[0.5, 1.5], [1, 2]]]"
            ]
          },
          "metadata": {
            "tags": []
          },
          "execution_count": 6
        }
      ]
    },
    {
      "cell_type": "code",
      "metadata": {
        "scrolled": true,
        "uuid": "be03ed03-1e4a-428e-ac94-e451ceeaa745",
        "id": "f6RWwachT6z9",
        "colab_type": "code",
        "outputId": "f4218c82-6350-499b-c0bc-0a7f0233d62e",
        "colab": {
          "base_uri": "https://localhost:8080/",
          "height": 34
        }
      },
      "source": [
        "c[1][1][0]"
      ],
      "execution_count": 0,
      "outputs": [
        {
          "output_type": "execute_result",
          "data": {
            "text/plain": [
              "1"
            ]
          },
          "metadata": {
            "tags": []
          },
          "execution_count": 7
        }
      ]
    },
    {
      "cell_type": "code",
      "metadata": {
        "uuid": "015e5dd4-fda4-4572-9a23-06ff178ff2be",
        "id": "FtQJksb-T6z_",
        "colab_type": "code",
        "outputId": "36c9c032-ab70-4f8d-ef2a-85f84a39d660",
        "colab": {
          "base_uri": "https://localhost:8080/",
          "height": 68
        }
      },
      "source": [
        "v = [0.5, 0.75, 1.0, 1.5, 2.0]\n",
        "m = [v, v, v]\n",
        "m"
      ],
      "execution_count": 0,
      "outputs": [
        {
          "output_type": "execute_result",
          "data": {
            "text/plain": [
              "[[0.5, 0.75, 1.0, 1.5, 2.0],\n",
              " [0.5, 0.75, 1.0, 1.5, 2.0],\n",
              " [0.5, 0.75, 1.0, 1.5, 2.0]]"
            ]
          },
          "metadata": {
            "tags": []
          },
          "execution_count": 8
        }
      ]
    },
    {
      "cell_type": "code",
      "metadata": {
        "uuid": "fd8ebed9-f11c-455a-a660-f4fe8d12d8f4",
        "id": "_1VUuoE6T60A",
        "colab_type": "code",
        "outputId": "2a377d2d-f7dc-4555-841e-d8bfd4dbef76",
        "colab": {
          "base_uri": "https://localhost:8080/",
          "height": 68
        }
      },
      "source": [
        "v[0] = 'Python'\n",
        "m"
      ],
      "execution_count": 0,
      "outputs": [
        {
          "output_type": "execute_result",
          "data": {
            "text/plain": [
              "[['Python', 0.75, 1.0, 1.5, 2.0],\n",
              " ['Python', 0.75, 1.0, 1.5, 2.0],\n",
              " ['Python', 0.75, 1.0, 1.5, 2.0]]"
            ]
          },
          "metadata": {
            "tags": []
          },
          "execution_count": 9
        }
      ]
    },
    {
      "cell_type": "code",
      "metadata": {
        "uuid": "eacab892-e5a6-49be-9ef2-ef2972b313c3",
        "id": "czdrb4i3T60C",
        "colab_type": "code",
        "outputId": "38d341da-470f-470f-fa1b-b37a0775e5ab",
        "colab": {
          "base_uri": "https://localhost:8080/",
          "height": 68
        }
      },
      "source": [
        "from copy import deepcopy\n",
        "v = [0.5, 0.75, 1.0, 1.5, 2.0]\n",
        "m = 3 * [deepcopy(v), ]  \n",
        "m"
      ],
      "execution_count": 0,
      "outputs": [
        {
          "output_type": "execute_result",
          "data": {
            "text/plain": [
              "[[0.5, 0.75, 1.0, 1.5, 2.0],\n",
              " [0.5, 0.75, 1.0, 1.5, 2.0],\n",
              " [0.5, 0.75, 1.0, 1.5, 2.0]]"
            ]
          },
          "metadata": {
            "tags": []
          },
          "execution_count": 10
        }
      ]
    },
    {
      "cell_type": "code",
      "metadata": {
        "uuid": "10ed3e78-fdc4-4adf-8f80-75eac48629a1",
        "id": "dtTUJiqBT60D",
        "colab_type": "code",
        "outputId": "16afd520-1924-4b83-a785-74ef33148347",
        "colab": {
          "base_uri": "https://localhost:8080/",
          "height": 68
        }
      },
      "source": [
        "v[0] = 'Python'  \n",
        "m  "
      ],
      "execution_count": 0,
      "outputs": [
        {
          "output_type": "execute_result",
          "data": {
            "text/plain": [
              "[[0.5, 0.75, 1.0, 1.5, 2.0],\n",
              " [0.5, 0.75, 1.0, 1.5, 2.0],\n",
              " [0.5, 0.75, 1.0, 1.5, 2.0]]"
            ]
          },
          "metadata": {
            "tags": []
          },
          "execution_count": 11
        }
      ]
    },
    {
      "cell_type": "markdown",
      "metadata": {
        "id": "5BBtCNKfT60F",
        "colab_type": "text"
      },
      "source": [
        "## Interlude: Python Array Class"
      ]
    },
    {
      "cell_type": "code",
      "metadata": {
        "id": "GsNUvTkDT60F",
        "colab_type": "code",
        "colab": {}
      },
      "source": [
        "v = [0.5, 0.75, 1.0, 1.5, 2.0]"
      ],
      "execution_count": 0,
      "outputs": []
    },
    {
      "cell_type": "code",
      "metadata": {
        "id": "ara1mi8VT60H",
        "colab_type": "code",
        "colab": {}
      },
      "source": [
        "import array"
      ],
      "execution_count": 0,
      "outputs": []
    },
    {
      "cell_type": "code",
      "metadata": {
        "id": "CTjEq3lsT60I",
        "colab_type": "code",
        "outputId": "b91bd594-8100-4b5c-de81-b30614b23d7e",
        "colab": {
          "base_uri": "https://localhost:8080/",
          "height": 34
        }
      },
      "source": [
        "a = array.array('f', v)  \n",
        "a"
      ],
      "execution_count": 0,
      "outputs": [
        {
          "output_type": "execute_result",
          "data": {
            "text/plain": [
              "array('f', [0.5, 0.75, 1.0, 1.5, 2.0])"
            ]
          },
          "metadata": {
            "tags": []
          },
          "execution_count": 14
        }
      ]
    },
    {
      "cell_type": "code",
      "metadata": {
        "id": "_8sEiUw3T60K",
        "colab_type": "code",
        "outputId": "5411bbba-3f4f-42f6-92da-fb7fd76f64b7",
        "colab": {
          "base_uri": "https://localhost:8080/",
          "height": 34
        }
      },
      "source": [
        "a.append(0.5)  \n",
        "a"
      ],
      "execution_count": 0,
      "outputs": [
        {
          "output_type": "execute_result",
          "data": {
            "text/plain": [
              "array('f', [0.5, 0.75, 1.0, 1.5, 2.0, 0.5])"
            ]
          },
          "metadata": {
            "tags": []
          },
          "execution_count": 15
        }
      ]
    },
    {
      "cell_type": "code",
      "metadata": {
        "id": "33Y29fAvT60L",
        "colab_type": "code",
        "outputId": "45cea482-145b-4724-fdc4-3d6009b02db7",
        "colab": {
          "base_uri": "https://localhost:8080/",
          "height": 34
        }
      },
      "source": [
        "a.extend([5.0, 6.75])  \n",
        "a"
      ],
      "execution_count": 0,
      "outputs": [
        {
          "output_type": "execute_result",
          "data": {
            "text/plain": [
              "array('f', [0.5, 0.75, 1.0, 1.5, 2.0, 0.5, 5.0, 6.75])"
            ]
          },
          "metadata": {
            "tags": []
          },
          "execution_count": 16
        }
      ]
    },
    {
      "cell_type": "code",
      "metadata": {
        "id": "cSRvgRFpT60N",
        "colab_type": "code",
        "outputId": "b090d9a5-0c28-451e-e057-e6ea80025376",
        "colab": {
          "base_uri": "https://localhost:8080/",
          "height": 34
        }
      },
      "source": [
        "2 * a  "
      ],
      "execution_count": 0,
      "outputs": [
        {
          "output_type": "execute_result",
          "data": {
            "text/plain": [
              "array('f', [0.5, 0.75, 1.0, 1.5, 2.0, 0.5, 5.0, 6.75, 0.5, 0.75, 1.0, 1.5, 2.0, 0.5, 5.0, 6.75])"
            ]
          },
          "metadata": {
            "tags": []
          },
          "execution_count": 17
        }
      ]
    },
    {
      "cell_type": "code",
      "metadata": {
        "id": "bPBJ5_SVT60R",
        "colab_type": "code",
        "colab": {}
      },
      "source": [
        "# causes intentional error\n",
        "# a.append('string')  "
      ],
      "execution_count": 0,
      "outputs": []
    },
    {
      "cell_type": "code",
      "metadata": {
        "scrolled": true,
        "id": "MrWiV4BsT60S",
        "colab_type": "code",
        "outputId": "11ee174a-a6ef-4a0b-c5ad-01e27d91bd8a",
        "colab": {
          "base_uri": "https://localhost:8080/",
          "height": 34
        }
      },
      "source": [
        "a.tolist()  "
      ],
      "execution_count": 0,
      "outputs": [
        {
          "output_type": "execute_result",
          "data": {
            "text/plain": [
              "[0.5, 0.75, 1.0, 1.5, 2.0, 0.5, 5.0, 6.75]"
            ]
          },
          "metadata": {
            "tags": []
          },
          "execution_count": 19
        }
      ]
    },
    {
      "cell_type": "code",
      "metadata": {
        "id": "Z4VXY2oVT60U",
        "colab_type": "code",
        "colab": {}
      },
      "source": [
        "f = open('array.apy', 'wb')  \n",
        "a.tofile(f)  \n",
        "f.close()  "
      ],
      "execution_count": 0,
      "outputs": []
    },
    {
      "cell_type": "code",
      "metadata": {
        "id": "OsqsyViET60X",
        "colab_type": "code",
        "colab": {}
      },
      "source": [
        "with open('array.apy', 'wb') as f:  \n",
        "    a.tofile(f)  "
      ],
      "execution_count": 0,
      "outputs": []
    },
    {
      "cell_type": "code",
      "metadata": {
        "id": "w5_Y3dDqT60Z",
        "colab_type": "code",
        "outputId": "991e7e58-da8c-4743-f36a-e3ee07f300de",
        "colab": {
          "base_uri": "https://localhost:8080/",
          "height": 34
        }
      },
      "source": [
        "!ls -n arr*  "
      ],
      "execution_count": 0,
      "outputs": [
        {
          "output_type": "stream",
          "text": [
            "-rw-r--r-- 1 0 0 32 Jan  6 05:26 array.apy\n"
          ],
          "name": "stdout"
        }
      ]
    },
    {
      "cell_type": "code",
      "metadata": {
        "id": "k0sEyTjXT60a",
        "colab_type": "code",
        "colab": {}
      },
      "source": [
        "b = array.array('f')  "
      ],
      "execution_count": 0,
      "outputs": []
    },
    {
      "cell_type": "code",
      "metadata": {
        "id": "51RooSspT60b",
        "colab_type": "code",
        "colab": {}
      },
      "source": [
        "with open('array.apy', 'rb') as f:  \n",
        "    b.fromfile(f, 5)  "
      ],
      "execution_count": 0,
      "outputs": []
    },
    {
      "cell_type": "code",
      "metadata": {
        "id": "CsA1Aq1IT60d",
        "colab_type": "code",
        "outputId": "273fe2b3-79a0-45b1-e86a-d48f8784b210",
        "colab": {
          "base_uri": "https://localhost:8080/",
          "height": 34
        }
      },
      "source": [
        "b  "
      ],
      "execution_count": 0,
      "outputs": [
        {
          "output_type": "execute_result",
          "data": {
            "text/plain": [
              "array('f', [0.5, 0.75, 1.0, 1.5, 2.0])"
            ]
          },
          "metadata": {
            "tags": []
          },
          "execution_count": 27
        }
      ]
    },
    {
      "cell_type": "code",
      "metadata": {
        "id": "QJvKdE_7T60e",
        "colab_type": "code",
        "colab": {}
      },
      "source": [
        "b = array.array('d')  "
      ],
      "execution_count": 0,
      "outputs": []
    },
    {
      "cell_type": "code",
      "metadata": {
        "id": "l2hduRA9T60f",
        "colab_type": "code",
        "colab": {}
      },
      "source": [
        "with open('array.apy', 'rb') as f:\n",
        "    b.fromfile(f, 2)  "
      ],
      "execution_count": 0,
      "outputs": []
    },
    {
      "cell_type": "code",
      "metadata": {
        "id": "K-tSFLH0T60g",
        "colab_type": "code",
        "outputId": "e3759760-249f-44aa-e75c-bc8cde8c4dd0",
        "colab": {
          "base_uri": "https://localhost:8080/",
          "height": 34
        }
      },
      "source": [
        "b  "
      ],
      "execution_count": 0,
      "outputs": [
        {
          "output_type": "execute_result",
          "data": {
            "text/plain": [
              "array('d', [0.0004882813645963324, 0.12500002956949174])"
            ]
          },
          "metadata": {
            "tags": []
          },
          "execution_count": 30
        }
      ]
    },
    {
      "cell_type": "markdown",
      "metadata": {
        "id": "CbzwSokDT60i",
        "colab_type": "text"
      },
      "source": [
        "## Regular NumPy Arrays"
      ]
    },
    {
      "cell_type": "markdown",
      "metadata": {
        "id": "sXrYdQ4ET60i",
        "colab_type": "text"
      },
      "source": [
        "### The Basics"
      ]
    },
    {
      "cell_type": "code",
      "metadata": {
        "uuid": "434dc849-a224-49f3-af1c-466dc48c9258",
        "id": "_3jxpu_cT60i",
        "colab_type": "code",
        "colab": {}
      },
      "source": [
        "import numpy as np  "
      ],
      "execution_count": 0,
      "outputs": []
    },
    {
      "cell_type": "code",
      "metadata": {
        "id": "YnpF5R4rT60k",
        "colab_type": "code",
        "outputId": "4ddfd965-f352-41dd-dedf-d2a41a7480ed",
        "colab": {
          "base_uri": "https://localhost:8080/",
          "height": 34
        }
      },
      "source": [
        "a = np.array([0, 0.5, 1.0, 1.5, 2.0])  \n",
        "a"
      ],
      "execution_count": 0,
      "outputs": [
        {
          "output_type": "execute_result",
          "data": {
            "text/plain": [
              "array([0. , 0.5, 1. , 1.5, 2. ])"
            ]
          },
          "metadata": {
            "tags": []
          },
          "execution_count": 32
        }
      ]
    },
    {
      "cell_type": "code",
      "metadata": {
        "uuid": "a58df3ba-f18e-459d-ac4d-6be84714a2a3",
        "id": "rFWWUeDTT60l",
        "colab_type": "code",
        "outputId": "cbaae90b-af39-414e-94a9-9634230ac735",
        "colab": {
          "base_uri": "https://localhost:8080/",
          "height": 34
        }
      },
      "source": [
        "type(a)  "
      ],
      "execution_count": 0,
      "outputs": [
        {
          "output_type": "execute_result",
          "data": {
            "text/plain": [
              "numpy.ndarray"
            ]
          },
          "metadata": {
            "tags": []
          },
          "execution_count": 33
        }
      ]
    },
    {
      "cell_type": "code",
      "metadata": {
        "id": "vne2udnOT60n",
        "colab_type": "code",
        "outputId": "482b1ef4-b9b8-4e19-81fa-895bea6d9f40",
        "colab": {
          "base_uri": "https://localhost:8080/",
          "height": 34
        }
      },
      "source": [
        "a = np.array(['a', 'b', 'c'])  \n",
        "a"
      ],
      "execution_count": 0,
      "outputs": [
        {
          "output_type": "execute_result",
          "data": {
            "text/plain": [
              "array(['a', 'b', 'c'], dtype='<U1')"
            ]
          },
          "metadata": {
            "tags": []
          },
          "execution_count": 34
        }
      ]
    },
    {
      "cell_type": "code",
      "metadata": {
        "uuid": "a58df3ba-f18e-459d-ac4d-6be84714a2a3",
        "id": "9XD9QE2kT60o",
        "colab_type": "code",
        "outputId": "5cad0f93-b334-48a3-8874-77ae874f17dd",
        "colab": {
          "base_uri": "https://localhost:8080/",
          "height": 34
        }
      },
      "source": [
        "a = np.arange(2, 20, 2)  \n",
        "a"
      ],
      "execution_count": 0,
      "outputs": [
        {
          "output_type": "execute_result",
          "data": {
            "text/plain": [
              "array([ 2,  4,  6,  8, 10, 12, 14, 16, 18])"
            ]
          },
          "metadata": {
            "tags": []
          },
          "execution_count": 35
        }
      ]
    },
    {
      "cell_type": "code",
      "metadata": {
        "uuid": "a58df3ba-f18e-459d-ac4d-6be84714a2a3",
        "id": "F0V2V1eVT60p",
        "colab_type": "code",
        "outputId": "162fe565-f1dc-41a9-8d3e-aef5a38fcc51",
        "colab": {
          "base_uri": "https://localhost:8080/",
          "height": 34
        }
      },
      "source": [
        "a = np.arange(8, dtype=np.float)  \n",
        "a"
      ],
      "execution_count": 0,
      "outputs": [
        {
          "output_type": "execute_result",
          "data": {
            "text/plain": [
              "array([0., 1., 2., 3., 4., 5., 6., 7.])"
            ]
          },
          "metadata": {
            "tags": []
          },
          "execution_count": 36
        }
      ]
    },
    {
      "cell_type": "code",
      "metadata": {
        "uuid": "c6c73402-ed3b-4ea1-b62e-06dca996e713",
        "id": "YtQAEQjjT60q",
        "colab_type": "code",
        "outputId": "39f7332a-8493-4e64-b7c2-13efa4ede76e",
        "colab": {
          "base_uri": "https://localhost:8080/",
          "height": 34
        }
      },
      "source": [
        "a[5:]  "
      ],
      "execution_count": 0,
      "outputs": [
        {
          "output_type": "execute_result",
          "data": {
            "text/plain": [
              "array([5., 6., 7.])"
            ]
          },
          "metadata": {
            "tags": []
          },
          "execution_count": 37
        }
      ]
    },
    {
      "cell_type": "code",
      "metadata": {
        "id": "avMP_Kk7T60s",
        "colab_type": "code",
        "outputId": "20692a9c-7e21-409f-bc5f-68cbbe5e142e",
        "colab": {
          "base_uri": "https://localhost:8080/",
          "height": 34
        }
      },
      "source": [
        "a[:2]  "
      ],
      "execution_count": 0,
      "outputs": [
        {
          "output_type": "execute_result",
          "data": {
            "text/plain": [
              "array([0., 1.])"
            ]
          },
          "metadata": {
            "tags": []
          },
          "execution_count": 38
        }
      ]
    },
    {
      "cell_type": "code",
      "metadata": {
        "uuid": "f167bdb8-6673-4520-bd34-e2428ede6ad7",
        "id": "-qXTAQEET60u",
        "colab_type": "code",
        "outputId": "9a63861b-1b49-4e36-de08-29d5b420b872",
        "colab": {
          "base_uri": "https://localhost:8080/",
          "height": 34
        }
      },
      "source": [
        "a.sum()  "
      ],
      "execution_count": 0,
      "outputs": [
        {
          "output_type": "execute_result",
          "data": {
            "text/plain": [
              "28.0"
            ]
          },
          "metadata": {
            "tags": []
          },
          "execution_count": 39
        }
      ]
    },
    {
      "cell_type": "code",
      "metadata": {
        "uuid": "0eafbb03-0cc4-4dd7-a177-9d8f2f8a32be",
        "id": "dAITMSRrT60v",
        "colab_type": "code",
        "outputId": "d15ce27d-e8a7-4aef-c0a0-8ef2ca607ae1",
        "colab": {
          "base_uri": "https://localhost:8080/",
          "height": 34
        }
      },
      "source": [
        "a.std()  "
      ],
      "execution_count": 0,
      "outputs": [
        {
          "output_type": "execute_result",
          "data": {
            "text/plain": [
              "2.29128784747792"
            ]
          },
          "metadata": {
            "tags": []
          },
          "execution_count": 40
        }
      ]
    },
    {
      "cell_type": "code",
      "metadata": {
        "uuid": "9eda9efe-4e85-4bc2-8df3-edd8ab40c7f2",
        "id": "2iB_piEzT60w",
        "colab_type": "code",
        "outputId": "69f2d35f-2467-4ac9-ad66-84bc30f06a2e",
        "colab": {
          "base_uri": "https://localhost:8080/",
          "height": 34
        }
      },
      "source": [
        "a.cumsum()  "
      ],
      "execution_count": 0,
      "outputs": [
        {
          "output_type": "execute_result",
          "data": {
            "text/plain": [
              "array([ 0.,  1.,  3.,  6., 10., 15., 21., 28.])"
            ]
          },
          "metadata": {
            "tags": []
          },
          "execution_count": 41
        }
      ]
    },
    {
      "cell_type": "code",
      "metadata": {
        "id": "NQw4_iA1T60y",
        "colab_type": "code",
        "outputId": "f2a57972-6ebe-40cb-f53d-b26f2f1fb8d3",
        "colab": {
          "base_uri": "https://localhost:8080/",
          "height": 34
        }
      },
      "source": [
        "l = [0., 0.5, 1.5, 3., 5.]\n",
        "2 * l  "
      ],
      "execution_count": 0,
      "outputs": [
        {
          "output_type": "execute_result",
          "data": {
            "text/plain": [
              "[0.0, 0.5, 1.5, 3.0, 5.0, 0.0, 0.5, 1.5, 3.0, 5.0]"
            ]
          },
          "metadata": {
            "tags": []
          },
          "execution_count": 42
        }
      ]
    },
    {
      "cell_type": "code",
      "metadata": {
        "id": "rQsW2TA2T60z",
        "colab_type": "code",
        "outputId": "2e1fffee-9959-4566-f661-a70aa111c71a",
        "colab": {
          "base_uri": "https://localhost:8080/",
          "height": 34
        }
      },
      "source": [
        "a"
      ],
      "execution_count": 0,
      "outputs": [
        {
          "output_type": "execute_result",
          "data": {
            "text/plain": [
              "array([0., 1., 2., 3., 4., 5., 6., 7.])"
            ]
          },
          "metadata": {
            "tags": []
          },
          "execution_count": 43
        }
      ]
    },
    {
      "cell_type": "code",
      "metadata": {
        "uuid": "94ddb4ba-eb2b-4565-80cf-247db6dc5846",
        "id": "l86t_L97T600",
        "colab_type": "code",
        "outputId": "4aac7d8b-fd86-4492-b053-3f33144fa298",
        "colab": {
          "base_uri": "https://localhost:8080/",
          "height": 34
        }
      },
      "source": [
        "2 * a  "
      ],
      "execution_count": 0,
      "outputs": [
        {
          "output_type": "execute_result",
          "data": {
            "text/plain": [
              "array([ 0.,  2.,  4.,  6.,  8., 10., 12., 14.])"
            ]
          },
          "metadata": {
            "tags": []
          },
          "execution_count": 44
        }
      ]
    },
    {
      "cell_type": "code",
      "metadata": {
        "uuid": "5c5f7bd8-b48b-4e8e-b6c8-95b67c9deed0",
        "id": "1yr8m1afT601",
        "colab_type": "code",
        "outputId": "c80efd6c-b4f9-48e4-d98e-280e95e9c879",
        "colab": {
          "base_uri": "https://localhost:8080/",
          "height": 34
        }
      },
      "source": [
        "a ** 2  "
      ],
      "execution_count": 0,
      "outputs": [
        {
          "output_type": "execute_result",
          "data": {
            "text/plain": [
              "array([ 0.,  1.,  4.,  9., 16., 25., 36., 49.])"
            ]
          },
          "metadata": {
            "tags": []
          },
          "execution_count": 45
        }
      ]
    },
    {
      "cell_type": "code",
      "metadata": {
        "id": "ZJlnYaJBT603",
        "colab_type": "code",
        "outputId": "cc249820-a028-43d9-bad7-4a36fc960f79",
        "colab": {
          "base_uri": "https://localhost:8080/",
          "height": 34
        }
      },
      "source": [
        "2 ** a  "
      ],
      "execution_count": 0,
      "outputs": [
        {
          "output_type": "execute_result",
          "data": {
            "text/plain": [
              "array([  1.,   2.,   4.,   8.,  16.,  32.,  64., 128.])"
            ]
          },
          "metadata": {
            "tags": []
          },
          "execution_count": 46
        }
      ]
    },
    {
      "cell_type": "code",
      "metadata": {
        "id": "cxTcmSYbT604",
        "colab_type": "code",
        "outputId": "49bb98fd-6e64-4798-a79d-bf6527ec7e99",
        "colab": {
          "base_uri": "https://localhost:8080/",
          "height": 51
        }
      },
      "source": [
        "a ** a  "
      ],
      "execution_count": 0,
      "outputs": [
        {
          "output_type": "execute_result",
          "data": {
            "text/plain": [
              "array([1.00000e+00, 1.00000e+00, 4.00000e+00, 2.70000e+01, 2.56000e+02,\n",
              "       3.12500e+03, 4.66560e+04, 8.23543e+05])"
            ]
          },
          "metadata": {
            "tags": []
          },
          "execution_count": 47
        }
      ]
    },
    {
      "cell_type": "code",
      "metadata": {
        "id": "Y0M9FDjmT606",
        "colab_type": "code",
        "outputId": "6c5cb5b6-cd73-4a9c-be58-61b74658ce3a",
        "colab": {
          "base_uri": "https://localhost:8080/",
          "height": 51
        }
      },
      "source": [
        "np.exp(a)  "
      ],
      "execution_count": 0,
      "outputs": [
        {
          "output_type": "execute_result",
          "data": {
            "text/plain": [
              "array([1.00000000e+00, 2.71828183e+00, 7.38905610e+00, 2.00855369e+01,\n",
              "       5.45981500e+01, 1.48413159e+02, 4.03428793e+02, 1.09663316e+03])"
            ]
          },
          "metadata": {
            "tags": []
          },
          "execution_count": 48
        }
      ]
    },
    {
      "cell_type": "code",
      "metadata": {
        "uuid": "eccae4a8-18fc-4362-8089-faed41fe558a",
        "id": "jeJt352uT609",
        "colab_type": "code",
        "outputId": "7ad664b6-cbbd-4810-cded-84a4ae455184",
        "colab": {
          "base_uri": "https://localhost:8080/",
          "height": 51
        }
      },
      "source": [
        "np.sqrt(a)  "
      ],
      "execution_count": 0,
      "outputs": [
        {
          "output_type": "execute_result",
          "data": {
            "text/plain": [
              "array([0.        , 1.        , 1.41421356, 1.73205081, 2.        ,\n",
              "       2.23606798, 2.44948974, 2.64575131])"
            ]
          },
          "metadata": {
            "tags": []
          },
          "execution_count": 49
        }
      ]
    },
    {
      "cell_type": "code",
      "metadata": {
        "id": "C2lfVoQVT61A",
        "colab_type": "code",
        "outputId": "381132af-0136-45b2-d546-5003fe283faf",
        "colab": {
          "base_uri": "https://localhost:8080/",
          "height": 34
        }
      },
      "source": [
        "np.sqrt(2.5)  "
      ],
      "execution_count": 0,
      "outputs": [
        {
          "output_type": "execute_result",
          "data": {
            "text/plain": [
              "1.5811388300841898"
            ]
          },
          "metadata": {
            "tags": []
          },
          "execution_count": 50
        }
      ]
    },
    {
      "cell_type": "code",
      "metadata": {
        "id": "9e-I6M5ZT61B",
        "colab_type": "code",
        "colab": {}
      },
      "source": [
        "import math  "
      ],
      "execution_count": 0,
      "outputs": []
    },
    {
      "cell_type": "code",
      "metadata": {
        "id": "11FNZNkZT61C",
        "colab_type": "code",
        "outputId": "81ca84b2-2adb-4781-9168-135b43ce07f7",
        "colab": {
          "base_uri": "https://localhost:8080/",
          "height": 34
        }
      },
      "source": [
        "math.sqrt(2.5)  "
      ],
      "execution_count": 0,
      "outputs": [
        {
          "output_type": "execute_result",
          "data": {
            "text/plain": [
              "1.5811388300841898"
            ]
          },
          "metadata": {
            "tags": []
          },
          "execution_count": 52
        }
      ]
    },
    {
      "cell_type": "code",
      "metadata": {
        "id": "p9eD29OET61D",
        "colab_type": "code",
        "colab": {}
      },
      "source": [
        "# causes intentional error\n",
        "# math.sqrt(a)  "
      ],
      "execution_count": 0,
      "outputs": []
    },
    {
      "cell_type": "code",
      "metadata": {
        "id": "Xu_TdHbKT61E",
        "colab_type": "code",
        "outputId": "b9db1f8e-3a5f-4557-e6ab-08506858a6ac",
        "colab": {
          "base_uri": "https://localhost:8080/",
          "height": 51
        }
      },
      "source": [
        "%timeit np.sqrt(2.5)  "
      ],
      "execution_count": 0,
      "outputs": [
        {
          "output_type": "stream",
          "text": [
            "The slowest run took 32.52 times longer than the fastest. This could mean that an intermediate result is being cached.\n",
            "1000000 loops, best of 3: 845 ns per loop\n"
          ],
          "name": "stdout"
        }
      ]
    },
    {
      "cell_type": "code",
      "metadata": {
        "id": "i7SWU8JUT61F",
        "colab_type": "code",
        "outputId": "d8d6a6fd-2a2d-494b-f7d6-7b635a80fe72",
        "colab": {
          "base_uri": "https://localhost:8080/",
          "height": 51
        }
      },
      "source": [
        "%timeit math.sqrt(2.5)  "
      ],
      "execution_count": 0,
      "outputs": [
        {
          "output_type": "stream",
          "text": [
            "The slowest run took 30.77 times longer than the fastest. This could mean that an intermediate result is being cached.\n",
            "10000000 loops, best of 3: 68.4 ns per loop\n"
          ],
          "name": "stdout"
        }
      ]
    },
    {
      "cell_type": "markdown",
      "metadata": {
        "id": "gel7M23pT61H",
        "colab_type": "text"
      },
      "source": [
        "### Multiple Dimensions"
      ]
    },
    {
      "cell_type": "code",
      "metadata": {
        "uuid": "3d05357c-109d-45c7-b10b-fe6c958fd33d",
        "id": "o-8yYbB3T61H",
        "colab_type": "code",
        "outputId": "2d37b912-609b-4d95-be73-df405e831e9b",
        "colab": {
          "base_uri": "https://localhost:8080/",
          "height": 51
        }
      },
      "source": [
        "b = np.array([a, a * 2])  \n",
        "b"
      ],
      "execution_count": 0,
      "outputs": [
        {
          "output_type": "execute_result",
          "data": {
            "text/plain": [
              "array([[ 0.,  1.,  2.,  3.,  4.,  5.,  6.,  7.],\n",
              "       [ 0.,  2.,  4.,  6.,  8., 10., 12., 14.]])"
            ]
          },
          "metadata": {
            "tags": []
          },
          "execution_count": 56
        }
      ]
    },
    {
      "cell_type": "code",
      "metadata": {
        "uuid": "e536d513-ddb7-469d-9ad4-3abbc5cbf006",
        "id": "kkMhYjn6T61I",
        "colab_type": "code",
        "outputId": "b796a540-eb10-4171-e7cf-418282ed3dcc",
        "colab": {
          "base_uri": "https://localhost:8080/",
          "height": 34
        }
      },
      "source": [
        "b[0]  "
      ],
      "execution_count": 0,
      "outputs": [
        {
          "output_type": "execute_result",
          "data": {
            "text/plain": [
              "array([0., 1., 2., 3., 4., 5., 6., 7.])"
            ]
          },
          "metadata": {
            "tags": []
          },
          "execution_count": 57
        }
      ]
    },
    {
      "cell_type": "code",
      "metadata": {
        "uuid": "d1d0c7dd-aadb-4217-b3ea-927f28f51300",
        "id": "rqt1oAU-T61J",
        "colab_type": "code",
        "outputId": "098d6eba-02b4-4cff-aef5-195cc19b3020",
        "colab": {
          "base_uri": "https://localhost:8080/",
          "height": 34
        }
      },
      "source": [
        "b[0, 2]  "
      ],
      "execution_count": 0,
      "outputs": [
        {
          "output_type": "execute_result",
          "data": {
            "text/plain": [
              "2.0"
            ]
          },
          "metadata": {
            "tags": []
          },
          "execution_count": 58
        }
      ]
    },
    {
      "cell_type": "code",
      "metadata": {
        "id": "YQKhCmyXT61K",
        "colab_type": "code",
        "outputId": "26e05ebc-ad07-4f39-cc20-b4d2afc29e9a",
        "colab": {
          "base_uri": "https://localhost:8080/",
          "height": 34
        }
      },
      "source": [
        "b[:, 1]  "
      ],
      "execution_count": 0,
      "outputs": [
        {
          "output_type": "execute_result",
          "data": {
            "text/plain": [
              "array([1., 2.])"
            ]
          },
          "metadata": {
            "tags": []
          },
          "execution_count": 59
        }
      ]
    },
    {
      "cell_type": "code",
      "metadata": {
        "uuid": "41b3d64b-6121-4578-b33c-f9bef4d23ddb",
        "id": "NhJNMM4KT61L",
        "colab_type": "code",
        "outputId": "bc6a0f01-ec27-4486-f1fb-dd87ff826fb5",
        "colab": {
          "base_uri": "https://localhost:8080/",
          "height": 34
        }
      },
      "source": [
        "b.sum()  "
      ],
      "execution_count": 0,
      "outputs": [
        {
          "output_type": "execute_result",
          "data": {
            "text/plain": [
              "84.0"
            ]
          },
          "metadata": {
            "tags": []
          },
          "execution_count": 60
        }
      ]
    },
    {
      "cell_type": "code",
      "metadata": {
        "uuid": "ba56b01a-cf24-4bee-be04-cdadd59a6cb5",
        "id": "omskktEvT61M",
        "colab_type": "code",
        "outputId": "a00445b4-249e-4846-f6df-51ddaf9257e3",
        "colab": {
          "base_uri": "https://localhost:8080/",
          "height": 34
        }
      },
      "source": [
        "b.sum(axis=0)  "
      ],
      "execution_count": 0,
      "outputs": [
        {
          "output_type": "execute_result",
          "data": {
            "text/plain": [
              "array([ 0.,  3.,  6.,  9., 12., 15., 18., 21.])"
            ]
          },
          "metadata": {
            "tags": []
          },
          "execution_count": 61
        }
      ]
    },
    {
      "cell_type": "code",
      "metadata": {
        "uuid": "898c4a09-4488-4041-94a3-ea25cbd86637",
        "id": "aGX4Hj_sT61N",
        "colab_type": "code",
        "outputId": "101435fe-d5e5-4f57-d9e2-af39a1fcfd3d",
        "colab": {
          "base_uri": "https://localhost:8080/",
          "height": 34
        }
      },
      "source": [
        "b.sum(axis=1)  "
      ],
      "execution_count": 0,
      "outputs": [
        {
          "output_type": "execute_result",
          "data": {
            "text/plain": [
              "array([28., 56.])"
            ]
          },
          "metadata": {
            "tags": []
          },
          "execution_count": 62
        }
      ]
    },
    {
      "cell_type": "code",
      "metadata": {
        "uuid": "6d7362b7-dda8-4961-8be1-96da9b1718cf",
        "id": "pfSmuK12T61P",
        "colab_type": "code",
        "outputId": "59ea066f-d71a-4935-d048-94498ec1ceab",
        "colab": {
          "base_uri": "https://localhost:8080/",
          "height": 51
        }
      },
      "source": [
        "c = np.zeros((2, 3), dtype='i', order='C')  \n",
        "c"
      ],
      "execution_count": 0,
      "outputs": [
        {
          "output_type": "execute_result",
          "data": {
            "text/plain": [
              "array([[0, 0, 0],\n",
              "       [0, 0, 0]], dtype=int32)"
            ]
          },
          "metadata": {
            "tags": []
          },
          "execution_count": 63
        }
      ]
    },
    {
      "cell_type": "code",
      "metadata": {
        "uuid": "6d7362b7-dda8-4961-8be1-96da9b1718cf",
        "id": "z8SfzweVT61Q",
        "colab_type": "code",
        "outputId": "d3c250e8-774a-431a-f70f-def4611aaf35",
        "colab": {
          "base_uri": "https://localhost:8080/",
          "height": 136
        }
      },
      "source": [
        "c = np.ones((2, 3, 4), dtype='i', order='C')  \n",
        "c"
      ],
      "execution_count": 0,
      "outputs": [
        {
          "output_type": "execute_result",
          "data": {
            "text/plain": [
              "array([[[1, 1, 1, 1],\n",
              "        [1, 1, 1, 1],\n",
              "        [1, 1, 1, 1]],\n",
              "\n",
              "       [[1, 1, 1, 1],\n",
              "        [1, 1, 1, 1],\n",
              "        [1, 1, 1, 1]]], dtype=int32)"
            ]
          },
          "metadata": {
            "tags": []
          },
          "execution_count": 64
        }
      ]
    },
    {
      "cell_type": "code",
      "metadata": {
        "uuid": "0d4862fd-4847-4dd7-b8cd-e6966bbd5913",
        "id": "uVnJo8r0T61R",
        "colab_type": "code",
        "outputId": "e8c69466-cd1e-4386-d7e3-077a0a78dde1",
        "colab": {
          "base_uri": "https://localhost:8080/",
          "height": 136
        }
      },
      "source": [
        "d = np.zeros_like(c, dtype='f16', order='C')  \n",
        "d"
      ],
      "execution_count": 0,
      "outputs": [
        {
          "output_type": "execute_result",
          "data": {
            "text/plain": [
              "array([[[0., 0., 0., 0.],\n",
              "        [0., 0., 0., 0.],\n",
              "        [0., 0., 0., 0.]],\n",
              "\n",
              "       [[0., 0., 0., 0.],\n",
              "        [0., 0., 0., 0.],\n",
              "        [0., 0., 0., 0.]]], dtype=float128)"
            ]
          },
          "metadata": {
            "tags": []
          },
          "execution_count": 65
        }
      ]
    },
    {
      "cell_type": "code",
      "metadata": {
        "uuid": "0d4862fd-4847-4dd7-b8cd-e6966bbd5913",
        "id": "RAxckZy2T61S",
        "colab_type": "code",
        "outputId": "26ee1fc0-9e64-4e3a-920c-25c7dd17d88b",
        "colab": {
          "base_uri": "https://localhost:8080/",
          "height": 136
        }
      },
      "source": [
        "d = np.ones_like(c, dtype='f16', order='C')  \n",
        "d"
      ],
      "execution_count": 0,
      "outputs": [
        {
          "output_type": "execute_result",
          "data": {
            "text/plain": [
              "array([[[1., 1., 1., 1.],\n",
              "        [1., 1., 1., 1.],\n",
              "        [1., 1., 1., 1.]],\n",
              "\n",
              "       [[1., 1., 1., 1.],\n",
              "        [1., 1., 1., 1.],\n",
              "        [1., 1., 1., 1.]]], dtype=float128)"
            ]
          },
          "metadata": {
            "tags": []
          },
          "execution_count": 66
        }
      ]
    },
    {
      "cell_type": "code",
      "metadata": {
        "id": "taFilgNwT61T",
        "colab_type": "code",
        "outputId": "77af563b-b1aa-425e-de62-164ed13c3b06",
        "colab": {
          "base_uri": "https://localhost:8080/",
          "height": 136
        }
      },
      "source": [
        "e = np.empty((2, 3, 2))  \n",
        "e"
      ],
      "execution_count": 0,
      "outputs": [
        {
          "output_type": "execute_result",
          "data": {
            "text/plain": [
              "array([[[3.40386566e-316, 2.42092166e-322],\n",
              "        [0.00000000e+000, 0.00000000e+000],\n",
              "        [0.00000000e+000, 5.49914502e-143]],\n",
              "\n",
              "       [[8.02684521e+165, 5.23081515e-143],\n",
              "        [4.27255605e+180, 8.02684521e+165],\n",
              "        [5.89948390e+294, 1.46070508e-319]]])"
            ]
          },
          "metadata": {
            "tags": []
          },
          "execution_count": 67
        }
      ]
    },
    {
      "cell_type": "code",
      "metadata": {
        "id": "Q0-sjKHwT61U",
        "colab_type": "code",
        "outputId": "9354dd4d-2ed0-46c4-be19-731b97711b0e",
        "colab": {
          "base_uri": "https://localhost:8080/",
          "height": 136
        }
      },
      "source": [
        "f = np.empty_like(c)  \n",
        "f"
      ],
      "execution_count": 0,
      "outputs": [
        {
          "output_type": "execute_result",
          "data": {
            "text/plain": [
              "array([[[  68895008,          0,         49,          0],\n",
              "        [         0,          0,          0,          0],\n",
              "        [         0,          0, 1635132027,  577074540]],\n",
              "\n",
              "       [[1663204154, 1650551919, 1735617887,  577005919],\n",
              "        [ 573321786, 1701869940, 1663187490, 1650551919],\n",
              "        [1885696607, 2099411308,      29565,          0]]], dtype=int32)"
            ]
          },
          "metadata": {
            "tags": []
          },
          "execution_count": 68
        }
      ]
    },
    {
      "cell_type": "code",
      "metadata": {
        "id": "sMAffxRgT61V",
        "colab_type": "code",
        "outputId": "a871161d-aac6-427b-a3e7-5e4a0943d332",
        "colab": {
          "base_uri": "https://localhost:8080/",
          "height": 102
        }
      },
      "source": [
        "np.eye(5)  "
      ],
      "execution_count": 0,
      "outputs": [
        {
          "output_type": "execute_result",
          "data": {
            "text/plain": [
              "array([[1., 0., 0., 0., 0.],\n",
              "       [0., 1., 0., 0., 0.],\n",
              "       [0., 0., 1., 0., 0.],\n",
              "       [0., 0., 0., 1., 0.],\n",
              "       [0., 0., 0., 0., 1.]])"
            ]
          },
          "metadata": {
            "tags": []
          },
          "execution_count": 69
        }
      ]
    },
    {
      "cell_type": "code",
      "metadata": {
        "id": "YhTYNwCTT61X",
        "colab_type": "code",
        "outputId": "c60a0448-0de5-4326-8719-f31ae4f78998",
        "colab": {
          "base_uri": "https://localhost:8080/",
          "height": 68
        }
      },
      "source": [
        "g = np.linspace(5, 15, 12) \n",
        "g"
      ],
      "execution_count": 0,
      "outputs": [
        {
          "output_type": "execute_result",
          "data": {
            "text/plain": [
              "array([ 5.        ,  5.90909091,  6.81818182,  7.72727273,  8.63636364,\n",
              "        9.54545455, 10.45454545, 11.36363636, 12.27272727, 13.18181818,\n",
              "       14.09090909, 15.        ])"
            ]
          },
          "metadata": {
            "tags": []
          },
          "execution_count": 70
        }
      ]
    },
    {
      "cell_type": "markdown",
      "metadata": {
        "id": "Ntg5oREaT61Z",
        "colab_type": "text"
      },
      "source": [
        "### Meta-Information"
      ]
    },
    {
      "cell_type": "code",
      "metadata": {
        "id": "ser7rsXxT61a",
        "colab_type": "code",
        "outputId": "662456b9-2214-4a37-b32f-5f65d5056e5c",
        "colab": {
          "base_uri": "https://localhost:8080/",
          "height": 34
        }
      },
      "source": [
        "g.size  "
      ],
      "execution_count": 0,
      "outputs": [
        {
          "output_type": "execute_result",
          "data": {
            "text/plain": [
              "12"
            ]
          },
          "metadata": {
            "tags": []
          },
          "execution_count": 71
        }
      ]
    },
    {
      "cell_type": "code",
      "metadata": {
        "id": "F65QExRKT61b",
        "colab_type": "code",
        "outputId": "aeafb084-0662-4710-de77-4958d771bc12",
        "colab": {
          "base_uri": "https://localhost:8080/",
          "height": 34
        }
      },
      "source": [
        "g.itemsize  "
      ],
      "execution_count": 0,
      "outputs": [
        {
          "output_type": "execute_result",
          "data": {
            "text/plain": [
              "8"
            ]
          },
          "metadata": {
            "tags": []
          },
          "execution_count": 72
        }
      ]
    },
    {
      "cell_type": "code",
      "metadata": {
        "id": "vGMd5vS9T61c",
        "colab_type": "code",
        "outputId": "f7750b92-076d-490e-8b24-5ee34152adff",
        "colab": {
          "base_uri": "https://localhost:8080/",
          "height": 34
        }
      },
      "source": [
        "g.ndim  "
      ],
      "execution_count": 0,
      "outputs": [
        {
          "output_type": "execute_result",
          "data": {
            "text/plain": [
              "1"
            ]
          },
          "metadata": {
            "tags": []
          },
          "execution_count": 73
        }
      ]
    },
    {
      "cell_type": "code",
      "metadata": {
        "id": "R0RLI1oJT61d",
        "colab_type": "code",
        "outputId": "3a1c5fea-db98-4add-f3a4-7e2e4fc0d8ae",
        "colab": {
          "base_uri": "https://localhost:8080/",
          "height": 34
        }
      },
      "source": [
        "g.shape  "
      ],
      "execution_count": 0,
      "outputs": [
        {
          "output_type": "execute_result",
          "data": {
            "text/plain": [
              "(12,)"
            ]
          },
          "metadata": {
            "tags": []
          },
          "execution_count": 74
        }
      ]
    },
    {
      "cell_type": "code",
      "metadata": {
        "id": "jOiQvmHLT61e",
        "colab_type": "code",
        "outputId": "6ba29bdb-8613-4f5a-8a2a-6f7800ecaa89",
        "colab": {
          "base_uri": "https://localhost:8080/",
          "height": 34
        }
      },
      "source": [
        "g.dtype  "
      ],
      "execution_count": 0,
      "outputs": [
        {
          "output_type": "execute_result",
          "data": {
            "text/plain": [
              "dtype('float64')"
            ]
          },
          "metadata": {
            "tags": []
          },
          "execution_count": 75
        }
      ]
    },
    {
      "cell_type": "code",
      "metadata": {
        "id": "0goj2pVfT61f",
        "colab_type": "code",
        "outputId": "a3fa13c6-0ab7-4531-a0fa-f08e7908a72d",
        "colab": {
          "base_uri": "https://localhost:8080/",
          "height": 34
        }
      },
      "source": [
        "g.nbytes  "
      ],
      "execution_count": 0,
      "outputs": [
        {
          "output_type": "execute_result",
          "data": {
            "text/plain": [
              "96"
            ]
          },
          "metadata": {
            "tags": []
          },
          "execution_count": 76
        }
      ]
    },
    {
      "cell_type": "markdown",
      "metadata": {
        "id": "NC970XAxT61h",
        "colab_type": "text"
      },
      "source": [
        "### Reshaping, Resizing, Stacking, Flattening"
      ]
    },
    {
      "cell_type": "code",
      "metadata": {
        "id": "hI1n5zWFT61h",
        "colab_type": "code",
        "colab": {}
      },
      "source": [
        "g = np.arange(15)"
      ],
      "execution_count": 0,
      "outputs": []
    },
    {
      "cell_type": "code",
      "metadata": {
        "id": "_OjZB9qBT61i",
        "colab_type": "code",
        "outputId": "bef00d84-da25-4724-ee7e-bbc357e1ed04",
        "colab": {
          "base_uri": "https://localhost:8080/",
          "height": 34
        }
      },
      "source": [
        "g"
      ],
      "execution_count": 0,
      "outputs": [
        {
          "output_type": "execute_result",
          "data": {
            "text/plain": [
              "array([ 0,  1,  2,  3,  4,  5,  6,  7,  8,  9, 10, 11, 12, 13, 14])"
            ]
          },
          "metadata": {
            "tags": []
          },
          "execution_count": 78
        }
      ]
    },
    {
      "cell_type": "code",
      "metadata": {
        "id": "3VqBkdfvT61j",
        "colab_type": "code",
        "outputId": "a1e6cc5c-4c47-4479-a378-e1ce4d5f81f4",
        "colab": {
          "base_uri": "https://localhost:8080/",
          "height": 34
        }
      },
      "source": [
        "g.shape  "
      ],
      "execution_count": 0,
      "outputs": [
        {
          "output_type": "execute_result",
          "data": {
            "text/plain": [
              "(15,)"
            ]
          },
          "metadata": {
            "tags": []
          },
          "execution_count": 79
        }
      ]
    },
    {
      "cell_type": "code",
      "metadata": {
        "id": "huqokYBDT61k",
        "colab_type": "code",
        "outputId": "8804304f-7446-4c0f-fb97-7ead1fd2bf76",
        "colab": {
          "base_uri": "https://localhost:8080/",
          "height": 34
        }
      },
      "source": [
        "np.shape(g) "
      ],
      "execution_count": 0,
      "outputs": [
        {
          "output_type": "execute_result",
          "data": {
            "text/plain": [
              "(15,)"
            ]
          },
          "metadata": {
            "tags": []
          },
          "execution_count": 80
        }
      ]
    },
    {
      "cell_type": "code",
      "metadata": {
        "id": "epiCwBRGT61l",
        "colab_type": "code",
        "outputId": "e6b38ad9-3da9-4a09-c776-8715b8383b35",
        "colab": {
          "base_uri": "https://localhost:8080/",
          "height": 68
        }
      },
      "source": [
        "g.reshape((3, 5))  "
      ],
      "execution_count": 0,
      "outputs": [
        {
          "output_type": "execute_result",
          "data": {
            "text/plain": [
              "array([[ 0,  1,  2,  3,  4],\n",
              "       [ 5,  6,  7,  8,  9],\n",
              "       [10, 11, 12, 13, 14]])"
            ]
          },
          "metadata": {
            "tags": []
          },
          "execution_count": 81
        }
      ]
    },
    {
      "cell_type": "code",
      "metadata": {
        "id": "4bKqqZCjT61m",
        "colab_type": "code",
        "outputId": "5fc8c2d9-e83a-4473-f770-f15a50723205",
        "colab": {
          "base_uri": "https://localhost:8080/",
          "height": 102
        }
      },
      "source": [
        "h = g.reshape((5, 3))  \n",
        "h"
      ],
      "execution_count": 0,
      "outputs": [
        {
          "output_type": "execute_result",
          "data": {
            "text/plain": [
              "array([[ 0,  1,  2],\n",
              "       [ 3,  4,  5],\n",
              "       [ 6,  7,  8],\n",
              "       [ 9, 10, 11],\n",
              "       [12, 13, 14]])"
            ]
          },
          "metadata": {
            "tags": []
          },
          "execution_count": 82
        }
      ]
    },
    {
      "cell_type": "code",
      "metadata": {
        "id": "StwHnObfT61n",
        "colab_type": "code",
        "outputId": "1f2c93f9-d727-44c6-ea30-ac11f397ad91",
        "colab": {
          "base_uri": "https://localhost:8080/",
          "height": 68
        }
      },
      "source": [
        "h.T  "
      ],
      "execution_count": 0,
      "outputs": [
        {
          "output_type": "execute_result",
          "data": {
            "text/plain": [
              "array([[ 0,  3,  6,  9, 12],\n",
              "       [ 1,  4,  7, 10, 13],\n",
              "       [ 2,  5,  8, 11, 14]])"
            ]
          },
          "metadata": {
            "tags": []
          },
          "execution_count": 83
        }
      ]
    },
    {
      "cell_type": "code",
      "metadata": {
        "id": "dXAl0MoxT61o",
        "colab_type": "code",
        "outputId": "b9ad86f1-5cef-4382-ca40-16583007e52a",
        "colab": {
          "base_uri": "https://localhost:8080/",
          "height": 68
        }
      },
      "source": [
        "h.transpose()  "
      ],
      "execution_count": 0,
      "outputs": [
        {
          "output_type": "execute_result",
          "data": {
            "text/plain": [
              "array([[ 0,  3,  6,  9, 12],\n",
              "       [ 1,  4,  7, 10, 13],\n",
              "       [ 2,  5,  8, 11, 14]])"
            ]
          },
          "metadata": {
            "tags": []
          },
          "execution_count": 84
        }
      ]
    },
    {
      "cell_type": "code",
      "metadata": {
        "id": "lF5dhLfhT61t",
        "colab_type": "code",
        "outputId": "29b2fa04-8b03-4596-abce-b758839324b9",
        "colab": {
          "base_uri": "https://localhost:8080/",
          "height": 34
        }
      },
      "source": [
        "g"
      ],
      "execution_count": 0,
      "outputs": [
        {
          "output_type": "execute_result",
          "data": {
            "text/plain": [
              "array([ 0,  1,  2,  3,  4,  5,  6,  7,  8,  9, 10, 11, 12, 13, 14])"
            ]
          },
          "metadata": {
            "tags": []
          },
          "execution_count": 85
        }
      ]
    },
    {
      "cell_type": "code",
      "metadata": {
        "id": "9rrNV5uBT61t",
        "colab_type": "code",
        "outputId": "86244c65-1808-40d9-cf6d-88fb18a59c77",
        "colab": {
          "base_uri": "https://localhost:8080/",
          "height": 68
        }
      },
      "source": [
        "np.resize(g, (3, 1))  "
      ],
      "execution_count": 0,
      "outputs": [
        {
          "output_type": "execute_result",
          "data": {
            "text/plain": [
              "array([[0],\n",
              "       [1],\n",
              "       [2]])"
            ]
          },
          "metadata": {
            "tags": []
          },
          "execution_count": 86
        }
      ]
    },
    {
      "cell_type": "code",
      "metadata": {
        "id": "a1fVe1rcT61u",
        "colab_type": "code",
        "outputId": "15adb384-aa2b-4a42-b455-fdfdd89212ed",
        "colab": {
          "base_uri": "https://localhost:8080/",
          "height": 34
        }
      },
      "source": [
        "np.resize(g, (1, 5))  "
      ],
      "execution_count": 0,
      "outputs": [
        {
          "output_type": "execute_result",
          "data": {
            "text/plain": [
              "array([[0, 1, 2, 3, 4]])"
            ]
          },
          "metadata": {
            "tags": []
          },
          "execution_count": 87
        }
      ]
    },
    {
      "cell_type": "code",
      "metadata": {
        "id": "RkKJDfe3T61v",
        "colab_type": "code",
        "outputId": "2bc47bbb-c3f2-43a5-ccc2-b6c61a7e9421",
        "colab": {
          "base_uri": "https://localhost:8080/",
          "height": 51
        }
      },
      "source": [
        "np.resize(g, (2, 5))  "
      ],
      "execution_count": 0,
      "outputs": [
        {
          "output_type": "execute_result",
          "data": {
            "text/plain": [
              "array([[0, 1, 2, 3, 4],\n",
              "       [5, 6, 7, 8, 9]])"
            ]
          },
          "metadata": {
            "tags": []
          },
          "execution_count": 88
        }
      ]
    },
    {
      "cell_type": "code",
      "metadata": {
        "id": "8__rO_cZT61w",
        "colab_type": "code",
        "outputId": "cbd0f819-aca0-45d4-cd01-58d7e46b3643",
        "colab": {
          "base_uri": "https://localhost:8080/",
          "height": 102
        }
      },
      "source": [
        "n = np.resize(g, (5, 4))  \n",
        "n"
      ],
      "execution_count": 0,
      "outputs": [
        {
          "output_type": "execute_result",
          "data": {
            "text/plain": [
              "array([[ 0,  1,  2,  3],\n",
              "       [ 4,  5,  6,  7],\n",
              "       [ 8,  9, 10, 11],\n",
              "       [12, 13, 14,  0],\n",
              "       [ 1,  2,  3,  4]])"
            ]
          },
          "metadata": {
            "tags": []
          },
          "execution_count": 89
        }
      ]
    },
    {
      "cell_type": "code",
      "metadata": {
        "id": "gF4IxRr7T61x",
        "colab_type": "code",
        "outputId": "e1382f56-43bc-417a-880e-64fe445291ac",
        "colab": {
          "base_uri": "https://localhost:8080/",
          "height": 102
        }
      },
      "source": [
        "h"
      ],
      "execution_count": 0,
      "outputs": [
        {
          "output_type": "execute_result",
          "data": {
            "text/plain": [
              "array([[ 0,  1,  2],\n",
              "       [ 3,  4,  5],\n",
              "       [ 6,  7,  8],\n",
              "       [ 9, 10, 11],\n",
              "       [12, 13, 14]])"
            ]
          },
          "metadata": {
            "tags": []
          },
          "execution_count": 90
        }
      ]
    },
    {
      "cell_type": "code",
      "metadata": {
        "id": "xiDMoySzT61z",
        "colab_type": "code",
        "outputId": "b64cca71-2771-4179-8f02-a22cb98906ec",
        "colab": {
          "base_uri": "https://localhost:8080/",
          "height": 102
        }
      },
      "source": [
        "np.hstack((h, 2 * h))  "
      ],
      "execution_count": 0,
      "outputs": [
        {
          "output_type": "execute_result",
          "data": {
            "text/plain": [
              "array([[ 0,  1,  2,  0,  2,  4],\n",
              "       [ 3,  4,  5,  6,  8, 10],\n",
              "       [ 6,  7,  8, 12, 14, 16],\n",
              "       [ 9, 10, 11, 18, 20, 22],\n",
              "       [12, 13, 14, 24, 26, 28]])"
            ]
          },
          "metadata": {
            "tags": []
          },
          "execution_count": 91
        }
      ]
    },
    {
      "cell_type": "code",
      "metadata": {
        "id": "Q-AoNROMT610",
        "colab_type": "code",
        "outputId": "881d07df-9599-4377-a60a-ad796dc426b1",
        "colab": {
          "base_uri": "https://localhost:8080/",
          "height": 187
        }
      },
      "source": [
        "np.vstack((h, 0.5 * h))  "
      ],
      "execution_count": 0,
      "outputs": [
        {
          "output_type": "execute_result",
          "data": {
            "text/plain": [
              "array([[ 0. ,  1. ,  2. ],\n",
              "       [ 3. ,  4. ,  5. ],\n",
              "       [ 6. ,  7. ,  8. ],\n",
              "       [ 9. , 10. , 11. ],\n",
              "       [12. , 13. , 14. ],\n",
              "       [ 0. ,  0.5,  1. ],\n",
              "       [ 1.5,  2. ,  2.5],\n",
              "       [ 3. ,  3.5,  4. ],\n",
              "       [ 4.5,  5. ,  5.5],\n",
              "       [ 6. ,  6.5,  7. ]])"
            ]
          },
          "metadata": {
            "tags": []
          },
          "execution_count": 92
        }
      ]
    },
    {
      "cell_type": "code",
      "metadata": {
        "id": "ZFMt8VwlT610",
        "colab_type": "code",
        "outputId": "a7542de0-36a2-4109-f61f-4c3548001263",
        "colab": {
          "base_uri": "https://localhost:8080/",
          "height": 102
        }
      },
      "source": [
        "h"
      ],
      "execution_count": 0,
      "outputs": [
        {
          "output_type": "execute_result",
          "data": {
            "text/plain": [
              "array([[ 0,  1,  2],\n",
              "       [ 3,  4,  5],\n",
              "       [ 6,  7,  8],\n",
              "       [ 9, 10, 11],\n",
              "       [12, 13, 14]])"
            ]
          },
          "metadata": {
            "tags": []
          },
          "execution_count": 93
        }
      ]
    },
    {
      "cell_type": "code",
      "metadata": {
        "id": "YV7MudXbT614",
        "colab_type": "code",
        "outputId": "67651cf2-a4a3-4dd8-fb9f-e30bf08d11f6",
        "colab": {
          "base_uri": "https://localhost:8080/",
          "height": 34
        }
      },
      "source": [
        "h.flatten()  "
      ],
      "execution_count": 0,
      "outputs": [
        {
          "output_type": "execute_result",
          "data": {
            "text/plain": [
              "array([ 0,  1,  2,  3,  4,  5,  6,  7,  8,  9, 10, 11, 12, 13, 14])"
            ]
          },
          "metadata": {
            "tags": []
          },
          "execution_count": 94
        }
      ]
    },
    {
      "cell_type": "code",
      "metadata": {
        "id": "riestIRDT615",
        "colab_type": "code",
        "outputId": "5b811b87-f8c7-4fff-820b-5192dc10c242",
        "colab": {
          "base_uri": "https://localhost:8080/",
          "height": 34
        }
      },
      "source": [
        "h.flatten(order='C')  "
      ],
      "execution_count": 0,
      "outputs": [
        {
          "output_type": "execute_result",
          "data": {
            "text/plain": [
              "array([ 0,  1,  2,  3,  4,  5,  6,  7,  8,  9, 10, 11, 12, 13, 14])"
            ]
          },
          "metadata": {
            "tags": []
          },
          "execution_count": 95
        }
      ]
    },
    {
      "cell_type": "code",
      "metadata": {
        "id": "J9oTt0GKT616",
        "colab_type": "code",
        "outputId": "9cdad9d6-6784-40a0-eadb-f84fd1e9dc45",
        "colab": {
          "base_uri": "https://localhost:8080/",
          "height": 34
        }
      },
      "source": [
        "h.flatten(order='F')  "
      ],
      "execution_count": 0,
      "outputs": [
        {
          "output_type": "execute_result",
          "data": {
            "text/plain": [
              "array([ 0,  3,  6,  9, 12,  1,  4,  7, 10, 13,  2,  5,  8, 11, 14])"
            ]
          },
          "metadata": {
            "tags": []
          },
          "execution_count": 96
        }
      ]
    },
    {
      "cell_type": "code",
      "metadata": {
        "id": "fj6IRbygT616",
        "colab_type": "code",
        "outputId": "bb442587-5668-47bc-92a9-7360294ff8e9",
        "colab": {
          "base_uri": "https://localhost:8080/",
          "height": 34
        }
      },
      "source": [
        "for i in h.flat:  \n",
        "    print(i, end=',')"
      ],
      "execution_count": 0,
      "outputs": [
        {
          "output_type": "stream",
          "text": [
            "0,1,2,3,4,5,6,7,8,9,10,11,12,13,14,"
          ],
          "name": "stdout"
        }
      ]
    },
    {
      "cell_type": "code",
      "metadata": {
        "id": "YeDeqBeST617",
        "colab_type": "code",
        "outputId": "55a9623a-f5c6-40b4-9d4b-5b85c43cb5e0",
        "colab": {
          "base_uri": "https://localhost:8080/",
          "height": 34
        }
      },
      "source": [
        "for i in h.ravel(order='C'):  \n",
        "    print(i, end=',')"
      ],
      "execution_count": 0,
      "outputs": [
        {
          "output_type": "stream",
          "text": [
            "0,1,2,3,4,5,6,7,8,9,10,11,12,13,14,"
          ],
          "name": "stdout"
        }
      ]
    },
    {
      "cell_type": "code",
      "metadata": {
        "id": "Sg4qDnfxT618",
        "colab_type": "code",
        "outputId": "47762457-3010-43fe-c381-e776ef1f9510",
        "colab": {
          "base_uri": "https://localhost:8080/",
          "height": 34
        }
      },
      "source": [
        "for i in h.ravel(order='F'):  \n",
        "    print(i, end=',')"
      ],
      "execution_count": 0,
      "outputs": [
        {
          "output_type": "stream",
          "text": [
            "0,3,6,9,12,1,4,7,10,13,2,5,8,11,14,"
          ],
          "name": "stdout"
        }
      ]
    },
    {
      "cell_type": "markdown",
      "metadata": {
        "id": "W1CZQmAgT618",
        "colab_type": "text"
      },
      "source": [
        "### Boolean Arrays"
      ]
    },
    {
      "cell_type": "code",
      "metadata": {
        "id": "D77lq6jkT619",
        "colab_type": "code",
        "outputId": "48a12d4d-cf3f-433f-89b0-a27931b55e3b",
        "colab": {
          "base_uri": "https://localhost:8080/",
          "height": 102
        }
      },
      "source": [
        "h"
      ],
      "execution_count": 0,
      "outputs": [
        {
          "output_type": "execute_result",
          "data": {
            "text/plain": [
              "array([[ 0,  1,  2],\n",
              "       [ 3,  4,  5],\n",
              "       [ 6,  7,  8],\n",
              "       [ 9, 10, 11],\n",
              "       [12, 13, 14]])"
            ]
          },
          "metadata": {
            "tags": []
          },
          "execution_count": 100
        }
      ]
    },
    {
      "cell_type": "code",
      "metadata": {
        "id": "CSQFgXMjT619",
        "colab_type": "code",
        "outputId": "e5003bce-a1bb-4934-e73d-7820a3bec132",
        "colab": {
          "base_uri": "https://localhost:8080/",
          "height": 102
        }
      },
      "source": [
        "h > 8  "
      ],
      "execution_count": 0,
      "outputs": [
        {
          "output_type": "execute_result",
          "data": {
            "text/plain": [
              "array([[False, False, False],\n",
              "       [False, False, False],\n",
              "       [False, False, False],\n",
              "       [ True,  True,  True],\n",
              "       [ True,  True,  True]])"
            ]
          },
          "metadata": {
            "tags": []
          },
          "execution_count": 101
        }
      ]
    },
    {
      "cell_type": "code",
      "metadata": {
        "id": "3KOqXRZOT61-",
        "colab_type": "code",
        "outputId": "71674028-be15-4529-e02a-4cba0171e1ae",
        "colab": {
          "base_uri": "https://localhost:8080/",
          "height": 102
        }
      },
      "source": [
        "h <= 7  "
      ],
      "execution_count": 0,
      "outputs": [
        {
          "output_type": "execute_result",
          "data": {
            "text/plain": [
              "array([[ True,  True,  True],\n",
              "       [ True,  True,  True],\n",
              "       [ True,  True, False],\n",
              "       [False, False, False],\n",
              "       [False, False, False]])"
            ]
          },
          "metadata": {
            "tags": []
          },
          "execution_count": 102
        }
      ]
    },
    {
      "cell_type": "code",
      "metadata": {
        "id": "V9EFCnT2T61_",
        "colab_type": "code",
        "outputId": "abec23d9-e8be-402c-9bc6-8b95e0d5fa37",
        "colab": {
          "base_uri": "https://localhost:8080/",
          "height": 102
        }
      },
      "source": [
        "h == 5  "
      ],
      "execution_count": 0,
      "outputs": [
        {
          "output_type": "execute_result",
          "data": {
            "text/plain": [
              "array([[False, False, False],\n",
              "       [False, False,  True],\n",
              "       [False, False, False],\n",
              "       [False, False, False],\n",
              "       [False, False, False]])"
            ]
          },
          "metadata": {
            "tags": []
          },
          "execution_count": 103
        }
      ]
    },
    {
      "cell_type": "code",
      "metadata": {
        "id": "Y_1UJ7tsT62A",
        "colab_type": "code",
        "outputId": "25fb1cfa-5898-4e3e-8593-87c39cbf1463",
        "colab": {
          "base_uri": "https://localhost:8080/",
          "height": 102
        }
      },
      "source": [
        "(h == 5).astype(int)  "
      ],
      "execution_count": 0,
      "outputs": [
        {
          "output_type": "execute_result",
          "data": {
            "text/plain": [
              "array([[0, 0, 0],\n",
              "       [0, 0, 1],\n",
              "       [0, 0, 0],\n",
              "       [0, 0, 0],\n",
              "       [0, 0, 0]])"
            ]
          },
          "metadata": {
            "tags": []
          },
          "execution_count": 104
        }
      ]
    },
    {
      "cell_type": "code",
      "metadata": {
        "id": "v5kdI2k5T62B",
        "colab_type": "code",
        "outputId": "c09eef15-cee8-4e34-a9fe-66fcd13b965c",
        "colab": {
          "base_uri": "https://localhost:8080/",
          "height": 102
        }
      },
      "source": [
        "(h > 4) & (h <= 12)  "
      ],
      "execution_count": 0,
      "outputs": [
        {
          "output_type": "execute_result",
          "data": {
            "text/plain": [
              "array([[False, False, False],\n",
              "       [False, False,  True],\n",
              "       [ True,  True,  True],\n",
              "       [ True,  True,  True],\n",
              "       [ True, False, False]])"
            ]
          },
          "metadata": {
            "tags": []
          },
          "execution_count": 105
        }
      ]
    },
    {
      "cell_type": "code",
      "metadata": {
        "id": "DbinViuGT62B",
        "colab_type": "code",
        "outputId": "d5a5a6ea-2ed0-4b69-9e5b-ce8273646d04",
        "colab": {
          "base_uri": "https://localhost:8080/",
          "height": 34
        }
      },
      "source": [
        "h[h > 8]  "
      ],
      "execution_count": 0,
      "outputs": [
        {
          "output_type": "execute_result",
          "data": {
            "text/plain": [
              "array([ 9, 10, 11, 12, 13, 14])"
            ]
          },
          "metadata": {
            "tags": []
          },
          "execution_count": 106
        }
      ]
    },
    {
      "cell_type": "code",
      "metadata": {
        "id": "T4WfYqtzT62D",
        "colab_type": "code",
        "outputId": "196b073b-6418-4f03-9461-bb9e75d44c97",
        "colab": {
          "base_uri": "https://localhost:8080/",
          "height": 34
        }
      },
      "source": [
        "h[(h > 4) & (h <= 12)]  "
      ],
      "execution_count": 0,
      "outputs": [
        {
          "output_type": "execute_result",
          "data": {
            "text/plain": [
              "array([ 5,  6,  7,  8,  9, 10, 11, 12])"
            ]
          },
          "metadata": {
            "tags": []
          },
          "execution_count": 107
        }
      ]
    },
    {
      "cell_type": "code",
      "metadata": {
        "id": "lKwPsaYTT62D",
        "colab_type": "code",
        "outputId": "13202626-4633-43af-a3fe-916acf24e4bf",
        "colab": {
          "base_uri": "https://localhost:8080/",
          "height": 34
        }
      },
      "source": [
        "h[(h < 4) | (h >= 12)]  "
      ],
      "execution_count": 0,
      "outputs": [
        {
          "output_type": "execute_result",
          "data": {
            "text/plain": [
              "array([ 0,  1,  2,  3, 12, 13, 14])"
            ]
          },
          "metadata": {
            "tags": []
          },
          "execution_count": 108
        }
      ]
    },
    {
      "cell_type": "code",
      "metadata": {
        "id": "IByJq5vcT62F",
        "colab_type": "code",
        "outputId": "961bc3d8-8328-4144-eca9-b58952238c39",
        "colab": {
          "base_uri": "https://localhost:8080/",
          "height": 102
        }
      },
      "source": [
        "np.where(h > 7, 1, 0)  "
      ],
      "execution_count": 0,
      "outputs": [
        {
          "output_type": "execute_result",
          "data": {
            "text/plain": [
              "array([[0, 0, 0],\n",
              "       [0, 0, 0],\n",
              "       [0, 0, 1],\n",
              "       [1, 1, 1],\n",
              "       [1, 1, 1]])"
            ]
          },
          "metadata": {
            "tags": []
          },
          "execution_count": 109
        }
      ]
    },
    {
      "cell_type": "code",
      "metadata": {
        "id": "F3bZl6cPT62F",
        "colab_type": "code",
        "outputId": "5bc2c91f-388b-4332-92f1-b0ecba64e349",
        "colab": {
          "base_uri": "https://localhost:8080/",
          "height": 102
        }
      },
      "source": [
        "np.where(h % 2 == 0, 'even', 'odd')  "
      ],
      "execution_count": 0,
      "outputs": [
        {
          "output_type": "execute_result",
          "data": {
            "text/plain": [
              "array([['even', 'odd', 'even'],\n",
              "       ['odd', 'even', 'odd'],\n",
              "       ['even', 'odd', 'even'],\n",
              "       ['odd', 'even', 'odd'],\n",
              "       ['even', 'odd', 'even']], dtype='<U4')"
            ]
          },
          "metadata": {
            "tags": []
          },
          "execution_count": 110
        }
      ]
    },
    {
      "cell_type": "code",
      "metadata": {
        "id": "h8fIvpQiT62G",
        "colab_type": "code",
        "outputId": "3ae26958-d4fc-445e-e4f3-f20d7fa5e527",
        "colab": {
          "base_uri": "https://localhost:8080/",
          "height": 102
        }
      },
      "source": [
        "np.where(h <= 7, h * 2, h / 2)  "
      ],
      "execution_count": 0,
      "outputs": [
        {
          "output_type": "execute_result",
          "data": {
            "text/plain": [
              "array([[ 0. ,  2. ,  4. ],\n",
              "       [ 6. ,  8. , 10. ],\n",
              "       [12. , 14. ,  4. ],\n",
              "       [ 4.5,  5. ,  5.5],\n",
              "       [ 6. ,  6.5,  7. ]])"
            ]
          },
          "metadata": {
            "tags": []
          },
          "execution_count": 111
        }
      ]
    },
    {
      "cell_type": "markdown",
      "metadata": {
        "id": "G1Xaj8geT62H",
        "colab_type": "text"
      },
      "source": [
        "### Speed Comparison"
      ]
    },
    {
      "cell_type": "code",
      "metadata": {
        "id": "BFNhBOijT62I",
        "colab_type": "code",
        "colab": {}
      },
      "source": [
        "import random\n",
        "I = 5000"
      ],
      "execution_count": 0,
      "outputs": []
    },
    {
      "cell_type": "code",
      "metadata": {
        "id": "hr4P7i20T62I",
        "colab_type": "code",
        "outputId": "787479c9-1457-4a95-e02a-72ce546de545",
        "colab": {
          "base_uri": "https://localhost:8080/",
          "height": 51
        }
      },
      "source": [
        "%time mat = [[random.gauss(0, 1) for j in range(I)] \\\n",
        "             for i in range(I)]  "
      ],
      "execution_count": 0,
      "outputs": [
        {
          "output_type": "stream",
          "text": [
            "CPU times: user 14.4 s, sys: 623 ms, total: 15.1 s\n",
            "Wall time: 15.1 s\n"
          ],
          "name": "stdout"
        }
      ]
    },
    {
      "cell_type": "code",
      "metadata": {
        "id": "mcUcl6riT62J",
        "colab_type": "code",
        "outputId": "917e5f2c-1e75-41a1-b50c-74f5429d2ed0",
        "colab": {
          "base_uri": "https://localhost:8080/",
          "height": 102
        }
      },
      "source": [
        "mat[0][:5]  "
      ],
      "execution_count": 0,
      "outputs": [
        {
          "output_type": "execute_result",
          "data": {
            "text/plain": [
              "[-1.1615117961427426,\n",
              " 0.8901227982290605,\n",
              " -0.09990376957127221,\n",
              " 0.7191698463759955,\n",
              " 0.1134026857993501]"
            ]
          },
          "metadata": {
            "tags": []
          },
          "execution_count": 114
        }
      ]
    },
    {
      "cell_type": "code",
      "metadata": {
        "id": "NnB3qF02T62K",
        "colab_type": "code",
        "outputId": "120183c6-f196-42d8-de2b-fec5930dc7c5",
        "colab": {
          "base_uri": "https://localhost:8080/",
          "height": 68
        }
      },
      "source": [
        "%time sum([sum(l) for l in mat])  "
      ],
      "execution_count": 0,
      "outputs": [
        {
          "output_type": "stream",
          "text": [
            "CPU times: user 157 ms, sys: 837 µs, total: 158 ms\n",
            "Wall time: 164 ms\n"
          ],
          "name": "stdout"
        },
        {
          "output_type": "execute_result",
          "data": {
            "text/plain": [
              "-6851.362915241072"
            ]
          },
          "metadata": {
            "tags": []
          },
          "execution_count": 115
        }
      ]
    },
    {
      "cell_type": "code",
      "metadata": {
        "id": "DkgetbVKT62L",
        "colab_type": "code",
        "outputId": "31f81fa0-86d6-4f2d-bad6-8b8d1668f95b",
        "colab": {
          "base_uri": "https://localhost:8080/",
          "height": 34
        }
      },
      "source": [
        "import sys\n",
        "sum([sys.getsizeof(l) for l in mat])  "
      ],
      "execution_count": 0,
      "outputs": [
        {
          "output_type": "execute_result",
          "data": {
            "text/plain": [
              "215200000"
            ]
          },
          "metadata": {
            "tags": []
          },
          "execution_count": 116
        }
      ]
    },
    {
      "cell_type": "code",
      "metadata": {
        "id": "uOlOSUx5T62M",
        "colab_type": "code",
        "outputId": "6634667f-5aad-4d41-ccc2-e2cfc157e1dc",
        "colab": {
          "base_uri": "https://localhost:8080/",
          "height": 51
        }
      },
      "source": [
        "%time mat = np.random.standard_normal((I, I))  "
      ],
      "execution_count": 0,
      "outputs": [
        {
          "output_type": "stream",
          "text": [
            "CPU times: user 1.4 s, sys: 155 ms, total: 1.55 s\n",
            "Wall time: 1.56 s\n"
          ],
          "name": "stdout"
        }
      ]
    },
    {
      "cell_type": "code",
      "metadata": {
        "id": "j4j3_7dIT62N",
        "colab_type": "code",
        "outputId": "64c82d67-926d-40e3-e628-f3dc3681aa41",
        "colab": {
          "base_uri": "https://localhost:8080/",
          "height": 68
        }
      },
      "source": [
        "%time mat.sum()  "
      ],
      "execution_count": 0,
      "outputs": [
        {
          "output_type": "stream",
          "text": [
            "CPU times: user 17.1 ms, sys: 1.01 ms, total: 18.1 ms\n",
            "Wall time: 19.9 ms\n"
          ],
          "name": "stdout"
        },
        {
          "output_type": "execute_result",
          "data": {
            "text/plain": [
              "4830.93088277923"
            ]
          },
          "metadata": {
            "tags": []
          },
          "execution_count": 118
        }
      ]
    },
    {
      "cell_type": "code",
      "metadata": {
        "id": "oP6MrIMDT62N",
        "colab_type": "code",
        "outputId": "4afee14f-9555-4a33-d234-c4c3b688f091",
        "colab": {
          "base_uri": "https://localhost:8080/",
          "height": 34
        }
      },
      "source": [
        "mat.nbytes  "
      ],
      "execution_count": 0,
      "outputs": [
        {
          "output_type": "execute_result",
          "data": {
            "text/plain": [
              "200000000"
            ]
          },
          "metadata": {
            "tags": []
          },
          "execution_count": 119
        }
      ]
    },
    {
      "cell_type": "code",
      "metadata": {
        "id": "rKR1BMSbT62O",
        "colab_type": "code",
        "outputId": "26f5ba0f-7446-4d71-f1e2-bcb78177f7bd",
        "colab": {
          "base_uri": "https://localhost:8080/",
          "height": 34
        }
      },
      "source": [
        "sys.getsizeof(mat)  "
      ],
      "execution_count": 0,
      "outputs": [
        {
          "output_type": "execute_result",
          "data": {
            "text/plain": [
              "200000112"
            ]
          },
          "metadata": {
            "tags": []
          },
          "execution_count": 120
        }
      ]
    },
    {
      "cell_type": "markdown",
      "metadata": {
        "id": "CQ8AK-rqT62O",
        "colab_type": "text"
      },
      "source": [
        "### Structured Arrays"
      ]
    },
    {
      "cell_type": "code",
      "metadata": {
        "id": "-IQo4BAyT62P",
        "colab_type": "code",
        "colab": {}
      },
      "source": [
        "dt = np.dtype([('Name', 'S10'), ('Age', 'i4'),\n",
        "               ('Height', 'f'), ('Children/Pets', 'i4', 2)])  "
      ],
      "execution_count": 0,
      "outputs": []
    },
    {
      "cell_type": "code",
      "metadata": {
        "id": "8NbOibGjT62P",
        "colab_type": "code",
        "outputId": "5382d85b-de8b-4fab-98d9-c17148f73663",
        "colab": {
          "base_uri": "https://localhost:8080/",
          "height": 34
        }
      },
      "source": [
        "dt  "
      ],
      "execution_count": 0,
      "outputs": [
        {
          "output_type": "execute_result",
          "data": {
            "text/plain": [
              "dtype([('Name', 'S10'), ('Age', '<i4'), ('Height', '<f4'), ('Children/Pets', '<i4', (2,))])"
            ]
          },
          "metadata": {
            "tags": []
          },
          "execution_count": 122
        }
      ]
    },
    {
      "cell_type": "code",
      "metadata": {
        "id": "I-IsvvJdT62Q",
        "colab_type": "code",
        "colab": {}
      },
      "source": [
        "dt = np.dtype({'names': ['Name', 'Age', 'Height', 'Children/Pets'],\n",
        "             'formats':'O int float int,int'.split()})  "
      ],
      "execution_count": 0,
      "outputs": []
    },
    {
      "cell_type": "code",
      "metadata": {
        "id": "xVOiM9HlT62Q",
        "colab_type": "code",
        "outputId": "60ef800b-2dab-4272-a9e5-28ef97b13ca0",
        "colab": {
          "base_uri": "https://localhost:8080/",
          "height": 34
        }
      },
      "source": [
        "dt  "
      ],
      "execution_count": 0,
      "outputs": [
        {
          "output_type": "execute_result",
          "data": {
            "text/plain": [
              "dtype([('Name', 'O'), ('Age', '<i8'), ('Height', '<f8'), ('Children/Pets', [('f0', '<i8'), ('f1', '<i8')])])"
            ]
          },
          "metadata": {
            "tags": []
          },
          "execution_count": 124
        }
      ]
    },
    {
      "cell_type": "code",
      "metadata": {
        "id": "nKDLcdcCT62R",
        "colab_type": "code",
        "colab": {}
      },
      "source": [
        "s = np.array([('Smith', 45, 1.83, (0, 1)),\n",
        "              ('Jones', 53, 1.72, (2, 2))], dtype=dt)  "
      ],
      "execution_count": 0,
      "outputs": []
    },
    {
      "cell_type": "code",
      "metadata": {
        "uuid": "15905219-d8fd-46f0-a1d9-2c2735d98b29",
        "id": "19Wa-bswT62R",
        "colab_type": "code",
        "outputId": "fb735989-628e-47f3-8706-5d46a5f9aa2a",
        "colab": {
          "base_uri": "https://localhost:8080/",
          "height": 51
        }
      },
      "source": [
        "s  "
      ],
      "execution_count": 0,
      "outputs": [
        {
          "output_type": "execute_result",
          "data": {
            "text/plain": [
              "array([('Smith', 45, 1.83, (0, 1)), ('Jones', 53, 1.72, (2, 2))],\n",
              "      dtype=[('Name', 'O'), ('Age', '<i8'), ('Height', '<f8'), ('Children/Pets', [('f0', '<i8'), ('f1', '<i8')])])"
            ]
          },
          "metadata": {
            "tags": []
          },
          "execution_count": 126
        }
      ]
    },
    {
      "cell_type": "code",
      "metadata": {
        "id": "8LuCdCQmT62S",
        "colab_type": "code",
        "outputId": "d00c700b-11d5-42aa-9b35-d6c382af5fd4",
        "colab": {
          "base_uri": "https://localhost:8080/",
          "height": 34
        }
      },
      "source": [
        "type(s)  "
      ],
      "execution_count": 0,
      "outputs": [
        {
          "output_type": "execute_result",
          "data": {
            "text/plain": [
              "numpy.ndarray"
            ]
          },
          "metadata": {
            "tags": []
          },
          "execution_count": 127
        }
      ]
    },
    {
      "cell_type": "code",
      "metadata": {
        "uuid": "9932654e-a73d-4cd6-a18e-5199f29efe44",
        "id": "-pt1WNirT62T",
        "colab_type": "code",
        "outputId": "2ba557e6-3074-4d38-951f-1f97a85b204a",
        "colab": {
          "base_uri": "https://localhost:8080/",
          "height": 34
        }
      },
      "source": [
        "s['Name']  "
      ],
      "execution_count": 0,
      "outputs": [
        {
          "output_type": "execute_result",
          "data": {
            "text/plain": [
              "array(['Smith', 'Jones'], dtype=object)"
            ]
          },
          "metadata": {
            "tags": []
          },
          "execution_count": 128
        }
      ]
    },
    {
      "cell_type": "code",
      "metadata": {
        "uuid": "10dc3d78-b6dc-4bf0-a4f1-1a4315bf0f2f",
        "id": "68QiIFwjT62T",
        "colab_type": "code",
        "outputId": "6d7ac937-111e-4e56-a69c-d1a3182f59ec",
        "colab": {
          "base_uri": "https://localhost:8080/",
          "height": 34
        }
      },
      "source": [
        "s['Height'].mean()  "
      ],
      "execution_count": 0,
      "outputs": [
        {
          "output_type": "execute_result",
          "data": {
            "text/plain": [
              "1.775"
            ]
          },
          "metadata": {
            "tags": []
          },
          "execution_count": 129
        }
      ]
    },
    {
      "cell_type": "code",
      "metadata": {
        "id": "hPL6ZnXAT62U",
        "colab_type": "code",
        "outputId": "f78e06f7-2246-45d2-eb0e-842887eb7bf2",
        "colab": {
          "base_uri": "https://localhost:8080/",
          "height": 34
        }
      },
      "source": [
        "s[0]  "
      ],
      "execution_count": 0,
      "outputs": [
        {
          "output_type": "execute_result",
          "data": {
            "text/plain": [
              "('Smith', 45, 1.83, (0, 1))"
            ]
          },
          "metadata": {
            "tags": []
          },
          "execution_count": 130
        }
      ]
    },
    {
      "cell_type": "code",
      "metadata": {
        "uuid": "1385e680-2a16-440d-a674-2ea5757fb41b",
        "id": "k7yVzQW9T62W",
        "colab_type": "code",
        "outputId": "37c0d5ad-237b-4fc0-aa61-493ac35e689f",
        "colab": {
          "base_uri": "https://localhost:8080/",
          "height": 34
        }
      },
      "source": [
        "s[1]['Age']  "
      ],
      "execution_count": 0,
      "outputs": [
        {
          "output_type": "execute_result",
          "data": {
            "text/plain": [
              "53"
            ]
          },
          "metadata": {
            "tags": []
          },
          "execution_count": 131
        }
      ]
    },
    {
      "cell_type": "markdown",
      "metadata": {
        "id": "lo5OTX0VT62X",
        "colab_type": "text"
      },
      "source": [
        "## Vectorization of Code"
      ]
    },
    {
      "cell_type": "code",
      "metadata": {
        "uuid": "28bac5ac-be5d-4f60-acc6-f844259c5a22",
        "id": "vMaUzQk0T62X",
        "colab_type": "code",
        "colab": {}
      },
      "source": [
        "np.random.seed(100)\n",
        "r = np.arange(12).reshape((4, 3))  \n",
        "s = np.arange(12).reshape((4, 3)) * 0.5  "
      ],
      "execution_count": 0,
      "outputs": []
    },
    {
      "cell_type": "code",
      "metadata": {
        "id": "WUQlJJ23T62X",
        "colab_type": "code",
        "outputId": "a348ce1d-a99c-4887-9c1c-3a6d6c9e571f",
        "colab": {
          "base_uri": "https://localhost:8080/",
          "height": 85
        }
      },
      "source": [
        "r  "
      ],
      "execution_count": 0,
      "outputs": [
        {
          "output_type": "execute_result",
          "data": {
            "text/plain": [
              "array([[ 0,  1,  2],\n",
              "       [ 3,  4,  5],\n",
              "       [ 6,  7,  8],\n",
              "       [ 9, 10, 11]])"
            ]
          },
          "metadata": {
            "tags": []
          },
          "execution_count": 133
        }
      ]
    },
    {
      "cell_type": "code",
      "metadata": {
        "id": "jo_FCrIwT62Y",
        "colab_type": "code",
        "outputId": "e966179a-f1de-46e6-f52a-28b72a9fd048",
        "colab": {
          "base_uri": "https://localhost:8080/",
          "height": 85
        }
      },
      "source": [
        "s  "
      ],
      "execution_count": 0,
      "outputs": [
        {
          "output_type": "execute_result",
          "data": {
            "text/plain": [
              "array([[0. , 0.5, 1. ],\n",
              "       [1.5, 2. , 2.5],\n",
              "       [3. , 3.5, 4. ],\n",
              "       [4.5, 5. , 5.5]])"
            ]
          },
          "metadata": {
            "tags": []
          },
          "execution_count": 134
        }
      ]
    },
    {
      "cell_type": "code",
      "metadata": {
        "scrolled": true,
        "uuid": "91d91253-168a-4ff2-8452-67e2cfd5c2f8",
        "id": "kC7ZzajUT62Z",
        "colab_type": "code",
        "outputId": "68de56cf-bd91-436b-e753-6143fcfb8e98",
        "colab": {
          "base_uri": "https://localhost:8080/",
          "height": 85
        }
      },
      "source": [
        "r + s  "
      ],
      "execution_count": 0,
      "outputs": [
        {
          "output_type": "execute_result",
          "data": {
            "text/plain": [
              "array([[ 0. ,  1.5,  3. ],\n",
              "       [ 4.5,  6. ,  7.5],\n",
              "       [ 9. , 10.5, 12. ],\n",
              "       [13.5, 15. , 16.5]])"
            ]
          },
          "metadata": {
            "tags": []
          },
          "execution_count": 135
        }
      ]
    },
    {
      "cell_type": "code",
      "metadata": {
        "uuid": "305b5877-2410-48e0-b5d3-d7f2f384e953",
        "id": "LZKjhVS7T62Z",
        "colab_type": "code",
        "outputId": "bda4a5b9-723a-4361-f9ad-43ce60a7c565",
        "colab": {
          "base_uri": "https://localhost:8080/",
          "height": 85
        }
      },
      "source": [
        "r + 3  "
      ],
      "execution_count": 0,
      "outputs": [
        {
          "output_type": "execute_result",
          "data": {
            "text/plain": [
              "array([[ 3,  4,  5],\n",
              "       [ 6,  7,  8],\n",
              "       [ 9, 10, 11],\n",
              "       [12, 13, 14]])"
            ]
          },
          "metadata": {
            "tags": []
          },
          "execution_count": 136
        }
      ]
    },
    {
      "cell_type": "code",
      "metadata": {
        "id": "DXtet_2ST62a",
        "colab_type": "code",
        "outputId": "55ec3464-2472-479f-f103-bf971f2928b6",
        "colab": {
          "base_uri": "https://localhost:8080/",
          "height": 85
        }
      },
      "source": [
        "2 * r  "
      ],
      "execution_count": 0,
      "outputs": [
        {
          "output_type": "execute_result",
          "data": {
            "text/plain": [
              "array([[ 0,  2,  4],\n",
              "       [ 6,  8, 10],\n",
              "       [12, 14, 16],\n",
              "       [18, 20, 22]])"
            ]
          },
          "metadata": {
            "tags": []
          },
          "execution_count": 137
        }
      ]
    },
    {
      "cell_type": "code",
      "metadata": {
        "id": "K_-KRvxbT62a",
        "colab_type": "code",
        "outputId": "ac2ac573-b762-45d9-ee83-5fcc79e1bf99",
        "colab": {
          "base_uri": "https://localhost:8080/",
          "height": 85
        }
      },
      "source": [
        "2 * r + 3  "
      ],
      "execution_count": 0,
      "outputs": [
        {
          "output_type": "execute_result",
          "data": {
            "text/plain": [
              "array([[ 3,  5,  7],\n",
              "       [ 9, 11, 13],\n",
              "       [15, 17, 19],\n",
              "       [21, 23, 25]])"
            ]
          },
          "metadata": {
            "tags": []
          },
          "execution_count": 138
        }
      ]
    },
    {
      "cell_type": "code",
      "metadata": {
        "id": "OjGO7NY7T62b",
        "colab_type": "code",
        "outputId": "243c01d5-ab54-4367-f442-f91fbf5b488c",
        "colab": {
          "base_uri": "https://localhost:8080/",
          "height": 85
        }
      },
      "source": [
        "r"
      ],
      "execution_count": 0,
      "outputs": [
        {
          "output_type": "execute_result",
          "data": {
            "text/plain": [
              "array([[ 0,  1,  2],\n",
              "       [ 3,  4,  5],\n",
              "       [ 6,  7,  8],\n",
              "       [ 9, 10, 11]])"
            ]
          },
          "metadata": {
            "tags": []
          },
          "execution_count": 139
        }
      ]
    },
    {
      "cell_type": "code",
      "metadata": {
        "id": "NJbc4zNvT62c",
        "colab_type": "code",
        "outputId": "44bfdeee-c9dc-478d-b9f0-aa0b5a4c11cf",
        "colab": {
          "base_uri": "https://localhost:8080/",
          "height": 34
        }
      },
      "source": [
        "r.shape"
      ],
      "execution_count": 0,
      "outputs": [
        {
          "output_type": "execute_result",
          "data": {
            "text/plain": [
              "(4, 3)"
            ]
          },
          "metadata": {
            "tags": []
          },
          "execution_count": 140
        }
      ]
    },
    {
      "cell_type": "code",
      "metadata": {
        "id": "KzqBF-YGT62d",
        "colab_type": "code",
        "outputId": "db8e3543-b779-47c4-8323-d3f0af368713",
        "colab": {
          "base_uri": "https://localhost:8080/",
          "height": 34
        }
      },
      "source": [
        "s = np.arange(0, 12, 4)  \n",
        "s  "
      ],
      "execution_count": 0,
      "outputs": [
        {
          "output_type": "execute_result",
          "data": {
            "text/plain": [
              "array([0, 4, 8])"
            ]
          },
          "metadata": {
            "tags": []
          },
          "execution_count": 141
        }
      ]
    },
    {
      "cell_type": "code",
      "metadata": {
        "uuid": "dd5f63cb-da0f-4397-8d86-315d115d4029",
        "id": "WGv10p9QT62f",
        "colab_type": "code",
        "outputId": "bb5c9cfc-4faa-4f19-c5c8-3bf98f555c17",
        "colab": {
          "base_uri": "https://localhost:8080/",
          "height": 85
        }
      },
      "source": [
        "r + s  "
      ],
      "execution_count": 0,
      "outputs": [
        {
          "output_type": "execute_result",
          "data": {
            "text/plain": [
              "array([[ 0,  5, 10],\n",
              "       [ 3,  8, 13],\n",
              "       [ 6, 11, 16],\n",
              "       [ 9, 14, 19]])"
            ]
          },
          "metadata": {
            "tags": []
          },
          "execution_count": 142
        }
      ]
    },
    {
      "cell_type": "code",
      "metadata": {
        "uuid": "cc58e76c-c3b1-495b-9cbe-8fb3fa92a59d",
        "id": "5mQCrESAT62h",
        "colab_type": "code",
        "outputId": "3a6de652-45ab-4f70-aed4-ac4dda13a9be",
        "colab": {
          "base_uri": "https://localhost:8080/",
          "height": 34
        }
      },
      "source": [
        "s = np.arange(0, 12, 3)  \n",
        "s  "
      ],
      "execution_count": 0,
      "outputs": [
        {
          "output_type": "execute_result",
          "data": {
            "text/plain": [
              "array([0, 3, 6, 9])"
            ]
          },
          "metadata": {
            "tags": []
          },
          "execution_count": 143
        }
      ]
    },
    {
      "cell_type": "code",
      "metadata": {
        "id": "ju6FHu9nT62i",
        "colab_type": "code",
        "colab": {}
      },
      "source": [
        "# causes intentional error\n",
        "# r + s  "
      ],
      "execution_count": 0,
      "outputs": []
    },
    {
      "cell_type": "code",
      "metadata": {
        "uuid": "011f4087-a2d6-4731-ac27-07f31d11f017",
        "id": "PfkR9gttT62j",
        "colab_type": "code",
        "outputId": "ed658628-2e9d-451d-fffd-8abf5c06c82f",
        "colab": {
          "base_uri": "https://localhost:8080/",
          "height": 68
        }
      },
      "source": [
        "r.transpose() + s  "
      ],
      "execution_count": 0,
      "outputs": [
        {
          "output_type": "execute_result",
          "data": {
            "text/plain": [
              "array([[ 0,  6, 12, 18],\n",
              "       [ 1,  7, 13, 19],\n",
              "       [ 2,  8, 14, 20]])"
            ]
          },
          "metadata": {
            "tags": []
          },
          "execution_count": 145
        }
      ]
    },
    {
      "cell_type": "code",
      "metadata": {
        "id": "lyHZZ687T62j",
        "colab_type": "code",
        "outputId": "ea63133a-ce48-4227-ece4-77f32ed61be5",
        "colab": {
          "base_uri": "https://localhost:8080/",
          "height": 85
        }
      },
      "source": [
        "sr = s.reshape(-1, 1)  \n",
        "sr"
      ],
      "execution_count": 0,
      "outputs": [
        {
          "output_type": "execute_result",
          "data": {
            "text/plain": [
              "array([[0],\n",
              "       [3],\n",
              "       [6],\n",
              "       [9]])"
            ]
          },
          "metadata": {
            "tags": []
          },
          "execution_count": 146
        }
      ]
    },
    {
      "cell_type": "code",
      "metadata": {
        "id": "ehAQ6ITdT62k",
        "colab_type": "code",
        "outputId": "e32c3080-2d0c-4578-f53d-1c88f380c3de",
        "colab": {
          "base_uri": "https://localhost:8080/",
          "height": 34
        }
      },
      "source": [
        "sr.shape  "
      ],
      "execution_count": 0,
      "outputs": [
        {
          "output_type": "execute_result",
          "data": {
            "text/plain": [
              "(4, 1)"
            ]
          },
          "metadata": {
            "tags": []
          },
          "execution_count": 147
        }
      ]
    },
    {
      "cell_type": "code",
      "metadata": {
        "id": "38xvySTUT62k",
        "colab_type": "code",
        "outputId": "b276e389-bd0a-40be-b76f-3f24b2bb88f4",
        "colab": {
          "base_uri": "https://localhost:8080/",
          "height": 85
        }
      },
      "source": [
        "r + s.reshape(-1, 1)  "
      ],
      "execution_count": 0,
      "outputs": [
        {
          "output_type": "execute_result",
          "data": {
            "text/plain": [
              "array([[ 0,  1,  2],\n",
              "       [ 6,  7,  8],\n",
              "       [12, 13, 14],\n",
              "       [18, 19, 20]])"
            ]
          },
          "metadata": {
            "tags": []
          },
          "execution_count": 148
        }
      ]
    },
    {
      "cell_type": "code",
      "metadata": {
        "uuid": "0f3b5cad-0146-4203-b158-238203ef5764",
        "id": "5AQXhZFUT62m",
        "colab_type": "code",
        "colab": {}
      },
      "source": [
        "def f(x):\n",
        "    return 3 * x + 5  "
      ],
      "execution_count": 0,
      "outputs": []
    },
    {
      "cell_type": "code",
      "metadata": {
        "uuid": "08b395e9-13fc-43c1-8bba-28c63a216366",
        "id": "tyO7y7LQT62n",
        "colab_type": "code",
        "outputId": "e55ed66b-bd03-4fba-ee44-65a27b7f4a72",
        "colab": {
          "base_uri": "https://localhost:8080/",
          "height": 34
        }
      },
      "source": [
        "f(0.5)  "
      ],
      "execution_count": 0,
      "outputs": [
        {
          "output_type": "execute_result",
          "data": {
            "text/plain": [
              "6.5"
            ]
          },
          "metadata": {
            "tags": []
          },
          "execution_count": 150
        }
      ]
    },
    {
      "cell_type": "code",
      "metadata": {
        "uuid": "1895e566-c5ee-4856-bca5-37fef37df0c5",
        "id": "5peq7U6cT62o",
        "colab_type": "code",
        "outputId": "e0453459-398c-4a1b-a8d5-eaa0279df38b",
        "colab": {
          "base_uri": "https://localhost:8080/",
          "height": 85
        }
      },
      "source": [
        "f(r)  "
      ],
      "execution_count": 0,
      "outputs": [
        {
          "output_type": "execute_result",
          "data": {
            "text/plain": [
              "array([[ 5,  8, 11],\n",
              "       [14, 17, 20],\n",
              "       [23, 26, 29],\n",
              "       [32, 35, 38]])"
            ]
          },
          "metadata": {
            "tags": []
          },
          "execution_count": 151
        }
      ]
    },
    {
      "cell_type": "markdown",
      "metadata": {
        "id": "T1Pp1QYeT62p",
        "colab_type": "text"
      },
      "source": [
        "## Memory Layout"
      ]
    },
    {
      "cell_type": "markdown",
      "metadata": {
        "id": "5pAIzjgjT62p",
        "colab_type": "text"
      },
      "source": [
        "Cf. http://eli.thegreenplace.net/2015/memory-layout-of-multi-dimensional-arrays/"
      ]
    },
    {
      "cell_type": "code",
      "metadata": {
        "id": "w0QJKnnPT62q",
        "colab_type": "code",
        "colab": {}
      },
      "source": [
        "x = np.random.standard_normal((1000000, 5))  "
      ],
      "execution_count": 0,
      "outputs": []
    },
    {
      "cell_type": "code",
      "metadata": {
        "id": "tXjVTrLIT62r",
        "colab_type": "code",
        "colab": {}
      },
      "source": [
        "y = 2 * x + 3  "
      ],
      "execution_count": 0,
      "outputs": []
    },
    {
      "cell_type": "code",
      "metadata": {
        "id": "nAO1JGoWT62s",
        "colab_type": "code",
        "colab": {}
      },
      "source": [
        "C = np.array((x, y), order='C')  "
      ],
      "execution_count": 0,
      "outputs": []
    },
    {
      "cell_type": "code",
      "metadata": {
        "id": "e9xMqDRET62t",
        "colab_type": "code",
        "colab": {}
      },
      "source": [
        "F = np.array((x, y), order='F')  "
      ],
      "execution_count": 0,
      "outputs": []
    },
    {
      "cell_type": "code",
      "metadata": {
        "uuid": "f34c0c3d-112d-4ac4-bd48-21df98096047",
        "id": "Qcux9XjmT62u",
        "colab_type": "code",
        "colab": {}
      },
      "source": [
        "x = 0.0; y = 0.0  "
      ],
      "execution_count": 0,
      "outputs": []
    },
    {
      "cell_type": "code",
      "metadata": {
        "uuid": "f3fb83da-569c-423b-911e-9a2078d385b8",
        "id": "4UTm07SRT62v",
        "colab_type": "code",
        "outputId": "15f1f2a1-26e8-4ea8-f7c2-6dc78f62a81a",
        "colab": {
          "base_uri": "https://localhost:8080/",
          "height": 272
        }
      },
      "source": [
        "C[:2].round(2)  "
      ],
      "execution_count": 0,
      "outputs": [
        {
          "output_type": "execute_result",
          "data": {
            "text/plain": [
              "array([[[-1.75,  0.34,  1.15, -0.25,  0.98],\n",
              "        [ 0.51,  0.22, -1.07, -0.19,  0.26],\n",
              "        [-0.46,  0.44, -0.58,  0.82,  0.67],\n",
              "        ...,\n",
              "        [-0.05,  0.14,  0.17,  0.33,  1.39],\n",
              "        [ 1.02,  0.3 , -1.23, -0.68, -0.87],\n",
              "        [ 0.83, -0.73,  1.03,  0.34, -0.46]],\n",
              "\n",
              "       [[-0.5 ,  3.69,  5.31,  2.5 ,  4.96],\n",
              "        [ 4.03,  3.44,  0.86,  2.62,  3.51],\n",
              "        [ 2.08,  3.87,  1.83,  4.63,  4.35],\n",
              "        ...,\n",
              "        [ 2.9 ,  3.28,  3.33,  3.67,  5.78],\n",
              "        [ 5.04,  3.6 ,  0.54,  1.65,  1.26],\n",
              "        [ 4.67,  1.54,  5.06,  3.69,  2.07]]])"
            ]
          },
          "metadata": {
            "tags": []
          },
          "execution_count": 157
        }
      ]
    },
    {
      "cell_type": "code",
      "metadata": {
        "uuid": "a1a2af02-b1a0-4a41-a2e8-dd77b02ba796",
        "id": "cH7BXpb_T62w",
        "colab_type": "code",
        "outputId": "ae185fb4-5511-474c-fe2a-eb65b39e21b1",
        "colab": {
          "base_uri": "https://localhost:8080/",
          "height": 34
        }
      },
      "source": [
        "%timeit C.sum()  "
      ],
      "execution_count": 0,
      "outputs": [
        {
          "output_type": "stream",
          "text": [
            "100 loops, best of 3: 6.61 ms per loop\n"
          ],
          "name": "stdout"
        }
      ]
    },
    {
      "cell_type": "code",
      "metadata": {
        "uuid": "34e089f9-2877-48d5-b980-3a22949cb5e2",
        "id": "72JgXJztT62w",
        "colab_type": "code",
        "outputId": "e18ce7d9-ecbe-4614-bc9c-0217a4ebe59b",
        "colab": {
          "base_uri": "https://localhost:8080/",
          "height": 34
        }
      },
      "source": [
        "%timeit F.sum()  "
      ],
      "execution_count": 0,
      "outputs": [
        {
          "output_type": "stream",
          "text": [
            "100 loops, best of 3: 6.63 ms per loop\n"
          ],
          "name": "stdout"
        }
      ]
    },
    {
      "cell_type": "code",
      "metadata": {
        "uuid": "9ccbdca7-b257-432b-b609-c2f31ff181e1",
        "id": "NN3fhUPvT62y",
        "colab_type": "code",
        "outputId": "f902f08f-d46a-4977-c55a-f801fe13a6ad",
        "colab": {
          "base_uri": "https://localhost:8080/",
          "height": 34
        }
      },
      "source": [
        "%timeit C.sum(axis=0)  "
      ],
      "execution_count": 0,
      "outputs": [
        {
          "output_type": "stream",
          "text": [
            "100 loops, best of 3: 16.9 ms per loop\n"
          ],
          "name": "stdout"
        }
      ]
    },
    {
      "cell_type": "code",
      "metadata": {
        "uuid": "c681dab3-43d5-4247-bca5-7bb7ae41d821",
        "id": "HN-eJCUdT62y",
        "colab_type": "code",
        "outputId": "3b6bea9e-49f0-4d5c-ebb5-e9535fa5236c",
        "colab": {
          "base_uri": "https://localhost:8080/",
          "height": 34
        }
      },
      "source": [
        "%timeit C.sum(axis=1)  "
      ],
      "execution_count": 0,
      "outputs": [
        {
          "output_type": "stream",
          "text": [
            "10 loops, best of 3: 35 ms per loop\n"
          ],
          "name": "stdout"
        }
      ]
    },
    {
      "cell_type": "code",
      "metadata": {
        "uuid": "da5381da-b137-4da9-93f4-47d94f27b81d",
        "id": "BG3_2GFKT62z",
        "colab_type": "code",
        "outputId": "e37af422-ec64-4377-d69f-1ff6ffa1bde9",
        "colab": {
          "base_uri": "https://localhost:8080/",
          "height": 34
        }
      },
      "source": [
        "%timeit F.sum(axis=0)  "
      ],
      "execution_count": 0,
      "outputs": [
        {
          "output_type": "stream",
          "text": [
            "10 loops, best of 3: 72.9 ms per loop\n"
          ],
          "name": "stdout"
        }
      ]
    },
    {
      "cell_type": "code",
      "metadata": {
        "uuid": "b31c6c3e-d720-4641-a6f9-8591b51b712e",
        "id": "zEEGq3GgT622",
        "colab_type": "code",
        "outputId": "0e52f462-fa0d-4b69-995f-2257331cf51d",
        "colab": {
          "base_uri": "https://localhost:8080/",
          "height": 34
        }
      },
      "source": [
        "%timeit F.sum(axis=1)  "
      ],
      "execution_count": 0,
      "outputs": [
        {
          "output_type": "stream",
          "text": [
            "10 loops, best of 3: 76.6 ms per loop\n"
          ],
          "name": "stdout"
        }
      ]
    },
    {
      "cell_type": "code",
      "metadata": {
        "uuid": "89201348-9a27-4883-b6b9-5f1caf291b61",
        "id": "XGF8TheST623",
        "colab_type": "code",
        "colab": {}
      },
      "source": [
        "F = 0.0; C = 0.0  "
      ],
      "execution_count": 0,
      "outputs": []
    },
    {
      "cell_type": "markdown",
      "metadata": {
        "id": "JhLN8mM1T623",
        "colab_type": "text"
      },
      "source": [
        "<img src=\"http://hilpisch.com/tpq_logo.png\" alt=\"The Python Quants\" width=\"35%\" align=\"right\" border=\"0\"><br>\n",
        "\n",
        "<a href=\"http://tpq.io\" target=\"_blank\">http://tpq.io</a> | <a href=\"http://twitter.com/dyjh\" target=\"_blank\">@dyjh</a> | <a href=\"mailto:training@tpq.io\">training@tpq.io</a>"
      ]
    }
  ]
}