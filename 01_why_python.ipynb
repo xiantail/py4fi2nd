{
  "nbformat": 4,
  "nbformat_minor": 0,
  "metadata": {
    "kernelspec": {
      "display_name": "Python 3",
      "language": "python",
      "name": "python3"
    },
    "language_info": {
      "codemirror_mode": {
        "name": "ipython",
        "version": 3
      },
      "file_extension": ".py",
      "mimetype": "text/x-python",
      "name": "python",
      "nbconvert_exporter": "python",
      "pygments_lexer": "ipython3",
      "version": "3.6.7"
    },
    "colab": {
      "name": "01_why_python.ipynb",
      "provenance": [],
      "include_colab_link": true
    }
  },
  "cells": [
    {
      "cell_type": "markdown",
      "metadata": {
        "id": "view-in-github",
        "colab_type": "text"
      },
      "source": [
        "<a href=\"https://colab.research.google.com/github/xiantail/py4fi2nd/blob/master/01_why_python.ipynb\" target=\"_parent\"><img src=\"https://colab.research.google.com/assets/colab-badge.svg\" alt=\"Open In Colab\"/></a>"
      ]
    },
    {
      "cell_type": "markdown",
      "metadata": {
        "id": "2mloUx4tNd8D",
        "colab_type": "text"
      },
      "source": [
        "<img src=\"http://hilpisch.com/tpq_logo.png\" alt=\"The Python Quants\" width=\"35%\" align=\"right\" border=\"0\"><br>"
      ]
    },
    {
      "cell_type": "markdown",
      "metadata": {
        "id": "ql6y9uURNd8F",
        "colab_type": "text"
      },
      "source": [
        "# Python for Finance (2nd ed.)\n",
        "\n",
        "**Mastering Data-Driven Finance**\n",
        "\n",
        "&copy; Dr. Yves J. Hilpisch | The Python Quants GmbH\n",
        "\n",
        "<img src=\"http://hilpisch.com/images/py4fi_2nd_shadow.png\" width=\"300px\" align=\"left\">"
      ]
    },
    {
      "cell_type": "markdown",
      "metadata": {
        "id": "OxhOcWATNd8G",
        "colab_type": "text"
      },
      "source": [
        "# Why Python for Finance?"
      ]
    },
    {
      "cell_type": "markdown",
      "metadata": {
        "id": "avh_zTbbNd8G",
        "colab_type": "text"
      },
      "source": [
        "## Zen of Python"
      ]
    },
    {
      "cell_type": "code",
      "metadata": {
        "id": "1_vGPpvkNd8H",
        "colab_type": "code",
        "outputId": "987bfc18-bac9-4133-84ad-ccd43a797e1e",
        "colab": {
          "base_uri": "https://localhost:8080/",
          "height": 374
        }
      },
      "source": [
        "import this"
      ],
      "execution_count": 1,
      "outputs": [
        {
          "output_type": "stream",
          "text": [
            "The Zen of Python, by Tim Peters\n",
            "\n",
            "Beautiful is better than ugly.\n",
            "Explicit is better than implicit.\n",
            "Simple is better than complex.\n",
            "Complex is better than complicated.\n",
            "Flat is better than nested.\n",
            "Sparse is better than dense.\n",
            "Readability counts.\n",
            "Special cases aren't special enough to break the rules.\n",
            "Although practicality beats purity.\n",
            "Errors should never pass silently.\n",
            "Unless explicitly silenced.\n",
            "In the face of ambiguity, refuse the temptation to guess.\n",
            "There should be one-- and preferably only one --obvious way to do it.\n",
            "Although that way may not be obvious at first unless you're Dutch.\n",
            "Now is better than never.\n",
            "Although never is often better than *right* now.\n",
            "If the implementation is hard to explain, it's a bad idea.\n",
            "If the implementation is easy to explain, it may be a good idea.\n",
            "Namespaces are one honking great idea -- let's do more of those!\n"
          ],
          "name": "stdout"
        }
      ]
    },
    {
      "cell_type": "markdown",
      "metadata": {
        "id": "YHKyyM_CNd8K",
        "colab_type": "text"
      },
      "source": [
        "## The Python Ecosystem"
      ]
    },
    {
      "cell_type": "code",
      "metadata": {
        "id": "202LWzfhNd8L",
        "colab_type": "code",
        "outputId": "7458b765-4bc5-4983-d321-820850c1f3d7",
        "colab": {
          "base_uri": "https://localhost:8080/",
          "height": 34
        }
      },
      "source": [
        "100 * 2.5 + 50"
      ],
      "execution_count": 2,
      "outputs": [
        {
          "output_type": "execute_result",
          "data": {
            "text/plain": [
              "300.0"
            ]
          },
          "metadata": {
            "tags": []
          },
          "execution_count": 2
        }
      ]
    },
    {
      "cell_type": "code",
      "metadata": {
        "id": "rFwurqTKNd8M",
        "colab_type": "code",
        "colab": {}
      },
      "source": [
        "# causes intentional error\n",
        "# log(1)  "
      ],
      "execution_count": 0,
      "outputs": []
    },
    {
      "cell_type": "code",
      "metadata": {
        "id": "013V9k8lNd8O",
        "colab_type": "code",
        "colab": {}
      },
      "source": [
        "import math  "
      ],
      "execution_count": 0,
      "outputs": []
    },
    {
      "cell_type": "code",
      "metadata": {
        "id": "luYvJrX6Nd8Q",
        "colab_type": "code",
        "outputId": "a265f7b4-7cef-46ae-cafe-db472e7d7df6",
        "colab": {
          "base_uri": "https://localhost:8080/",
          "height": 34
        }
      },
      "source": [
        "math.log(1)  "
      ],
      "execution_count": 5,
      "outputs": [
        {
          "output_type": "execute_result",
          "data": {
            "text/plain": [
              "0.0"
            ]
          },
          "metadata": {
            "tags": []
          },
          "execution_count": 5
        }
      ]
    },
    {
      "cell_type": "markdown",
      "metadata": {
        "id": "ZI2AkWfyNd8R",
        "colab_type": "text"
      },
      "source": [
        "## Finance and Python Syntax"
      ]
    },
    {
      "cell_type": "code",
      "metadata": {
        "uuid": "a95c7301-39f7-4d51-937a-334f051c2d9e",
        "id": "FPYKXA0ANd8S",
        "colab_type": "code",
        "colab": {}
      },
      "source": [
        "import math\n",
        "import numpy as np  "
      ],
      "execution_count": 0,
      "outputs": []
    },
    {
      "cell_type": "code",
      "metadata": {
        "uuid": "1447b7bb-ed26-4c0f-9e0f-222dfd5d0c9b",
        "id": "60MDzfAONd8T",
        "colab_type": "code",
        "colab": {}
      },
      "source": [
        "S0 = 100.  \n",
        "K = 105.  # <2\n",
        "T = 1.0  \n",
        "r = 0.05  \n",
        "sigma = 0.2  "
      ],
      "execution_count": 0,
      "outputs": []
    },
    {
      "cell_type": "code",
      "metadata": {
        "uuid": "a95c7301-39f7-4d51-937a-334f051c2d9e",
        "id": "sZU-wzIJNd8V",
        "colab_type": "code",
        "colab": {}
      },
      "source": [
        "I = 100000  "
      ],
      "execution_count": 0,
      "outputs": []
    },
    {
      "cell_type": "code",
      "metadata": {
        "uuid": "a95c7301-39f7-4d51-937a-334f051c2d9e",
        "id": "IvMHx8FcNd8W",
        "colab_type": "code",
        "colab": {}
      },
      "source": [
        "np.random.seed(1000)  "
      ],
      "execution_count": 0,
      "outputs": []
    },
    {
      "cell_type": "code",
      "metadata": {
        "uuid": "a95c7301-39f7-4d51-937a-334f051c2d9e",
        "id": "mTLNF1vQNd8Y",
        "colab_type": "code",
        "colab": {}
      },
      "source": [
        "z = np.random.standard_normal(I)  "
      ],
      "execution_count": 0,
      "outputs": []
    },
    {
      "cell_type": "code",
      "metadata": {
        "uuid": "a95c7301-39f7-4d51-937a-334f051c2d9e",
        "id": "BFHflBZ0Nd8Z",
        "colab_type": "code",
        "colab": {}
      },
      "source": [
        "ST = S0 * np.exp((r - sigma ** 2 / 2) * T + sigma * math.sqrt(T) * z)  "
      ],
      "execution_count": 0,
      "outputs": []
    },
    {
      "cell_type": "code",
      "metadata": {
        "uuid": "a95c7301-39f7-4d51-937a-334f051c2d9e",
        "id": "YO9EqJ1ANd8c",
        "colab_type": "code",
        "colab": {}
      },
      "source": [
        "hT = np.maximum(ST - K, 0)  "
      ],
      "execution_count": 0,
      "outputs": []
    },
    {
      "cell_type": "code",
      "metadata": {
        "uuid": "a95c7301-39f7-4d51-937a-334f051c2d9e",
        "id": "uKyIQigBNd8d",
        "colab_type": "code",
        "colab": {}
      },
      "source": [
        "C0 = math.exp(-r * T) * np.mean(hT)  "
      ],
      "execution_count": 0,
      "outputs": []
    },
    {
      "cell_type": "code",
      "metadata": {
        "uuid": "84aab05d-40de-4ef1-b3a8-eb08f86e1662",
        "id": "M8jGyZ5VNd8e",
        "colab_type": "code",
        "outputId": "a7e972fc-2f97-4a12-afe5-c6f64bdb2a56",
        "colab": {
          "base_uri": "https://localhost:8080/",
          "height": 34
        }
      },
      "source": [
        "print('Value of the European call option: {:5.3f}.'.format(C0))  "
      ],
      "execution_count": 14,
      "outputs": [
        {
          "output_type": "stream",
          "text": [
            "Value of the European call option: 8.019.\n"
          ],
          "name": "stdout"
        }
      ]
    },
    {
      "cell_type": "code",
      "metadata": {
        "id": "0ULHmBDqNd8g",
        "colab_type": "code",
        "outputId": "901d6af5-1e78-4145-b7af-a5a5f916ca81",
        "colab": {
          "base_uri": "https://localhost:8080/",
          "height": 34
        }
      },
      "source": [
        "# %run bsm_mcs_euro.py\n",
        "# You will get ERROR:root:File `'bsm_mcs_euro.py'` not found."
      ],
      "execution_count": 0,
      "outputs": [
        {
          "output_type": "stream",
          "text": [
            "ERROR:root:File `'bsm_mcs_euro.py'` not found.\n"
          ],
          "name": "stderr"
        }
      ]
    },
    {
      "cell_type": "markdown",
      "metadata": {
        "id": "wDIwh8_kPoZd",
        "colab_type": "text"
      },
      "source": [
        "To avoid 'not found' errors, we need special treatments so that we can access the file directly. "
      ]
    },
    {
      "cell_type": "code",
      "metadata": {
        "id": "qbio2j6ePblq",
        "colab_type": "code",
        "outputId": "e2ad418a-9881-4b12-84c2-9820e5e32f61",
        "colab": {
          "base_uri": "https://localhost:8080/",
          "height": 34
        }
      },
      "source": [
        "# Constants as Preparation\n",
        "import os\n",
        "REPO = 'yhilpisch/py4fi2nd'  #Replace with your target Github Repository\n",
        "ROOT_PATH = 'https://raw.githubusercontent.com/' + REPO + '/master/'  #Raw files are located here\n",
        "\n",
        "# Repository specific information\n",
        "CODE_PATH = os.path.join(ROOT_PATH, 'code')\n",
        "CHAPTER = 'ch01'\n",
        "SOURCE_PATH = os.path.join(ROOT_PATH, 'source')\n",
        "\n",
        "# Get bsm_mcs_euro.py\n",
        "target_code = os.path.join(CODE_PATH, CHAPTER, 'bsm_mcs_euro.py')\n",
        "print(target_code)\n"
      ],
      "execution_count": 16,
      "outputs": [
        {
          "output_type": "stream",
          "text": [
            "https://raw.githubusercontent.com/yhilpisch/py4fi2nd/master/code/ch01/bsm_mcs_euro.py\n"
          ],
          "name": "stdout"
        }
      ]
    },
    {
      "cell_type": "code",
      "metadata": {
        "id": "t859FPNGZj2-",
        "colab_type": "code",
        "outputId": "23f9abf8-8d9c-495b-faed-2e65f73d6246",
        "colab": {
          "base_uri": "https://localhost:8080/",
          "height": 68
        }
      },
      "source": [
        "# Fetch the file from raw file in Github\n",
        "#!curl --remote-name https://raw.githubusercontent.com/yhilpisch/py4fi2nd/master/code/ch01/bsm_mcs_euro.py"
      ],
      "execution_count": 0,
      "outputs": [
        {
          "output_type": "stream",
          "text": [
            "  % Total    % Received % Xferd  Average Speed   Time    Time     Time  Current\n",
            "                                 Dload  Upload   Total   Spent    Left  Speed\n",
            "\r  0     0    0     0    0     0      0      0 --:--:-- --:--:-- --:--:--     0\r100   755  100   755    0     0   4748      0 --:--:-- --:--:-- --:--:--  4748\n"
          ],
          "name": "stdout"
        }
      ]
    },
    {
      "cell_type": "code",
      "metadata": {
        "id": "-ZIqZHRIccfM",
        "colab_type": "code",
        "outputId": "63b17bb2-89c8-4857-d919-9e77bb4432eb",
        "colab": {
          "base_uri": "https://localhost:8080/",
          "height": 54
        }
      },
      "source": [
        "# Alternative way using subprocess\n",
        "import subprocess\n",
        "cmd = 'curl --remote-name ' + target_code\n",
        "subprocess.run(cmd.split())"
      ],
      "execution_count": 17,
      "outputs": [
        {
          "output_type": "execute_result",
          "data": {
            "text/plain": [
              "CompletedProcess(args=['curl', '--remote-name', 'https://raw.githubusercontent.com/yhilpisch/py4fi2nd/master/code/ch01/bsm_mcs_euro.py'], returncode=0)"
            ]
          },
          "metadata": {
            "tags": []
          },
          "execution_count": 17
        }
      ]
    },
    {
      "cell_type": "code",
      "metadata": {
        "id": "Y7-dADUrZq9u",
        "colab_type": "code",
        "outputId": "589f15fb-e76b-48fb-e6ae-013086fa1496",
        "colab": {
          "base_uri": "https://localhost:8080/",
          "height": 34
        }
      },
      "source": [
        "# Then run the code\n",
        "%run bsm_mcs_euro.py"
      ],
      "execution_count": 18,
      "outputs": [
        {
          "output_type": "stream",
          "text": [
            "Value of the European call option 7.989.\n"
          ],
          "name": "stdout"
        }
      ]
    },
    {
      "cell_type": "markdown",
      "metadata": {
        "id": "TVvqS99oNd8h",
        "colab_type": "text"
      },
      "source": [
        "## Time-to-Results"
      ]
    },
    {
      "cell_type": "code",
      "metadata": {
        "uuid": "e16924db-8402-4bcb-a9c7-d5753346c72a",
        "id": "vsf_bZLQNd8i",
        "colab_type": "code",
        "colab": {}
      },
      "source": [
        "import numpy as np  \n",
        "import pandas as pd  \n",
        "from pylab import plt, mpl  "
      ],
      "execution_count": 0,
      "outputs": []
    },
    {
      "cell_type": "code",
      "metadata": {
        "id": "O7Uo7Z36Nd8j",
        "colab_type": "code",
        "colab": {}
      },
      "source": [
        "plt.style.use('seaborn')  \n",
        "mpl.rcParams['font.family'] = 'serif'  \n",
        "%matplotlib inline"
      ],
      "execution_count": 0,
      "outputs": []
    },
    {
      "cell_type": "code",
      "metadata": {
        "uuid": "22071d72-094b-4b51-aa39-cfa793d58623",
        "id": "0lK6lZe_Nd8l",
        "colab_type": "code",
        "outputId": "4b6ad26e-7aaf-4fc4-ebf4-6ad7b4641466",
        "colab": {
          "base_uri": "https://localhost:8080/",
          "height": 119
        }
      },
      "source": [
        "#data = pd.read_csv('../../source/tr_eikon_eod_data.csv',\n",
        "SOURCE_FILE_PATH = os.path.join(SOURCE_PATH, 'tr_eikon_eod_data.csv')\n",
        "data = pd.read_csv(SOURCE_FILE_PATH,\n",
        "                  index_col=0, parse_dates=True)  \n",
        "data = pd.DataFrame(data['.SPX']) \n",
        "data.dropna(inplace=True)  \n",
        "data.info()  "
      ],
      "execution_count": 21,
      "outputs": [
        {
          "output_type": "stream",
          "text": [
            "<class 'pandas.core.frame.DataFrame'>\n",
            "DatetimeIndex: 2138 entries, 2010-01-04 to 2018-06-29\n",
            "Data columns (total 1 columns):\n",
            ".SPX    2138 non-null float64\n",
            "dtypes: float64(1)\n",
            "memory usage: 33.4 KB\n"
          ],
          "name": "stdout"
        }
      ]
    },
    {
      "cell_type": "code",
      "metadata": {
        "uuid": "304b2f50-5b81-4e88-8fa7-ea69995cf2fe",
        "id": "NlI4lAeSNd8n",
        "colab_type": "code",
        "colab": {}
      },
      "source": [
        "data['rets'] = np.log(data / data.shift(1))  \n",
        "data['vola'] = data['rets'].rolling(252).std() * np.sqrt(252)  "
      ],
      "execution_count": 0,
      "outputs": []
    },
    {
      "cell_type": "code",
      "metadata": {
        "uuid": "b4e61939-c7fe-4a1e-a8c9-6fd755edcf86",
        "id": "AXK9ppFiNd8p",
        "colab_type": "code",
        "outputId": "70d41284-1f04-45e8-bb17-e774f7181275",
        "colab": {
          "base_uri": "https://localhost:8080/",
          "height": 366
        }
      },
      "source": [
        "data[['.SPX', 'vola']].plot(subplots=True, figsize=(10, 6));  \n",
        "# plt.savefig('../../images/ch01/spx_volatility.png')"
      ],
      "execution_count": 23,
      "outputs": [
        {
          "output_type": "display_data",
          "data": {
            "image/png": "[encoded data removed]",
            "text/plain": [
              "<Figure size 720x432 with 2 Axes>"
            ]
          },
          "metadata": {
            "tags": []
          }
        }
      ]
    },
    {
      "cell_type": "markdown",
      "metadata": {
        "id": "GjsFoVE2Nd8s",
        "colab_type": "text"
      },
      "source": [
        "## Idioms & Paradigms"
      ]
    },
    {
      "cell_type": "code",
      "metadata": {
        "uuid": "beca497d-4c20-4240-b003-4c79c26154be",
        "id": "t11YXKRVNd8s",
        "colab_type": "code",
        "outputId": "b2f99fad-1ca3-40f7-ff3d-0b4546684dee",
        "colab": {
          "base_uri": "https://localhost:8080/",
          "height": 34
        }
      },
      "source": [
        "import math\n",
        "loops = 2500000\n",
        "a = range(1, loops)\n",
        "def f(x):\n",
        "    return 3 * math.log(x) + math.cos(x) ** 2\n",
        "%timeit r = [f(x) for x in a]"
      ],
      "execution_count": 25,
      "outputs": [
        {
          "output_type": "stream",
          "text": [
            "1 loop, best of 3: 1.24 s per loop\n"
          ],
          "name": "stdout"
        }
      ]
    },
    {
      "cell_type": "code",
      "metadata": {
        "uuid": "931fd1fc-cc54-4045-802f-acb8f094a23f",
        "id": "YF_IRq_VNd8t",
        "colab_type": "code",
        "outputId": "1141849b-e30d-4692-fa93-1d8755f62000",
        "colab": {
          "base_uri": "https://localhost:8080/",
          "height": 34
        }
      },
      "source": [
        "import numpy as np\n",
        "a = np.arange(1, loops)\n",
        "%timeit r = 3 * np.log(a) + np.cos(a) ** 2"
      ],
      "execution_count": 26,
      "outputs": [
        {
          "output_type": "stream",
          "text": [
            "10 loops, best of 3: 130 ms per loop\n"
          ],
          "name": "stdout"
        }
      ]
    },
    {
      "cell_type": "code",
      "metadata": {
        "uuid": "8d1602b3-a490-4d1a-97d9-112825d86185",
        "id": "oMdmE5CbNd8v",
        "colab_type": "code",
        "outputId": "8b379194-5b89-455d-a037-674ff8e1f6ed",
        "colab": {
          "base_uri": "https://localhost:8080/",
          "height": 34
        }
      },
      "source": [
        "import numexpr as ne\n",
        "ne.set_num_threads(1)\n",
        "f = '3 * log(a) + cos(a) ** 2'\n",
        "%timeit r = ne.evaluate(f)"
      ],
      "execution_count": 27,
      "outputs": [
        {
          "output_type": "stream",
          "text": [
            "10 loops, best of 3: 115 ms per loop\n"
          ],
          "name": "stdout"
        }
      ]
    },
    {
      "cell_type": "code",
      "metadata": {
        "uuid": "6994f16a-1802-4abe-851d-a48e0ead154d",
        "id": "8L65wzvqNd8w",
        "colab_type": "code",
        "outputId": "0048125a-c777-442c-9bfd-3f86dd84f239",
        "colab": {
          "base_uri": "https://localhost:8080/",
          "height": 34
        }
      },
      "source": [
        "ne.set_num_threads(4)\n",
        "%timeit r = ne.evaluate(f)"
      ],
      "execution_count": 28,
      "outputs": [
        {
          "output_type": "stream",
          "text": [
            "10 loops, best of 3: 96.3 ms per loop\n"
          ],
          "name": "stdout"
        }
      ]
    },
    {
      "cell_type": "markdown",
      "metadata": {
        "id": "EhyOkjVqNd8x",
        "colab_type": "text"
      },
      "source": [
        "## Data-Driven & AI-First Finance"
      ]
    },
    {
      "cell_type": "markdown",
      "metadata": {
        "id": "MFhheS2jNd8y",
        "colab_type": "text"
      },
      "source": [
        "### Data-Driven Finance "
      ]
    },
    {
      "cell_type": "markdown",
      "metadata": {
        "id": "7pBwdytbNd8y",
        "colab_type": "text"
      },
      "source": [
        "**This sub-section requires a Eikon license. Therefore no code is provided.**"
      ]
    },
    {
      "cell_type": "markdown",
      "metadata": {
        "id": "OlcVKokeNd8y",
        "colab_type": "text"
      },
      "source": [
        "### AI-First Finance "
      ]
    },
    {
      "cell_type": "code",
      "metadata": {
        "id": "FvwMmBfzNd8z",
        "colab_type": "code",
        "colab": {}
      },
      "source": [
        "import numpy as np\n",
        "import pandas as pd"
      ],
      "execution_count": 0,
      "outputs": []
    },
    {
      "cell_type": "code",
      "metadata": {
        "id": "8Fz__SlFNd81",
        "colab_type": "code",
        "colab": {}
      },
      "source": [
        "#data = pd.read_csv('../../source/tr_eikon_eod_data.csv',\n",
        "SOURCE_FILE_PATH = os.path.join(SOURCE_PATH, 'tr_eikon_eod_data.csv')\n",
        "data = pd.read_csv(SOURCE_FILE_PATH,\n",
        "                   index_col=0, parse_dates=True)\n",
        "data = pd.DataFrame(data['AAPL.O'])  \n",
        "data['Returns'] = np.log(data / data.shift())  \n",
        "data.dropna(inplace=True)"
      ],
      "execution_count": 0,
      "outputs": []
    },
    {
      "cell_type": "code",
      "metadata": {
        "id": "LNGuyQl6Nd82",
        "colab_type": "code",
        "colab": {}
      },
      "source": [
        "lags = 6"
      ],
      "execution_count": 0,
      "outputs": []
    },
    {
      "cell_type": "code",
      "metadata": {
        "id": "IGSwMyBxNd84",
        "colab_type": "code",
        "colab": {}
      },
      "source": [
        "cols = []\n",
        "for lag in range(1, lags + 1):\n",
        "    col = 'lag_{}'.format(lag)\n",
        "    data[col] = np.sign(data['Returns'].shift(lag))  \n",
        "    cols.append(col)\n",
        "data.dropna(inplace=True)"
      ],
      "execution_count": 0,
      "outputs": []
    },
    {
      "cell_type": "code",
      "metadata": {
        "id": "M3L7xaMLNd85",
        "colab_type": "code",
        "colab": {}
      },
      "source": [
        "from sklearn.svm import SVC"
      ],
      "execution_count": 0,
      "outputs": []
    },
    {
      "cell_type": "code",
      "metadata": {
        "id": "sBMcj4n3Nd86",
        "colab_type": "code",
        "colab": {}
      },
      "source": [
        "model = SVC(gamma='scale')  "
      ],
      "execution_count": 0,
      "outputs": []
    },
    {
      "cell_type": "code",
      "metadata": {
        "id": "RQf5aL0iNd88",
        "colab_type": "code",
        "outputId": "d73f22bb-4f4e-4625-f42f-7b4422894cb6",
        "colab": {
          "base_uri": "https://localhost:8080/",
          "height": 85
        }
      },
      "source": [
        "model.fit(data[cols], np.sign(data['Returns']))  "
      ],
      "execution_count": 36,
      "outputs": [
        {
          "output_type": "execute_result",
          "data": {
            "text/plain": [
              "SVC(C=1.0, cache_size=200, class_weight=None, coef0=0.0,\n",
              "    decision_function_shape='ovr', degree=3, gamma='scale', kernel='rbf',\n",
              "    max_iter=-1, probability=False, random_state=None, shrinking=True,\n",
              "    tol=0.001, verbose=False)"
            ]
          },
          "metadata": {
            "tags": []
          },
          "execution_count": 36
        }
      ]
    },
    {
      "cell_type": "code",
      "metadata": {
        "id": "WpcdiIeYNd89",
        "colab_type": "code",
        "colab": {}
      },
      "source": [
        "data['Prediction'] = model.predict(data[cols])  "
      ],
      "execution_count": 0,
      "outputs": []
    },
    {
      "cell_type": "code",
      "metadata": {
        "id": "DFeHFg5aNd8-",
        "colab_type": "code",
        "colab": {}
      },
      "source": [
        "data['Strategy'] = data['Prediction'] * data['Returns']  "
      ],
      "execution_count": 0,
      "outputs": []
    },
    {
      "cell_type": "code",
      "metadata": {
        "id": "5HNG4WQGNd8_",
        "colab_type": "code",
        "outputId": "ce63c2b3-4384-49f9-d52d-360157e98830",
        "colab": {
          "base_uri": "https://localhost:8080/",
          "height": 366
        }
      },
      "source": [
        "data[['Returns', 'Strategy']].cumsum().apply(np.exp).plot(figsize=(10, 6));  \n",
        "# plt.savefig('../../images/ch01/AAPL_trading_strategy.png');"
      ],
      "execution_count": 39,
      "outputs": [
        {
          "output_type": "display_data",
          "data": {
            "image/png": "[encoded data removed]",
            "text/plain": [
              "<Figure size 720x432 with 1 Axes>"
            ]
          },
          "metadata": {
            "tags": []
          }
        }
      ]
    },
    {
      "cell_type": "markdown",
      "metadata": {
        "id": "yzh22dLLNd9B",
        "colab_type": "text"
      },
      "source": [
        "<img src=\"http://hilpisch.com/tpq_logo.png\" alt=\"The Python Quants\" width=\"35%\" align=\"right\" border=\"0\"><br>\n",
        "\n",
        "<a href=\"http://tpq.io\" target=\"_blank\">http://tpq.io</a> | <a href=\"http://twitter.com/dyjh\" target=\"_blank\">@dyjh</a> | <a href=\"mailto:training@tpq.io\">training@tpq.io</a>"
      ]
    }
  ]
}