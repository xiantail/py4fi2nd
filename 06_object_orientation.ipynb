{
  "nbformat": 4,
  "nbformat_minor": 0,
  "metadata": {
    "anaconda-cloud": {},
    "kernelspec": {
      "display_name": "Python 3",
      "language": "python",
      "name": "python3"
    },
    "language_info": {
      "codemirror_mode": {
        "name": "ipython",
        "version": 3
      },
      "file_extension": ".py",
      "mimetype": "text/x-python",
      "name": "python",
      "nbconvert_exporter": "python",
      "pygments_lexer": "ipython3",
      "version": "3.6.7"
    },
    "colab": {
      "name": "06_object_orientation.ipynb",
      "provenance": [],
      "include_colab_link": true
    }
  },
  "cells": [
    {
      "cell_type": "markdown",
      "metadata": {
        "id": "view-in-github",
        "colab_type": "text"
      },
      "source": [
        "<a href=\"https://colab.research.google.com/github/xiantail/py4fi2nd/blob/master/06_object_orientation.ipynb\" target=\"_parent\"><img src=\"https://colab.research.google.com/assets/colab-badge.svg\" alt=\"Open In Colab\"/></a>"
      ]
    },
    {
      "cell_type": "markdown",
      "metadata": {
        "id": "Z0dRZiSTYit6",
        "colab_type": "text"
      },
      "source": [
        "<img src=\"http://hilpisch.com/tpq_logo.png\" alt=\"The Python Quants\" width=\"35%\" align=\"right\" border=\"0\"><br>"
      ]
    },
    {
      "cell_type": "markdown",
      "metadata": {
        "id": "4pJZK60KYit8",
        "colab_type": "text"
      },
      "source": [
        "# Python for Finance (2nd ed.)\n",
        "\n",
        "**Mastering Data-Driven Finance**\n",
        "\n",
        "&copy; Dr. Yves J. Hilpisch | The Python Quants GmbH\n",
        "\n",
        "<img src=\"http://hilpisch.com/images/py4fi_2nd_shadow.png\" width=\"300px\" align=\"left\">"
      ]
    },
    {
      "cell_type": "markdown",
      "metadata": {
        "id": "LPAn4x0fYit9",
        "colab_type": "text"
      },
      "source": [
        "# Object Oriented Programming"
      ]
    },
    {
      "cell_type": "markdown",
      "metadata": {
        "id": "yKXcZ0x1Yit9",
        "colab_type": "text"
      },
      "source": [
        "## Introduction"
      ]
    },
    {
      "cell_type": "code",
      "metadata": {
        "id": "j4FwlqpwYit-",
        "colab_type": "code",
        "colab": {}
      },
      "source": [
        "class HumanBeing(object):  \n",
        "    def __init__(self, first_name, eye_color):  \n",
        "        self.first_name = first_name  \n",
        "        self.eye_color = eye_color  \n",
        "        self.position = 0  \n",
        "    def walk_steps(self, steps):  \n",
        "        self.position += steps  "
      ],
      "execution_count": 0,
      "outputs": []
    },
    {
      "cell_type": "code",
      "metadata": {
        "id": "kn3xWwAMYiuB",
        "colab_type": "code",
        "colab": {}
      },
      "source": [
        "Sandra = HumanBeing('Sandra', 'blue')  "
      ],
      "execution_count": 0,
      "outputs": []
    },
    {
      "cell_type": "code",
      "metadata": {
        "id": "7N-yU-7NYiuC",
        "colab_type": "code",
        "outputId": "b9797d56-488d-4047-dac1-16024d120404",
        "colab": {
          "base_uri": "https://localhost:8080/",
          "height": 34
        }
      },
      "source": [
        "Sandra.first_name  "
      ],
      "execution_count": 0,
      "outputs": [
        {
          "output_type": "execute_result",
          "data": {
            "text/plain": [
              "'Sandra'"
            ]
          },
          "metadata": {
            "tags": []
          },
          "execution_count": 3
        }
      ]
    },
    {
      "cell_type": "code",
      "metadata": {
        "id": "-BooBMPuYiuF",
        "colab_type": "code",
        "outputId": "f121cd91-6da2-4710-da2f-8429aafebee0",
        "colab": {
          "base_uri": "https://localhost:8080/",
          "height": 34
        }
      },
      "source": [
        "Sandra.position  "
      ],
      "execution_count": 0,
      "outputs": [
        {
          "output_type": "execute_result",
          "data": {
            "text/plain": [
              "0"
            ]
          },
          "metadata": {
            "tags": []
          },
          "execution_count": 4
        }
      ]
    },
    {
      "cell_type": "code",
      "metadata": {
        "id": "sy8QaPqvYiuH",
        "colab_type": "code",
        "colab": {}
      },
      "source": [
        "Sandra.walk_steps(5)  "
      ],
      "execution_count": 0,
      "outputs": []
    },
    {
      "cell_type": "code",
      "metadata": {
        "id": "PwetWbAMYiuJ",
        "colab_type": "code",
        "outputId": "27deca18-6466-4283-cc64-9f469d81bcc5",
        "colab": {
          "base_uri": "https://localhost:8080/",
          "height": 34
        }
      },
      "source": [
        "Sandra.position  "
      ],
      "execution_count": 0,
      "outputs": [
        {
          "output_type": "execute_result",
          "data": {
            "text/plain": [
              "5"
            ]
          },
          "metadata": {
            "tags": []
          },
          "execution_count": 6
        }
      ]
    },
    {
      "cell_type": "markdown",
      "metadata": {
        "id": "_8t3LvH7YiuK",
        "colab_type": "text"
      },
      "source": [
        "## A Brief Look at Standard Objects"
      ]
    },
    {
      "cell_type": "markdown",
      "metadata": {
        "id": "1U5kA3EkYiuL",
        "colab_type": "text"
      },
      "source": [
        "### int"
      ]
    },
    {
      "cell_type": "code",
      "metadata": {
        "id": "b7tktP-RYiuL",
        "colab_type": "code",
        "colab": {}
      },
      "source": [
        "n = 5  "
      ],
      "execution_count": 0,
      "outputs": []
    },
    {
      "cell_type": "code",
      "metadata": {
        "id": "JG4GaX18YiuN",
        "colab_type": "code",
        "outputId": "4bb38c60-186d-48db-ed91-5487ada91b30",
        "colab": {
          "base_uri": "https://localhost:8080/",
          "height": 34
        }
      },
      "source": [
        "type(n)  "
      ],
      "execution_count": 0,
      "outputs": [
        {
          "output_type": "execute_result",
          "data": {
            "text/plain": [
              "int"
            ]
          },
          "metadata": {
            "tags": []
          },
          "execution_count": 8
        }
      ]
    },
    {
      "cell_type": "code",
      "metadata": {
        "id": "lKvBsJXfYiuO",
        "colab_type": "code",
        "outputId": "b0e9ee35-1ebf-47aa-f82f-b757d0382d88",
        "colab": {
          "base_uri": "https://localhost:8080/",
          "height": 34
        }
      },
      "source": [
        "n.numerator  "
      ],
      "execution_count": 0,
      "outputs": [
        {
          "output_type": "execute_result",
          "data": {
            "text/plain": [
              "5"
            ]
          },
          "metadata": {
            "tags": []
          },
          "execution_count": 9
        }
      ]
    },
    {
      "cell_type": "code",
      "metadata": {
        "id": "GiayLzhEYiuQ",
        "colab_type": "code",
        "outputId": "2c93015f-22bd-43eb-d5e8-2dcb2d5d930a",
        "colab": {
          "base_uri": "https://localhost:8080/",
          "height": 34
        }
      },
      "source": [
        "n.bit_length()  "
      ],
      "execution_count": 0,
      "outputs": [
        {
          "output_type": "execute_result",
          "data": {
            "text/plain": [
              "3"
            ]
          },
          "metadata": {
            "tags": []
          },
          "execution_count": 10
        }
      ]
    },
    {
      "cell_type": "code",
      "metadata": {
        "id": "tKBEYIuWYiuR",
        "colab_type": "code",
        "outputId": "37a07e85-02cd-4677-a0cc-bddad859fc64",
        "colab": {
          "base_uri": "https://localhost:8080/",
          "height": 34
        }
      },
      "source": [
        "n + n  "
      ],
      "execution_count": 0,
      "outputs": [
        {
          "output_type": "execute_result",
          "data": {
            "text/plain": [
              "10"
            ]
          },
          "metadata": {
            "tags": []
          },
          "execution_count": 11
        }
      ]
    },
    {
      "cell_type": "code",
      "metadata": {
        "id": "VP92W8iMYiuT",
        "colab_type": "code",
        "outputId": "56d74c6d-bd82-4859-c82b-4a44f3b32983",
        "colab": {
          "base_uri": "https://localhost:8080/",
          "height": 34
        }
      },
      "source": [
        "2 * n  "
      ],
      "execution_count": 0,
      "outputs": [
        {
          "output_type": "execute_result",
          "data": {
            "text/plain": [
              "10"
            ]
          },
          "metadata": {
            "tags": []
          },
          "execution_count": 12
        }
      ]
    },
    {
      "cell_type": "code",
      "metadata": {
        "id": "2J3xRUsZYiuU",
        "colab_type": "code",
        "outputId": "805449d5-866d-4f0d-da08-845741f43170",
        "colab": {
          "base_uri": "https://localhost:8080/",
          "height": 34
        }
      },
      "source": [
        "n.__sizeof__()  "
      ],
      "execution_count": 0,
      "outputs": [
        {
          "output_type": "execute_result",
          "data": {
            "text/plain": [
              "28"
            ]
          },
          "metadata": {
            "tags": []
          },
          "execution_count": 13
        }
      ]
    },
    {
      "cell_type": "markdown",
      "metadata": {
        "id": "t2aits2MYiuW",
        "colab_type": "text"
      },
      "source": [
        "### list"
      ]
    },
    {
      "cell_type": "code",
      "metadata": {
        "id": "CdHKWGDdYiuX",
        "colab_type": "code",
        "colab": {}
      },
      "source": [
        "l = [1, 2, 3, 4]  "
      ],
      "execution_count": 0,
      "outputs": []
    },
    {
      "cell_type": "code",
      "metadata": {
        "id": "W2hIZzp2YiuY",
        "colab_type": "code",
        "outputId": "ede96bdb-ce2a-4a60-f4ed-7ec2425d9858",
        "colab": {
          "base_uri": "https://localhost:8080/",
          "height": 34
        }
      },
      "source": [
        "type(l)  "
      ],
      "execution_count": 0,
      "outputs": [
        {
          "output_type": "execute_result",
          "data": {
            "text/plain": [
              "list"
            ]
          },
          "metadata": {
            "tags": []
          },
          "execution_count": 15
        }
      ]
    },
    {
      "cell_type": "code",
      "metadata": {
        "id": "bvwbSwnOYiua",
        "colab_type": "code",
        "outputId": "765ca611-1124-4628-9480-f0caabca6c77",
        "colab": {
          "base_uri": "https://localhost:8080/",
          "height": 34
        }
      },
      "source": [
        "l[0]  "
      ],
      "execution_count": 0,
      "outputs": [
        {
          "output_type": "execute_result",
          "data": {
            "text/plain": [
              "1"
            ]
          },
          "metadata": {
            "tags": []
          },
          "execution_count": 16
        }
      ]
    },
    {
      "cell_type": "code",
      "metadata": {
        "id": "NQV9x3hLYiue",
        "colab_type": "code",
        "colab": {}
      },
      "source": [
        "l.append(10)  "
      ],
      "execution_count": 0,
      "outputs": []
    },
    {
      "cell_type": "code",
      "metadata": {
        "id": "Z8bb3qcCYiuf",
        "colab_type": "code",
        "outputId": "56178469-25af-4799-d778-2f68fc628f5f",
        "colab": {
          "base_uri": "https://localhost:8080/",
          "height": 34
        }
      },
      "source": [
        "l + l  "
      ],
      "execution_count": 0,
      "outputs": [
        {
          "output_type": "execute_result",
          "data": {
            "text/plain": [
              "[1, 2, 3, 4, 10, 1, 2, 3, 4, 10]"
            ]
          },
          "metadata": {
            "tags": []
          },
          "execution_count": 18
        }
      ]
    },
    {
      "cell_type": "code",
      "metadata": {
        "id": "7_-bPlE7Yiui",
        "colab_type": "code",
        "outputId": "fa0040d4-72c1-49a6-a1d3-a73e8d257b56",
        "colab": {
          "base_uri": "https://localhost:8080/",
          "height": 34
        }
      },
      "source": [
        "2 * l  "
      ],
      "execution_count": 0,
      "outputs": [
        {
          "output_type": "execute_result",
          "data": {
            "text/plain": [
              "[1, 2, 3, 4, 10, 1, 2, 3, 4, 10]"
            ]
          },
          "metadata": {
            "tags": []
          },
          "execution_count": 19
        }
      ]
    },
    {
      "cell_type": "code",
      "metadata": {
        "id": "HR6EJKyfYiuk",
        "colab_type": "code",
        "outputId": "3500cb67-2ea7-4125-b60c-1387fa125936",
        "colab": {
          "base_uri": "https://localhost:8080/",
          "height": 34
        }
      },
      "source": [
        "sum(l)  "
      ],
      "execution_count": 0,
      "outputs": [
        {
          "output_type": "execute_result",
          "data": {
            "text/plain": [
              "20"
            ]
          },
          "metadata": {
            "tags": []
          },
          "execution_count": 20
        }
      ]
    },
    {
      "cell_type": "code",
      "metadata": {
        "id": "xF8lU3L_Yiul",
        "colab_type": "code",
        "outputId": "a172bce8-f165-40d1-bdf8-1c8c61b2a582",
        "colab": {
          "base_uri": "https://localhost:8080/",
          "height": 34
        }
      },
      "source": [
        "l.__sizeof__()  "
      ],
      "execution_count": 0,
      "outputs": [
        {
          "output_type": "execute_result",
          "data": {
            "text/plain": [
              "104"
            ]
          },
          "metadata": {
            "tags": []
          },
          "execution_count": 21
        }
      ]
    },
    {
      "cell_type": "markdown",
      "metadata": {
        "id": "6r3pdOPbYiun",
        "colab_type": "text"
      },
      "source": [
        "### ndarray"
      ]
    },
    {
      "cell_type": "code",
      "metadata": {
        "id": "abAkdt2lYiun",
        "colab_type": "code",
        "colab": {}
      },
      "source": [
        "import numpy as np  "
      ],
      "execution_count": 0,
      "outputs": []
    },
    {
      "cell_type": "code",
      "metadata": {
        "id": "HcfkRQUsYiup",
        "colab_type": "code",
        "colab": {}
      },
      "source": [
        "a = np.arange(16).reshape((4, 4))  "
      ],
      "execution_count": 0,
      "outputs": []
    },
    {
      "cell_type": "code",
      "metadata": {
        "id": "z6zYnpXGYiuq",
        "colab_type": "code",
        "outputId": "57e214a1-01ce-4b20-e1c9-d3e25384535d",
        "colab": {
          "base_uri": "https://localhost:8080/",
          "height": 85
        }
      },
      "source": [
        "a  "
      ],
      "execution_count": 0,
      "outputs": [
        {
          "output_type": "execute_result",
          "data": {
            "text/plain": [
              "array([[ 0,  1,  2,  3],\n",
              "       [ 4,  5,  6,  7],\n",
              "       [ 8,  9, 10, 11],\n",
              "       [12, 13, 14, 15]])"
            ]
          },
          "metadata": {
            "tags": []
          },
          "execution_count": 24
        }
      ]
    },
    {
      "cell_type": "code",
      "metadata": {
        "id": "Xk2tpfALYiur",
        "colab_type": "code",
        "outputId": "be39f2b4-2bf1-437e-80bb-6852a58b9d2c",
        "colab": {
          "base_uri": "https://localhost:8080/",
          "height": 34
        }
      },
      "source": [
        "type(a)  "
      ],
      "execution_count": 0,
      "outputs": [
        {
          "output_type": "execute_result",
          "data": {
            "text/plain": [
              "numpy.ndarray"
            ]
          },
          "metadata": {
            "tags": []
          },
          "execution_count": 25
        }
      ]
    },
    {
      "cell_type": "code",
      "metadata": {
        "id": "9SDa-G6nYiut",
        "colab_type": "code",
        "outputId": "070ab6dc-d56b-4c1c-abba-04af7a44776b",
        "colab": {
          "base_uri": "https://localhost:8080/",
          "height": 34
        }
      },
      "source": [
        "a.nbytes  "
      ],
      "execution_count": 0,
      "outputs": [
        {
          "output_type": "execute_result",
          "data": {
            "text/plain": [
              "128"
            ]
          },
          "metadata": {
            "tags": []
          },
          "execution_count": 26
        }
      ]
    },
    {
      "cell_type": "code",
      "metadata": {
        "id": "vF49xZyoYiuu",
        "colab_type": "code",
        "outputId": "802c15aa-ced3-46a6-c9d3-ea50bd8b24d1",
        "colab": {
          "base_uri": "https://localhost:8080/",
          "height": 34
        }
      },
      "source": [
        "a.sum()  "
      ],
      "execution_count": 0,
      "outputs": [
        {
          "output_type": "execute_result",
          "data": {
            "text/plain": [
              "120"
            ]
          },
          "metadata": {
            "tags": []
          },
          "execution_count": 27
        }
      ]
    },
    {
      "cell_type": "code",
      "metadata": {
        "id": "DcS0JfY5Yiuv",
        "colab_type": "code",
        "outputId": "d577cd94-626b-4f15-d466-c0e76eb92568",
        "colab": {
          "base_uri": "https://localhost:8080/",
          "height": 85
        }
      },
      "source": [
        "a.cumsum(axis=0)  "
      ],
      "execution_count": 0,
      "outputs": [
        {
          "output_type": "execute_result",
          "data": {
            "text/plain": [
              "array([[ 0,  1,  2,  3],\n",
              "       [ 4,  6,  8, 10],\n",
              "       [12, 15, 18, 21],\n",
              "       [24, 28, 32, 36]])"
            ]
          },
          "metadata": {
            "tags": []
          },
          "execution_count": 28
        }
      ]
    },
    {
      "cell_type": "code",
      "metadata": {
        "id": "Qm2RbyOIYiux",
        "colab_type": "code",
        "outputId": "e13f74a8-a6ba-4153-a750-5e2c0b9a0137",
        "colab": {
          "base_uri": "https://localhost:8080/",
          "height": 85
        }
      },
      "source": [
        "a + a  "
      ],
      "execution_count": 0,
      "outputs": [
        {
          "output_type": "execute_result",
          "data": {
            "text/plain": [
              "array([[ 0,  2,  4,  6],\n",
              "       [ 8, 10, 12, 14],\n",
              "       [16, 18, 20, 22],\n",
              "       [24, 26, 28, 30]])"
            ]
          },
          "metadata": {
            "tags": []
          },
          "execution_count": 29
        }
      ]
    },
    {
      "cell_type": "code",
      "metadata": {
        "id": "Y8v117qfYiuy",
        "colab_type": "code",
        "outputId": "cf93d161-66b5-4f64-ac54-2c3636e96430",
        "colab": {
          "base_uri": "https://localhost:8080/",
          "height": 85
        }
      },
      "source": [
        "2 * a  "
      ],
      "execution_count": 0,
      "outputs": [
        {
          "output_type": "execute_result",
          "data": {
            "text/plain": [
              "array([[ 0,  2,  4,  6],\n",
              "       [ 8, 10, 12, 14],\n",
              "       [16, 18, 20, 22],\n",
              "       [24, 26, 28, 30]])"
            ]
          },
          "metadata": {
            "tags": []
          },
          "execution_count": 30
        }
      ]
    },
    {
      "cell_type": "code",
      "metadata": {
        "id": "NqQSxnoXYiu0",
        "colab_type": "code",
        "outputId": "e9a4405c-4544-40f5-9139-b1bdeb3cd2c9",
        "colab": {
          "base_uri": "https://localhost:8080/",
          "height": 34
        }
      },
      "source": [
        "sum(a)  "
      ],
      "execution_count": 0,
      "outputs": [
        {
          "output_type": "execute_result",
          "data": {
            "text/plain": [
              "array([24, 28, 32, 36])"
            ]
          },
          "metadata": {
            "tags": []
          },
          "execution_count": 31
        }
      ]
    },
    {
      "cell_type": "code",
      "metadata": {
        "id": "rvDDnfoeYiu1",
        "colab_type": "code",
        "outputId": "24fa9d87-032c-43c1-cc2d-5afe5d8dee4c",
        "colab": {
          "base_uri": "https://localhost:8080/",
          "height": 34
        }
      },
      "source": [
        "np.sum(a)  "
      ],
      "execution_count": 0,
      "outputs": [
        {
          "output_type": "execute_result",
          "data": {
            "text/plain": [
              "120"
            ]
          },
          "metadata": {
            "tags": []
          },
          "execution_count": 32
        }
      ]
    },
    {
      "cell_type": "code",
      "metadata": {
        "id": "OGXY0sPfYiu2",
        "colab_type": "code",
        "outputId": "cf886c73-b4b5-44a3-f33c-fbf0acc6b377",
        "colab": {
          "base_uri": "https://localhost:8080/",
          "height": 34
        }
      },
      "source": [
        "a.__sizeof__()  "
      ],
      "execution_count": 0,
      "outputs": [
        {
          "output_type": "execute_result",
          "data": {
            "text/plain": [
              "112"
            ]
          },
          "metadata": {
            "tags": []
          },
          "execution_count": 33
        }
      ]
    },
    {
      "cell_type": "markdown",
      "metadata": {
        "id": "tv046gqlYiu4",
        "colab_type": "text"
      },
      "source": [
        "### DataFrame"
      ]
    },
    {
      "cell_type": "code",
      "metadata": {
        "id": "l9jDpkQYYiu4",
        "colab_type": "code",
        "colab": {}
      },
      "source": [
        "import pandas as pd  "
      ],
      "execution_count": 0,
      "outputs": []
    },
    {
      "cell_type": "code",
      "metadata": {
        "id": "gzIEbGp6Yiu5",
        "colab_type": "code",
        "colab": {}
      },
      "source": [
        "df = pd.DataFrame(a, columns=list('abcd'))  "
      ],
      "execution_count": 0,
      "outputs": []
    },
    {
      "cell_type": "code",
      "metadata": {
        "id": "GP3yzXCKYiu6",
        "colab_type": "code",
        "outputId": "266d1456-fdd2-4bdd-e23f-6e164cd8f8c3",
        "colab": {
          "base_uri": "https://localhost:8080/",
          "height": 34
        }
      },
      "source": [
        "type(df)  "
      ],
      "execution_count": 0,
      "outputs": [
        {
          "output_type": "execute_result",
          "data": {
            "text/plain": [
              "pandas.core.frame.DataFrame"
            ]
          },
          "metadata": {
            "tags": []
          },
          "execution_count": 36
        }
      ]
    },
    {
      "cell_type": "code",
      "metadata": {
        "id": "1aV0zoowYiu8",
        "colab_type": "code",
        "outputId": "d0218c11-6047-4af2-e0c5-dee36d17c432",
        "colab": {
          "base_uri": "https://localhost:8080/",
          "height": 34
        }
      },
      "source": [
        "df.columns  "
      ],
      "execution_count": 0,
      "outputs": [
        {
          "output_type": "execute_result",
          "data": {
            "text/plain": [
              "Index(['a', 'b', 'c', 'd'], dtype='object')"
            ]
          },
          "metadata": {
            "tags": []
          },
          "execution_count": 37
        }
      ]
    },
    {
      "cell_type": "code",
      "metadata": {
        "id": "xG239nXIYiu9",
        "colab_type": "code",
        "outputId": "38058765-d855-451b-cf9e-37a1dcbe5252",
        "colab": {
          "base_uri": "https://localhost:8080/",
          "height": 102
        }
      },
      "source": [
        "df.sum()  "
      ],
      "execution_count": 0,
      "outputs": [
        {
          "output_type": "execute_result",
          "data": {
            "text/plain": [
              "a    24\n",
              "b    28\n",
              "c    32\n",
              "d    36\n",
              "dtype: int64"
            ]
          },
          "metadata": {
            "tags": []
          },
          "execution_count": 38
        }
      ]
    },
    {
      "cell_type": "code",
      "metadata": {
        "id": "O2UuCYtPYiu-",
        "colab_type": "code",
        "outputId": "4d334d6b-65f7-4aa4-c6b7-9f80a3bec314",
        "colab": {
          "base_uri": "https://localhost:8080/",
          "height": 173
        }
      },
      "source": [
        "df.cumsum()  "
      ],
      "execution_count": 0,
      "outputs": [
        {
          "output_type": "execute_result",
          "data": {
            "text/html": [
              "<div>\n",
              "<style scoped>\n",
              "    .dataframe tbody tr th:only-of-type {\n",
              "        vertical-align: middle;\n",
              "    }\n",
              "\n",
              "    .dataframe tbody tr th {\n",
              "        vertical-align: top;\n",
              "    }\n",
              "\n",
              "    .dataframe thead th {\n",
              "        text-align: right;\n",
              "    }\n",
              "</style>\n",
              "<table border=\"1\" class=\"dataframe\">\n",
              "  <thead>\n",
              "    <tr style=\"text-align: right;\">\n",
              "      <th></th>\n",
              "      <th>a</th>\n",
              "      <th>b</th>\n",
              "      <th>c</th>\n",
              "      <th>d</th>\n",
              "    </tr>\n",
              "  </thead>\n",
              "  <tbody>\n",
              "    <tr>\n",
              "      <th>0</th>\n",
              "      <td>0</td>\n",
              "      <td>1</td>\n",
              "      <td>2</td>\n",
              "      <td>3</td>\n",
              "    </tr>\n",
              "    <tr>\n",
              "      <th>1</th>\n",
              "      <td>4</td>\n",
              "      <td>6</td>\n",
              "      <td>8</td>\n",
              "      <td>10</td>\n",
              "    </tr>\n",
              "    <tr>\n",
              "      <th>2</th>\n",
              "      <td>12</td>\n",
              "      <td>15</td>\n",
              "      <td>18</td>\n",
              "      <td>21</td>\n",
              "    </tr>\n",
              "    <tr>\n",
              "      <th>3</th>\n",
              "      <td>24</td>\n",
              "      <td>28</td>\n",
              "      <td>32</td>\n",
              "      <td>36</td>\n",
              "    </tr>\n",
              "  </tbody>\n",
              "</table>\n",
              "</div>"
            ],
            "text/plain": [
              "    a   b   c   d\n",
              "0   0   1   2   3\n",
              "1   4   6   8  10\n",
              "2  12  15  18  21\n",
              "3  24  28  32  36"
            ]
          },
          "metadata": {
            "tags": []
          },
          "execution_count": 39
        }
      ]
    },
    {
      "cell_type": "code",
      "metadata": {
        "id": "QGmiilJjYivA",
        "colab_type": "code",
        "outputId": "8ae762ec-0e93-4753-e8d0-4e2165d535bb",
        "colab": {
          "base_uri": "https://localhost:8080/",
          "height": 173
        }
      },
      "source": [
        "df + df  "
      ],
      "execution_count": 0,
      "outputs": [
        {
          "output_type": "execute_result",
          "data": {
            "text/html": [
              "<div>\n",
              "<style scoped>\n",
              "    .dataframe tbody tr th:only-of-type {\n",
              "        vertical-align: middle;\n",
              "    }\n",
              "\n",
              "    .dataframe tbody tr th {\n",
              "        vertical-align: top;\n",
              "    }\n",
              "\n",
              "    .dataframe thead th {\n",
              "        text-align: right;\n",
              "    }\n",
              "</style>\n",
              "<table border=\"1\" class=\"dataframe\">\n",
              "  <thead>\n",
              "    <tr style=\"text-align: right;\">\n",
              "      <th></th>\n",
              "      <th>a</th>\n",
              "      <th>b</th>\n",
              "      <th>c</th>\n",
              "      <th>d</th>\n",
              "    </tr>\n",
              "  </thead>\n",
              "  <tbody>\n",
              "    <tr>\n",
              "      <th>0</th>\n",
              "      <td>0</td>\n",
              "      <td>2</td>\n",
              "      <td>4</td>\n",
              "      <td>6</td>\n",
              "    </tr>\n",
              "    <tr>\n",
              "      <th>1</th>\n",
              "      <td>8</td>\n",
              "      <td>10</td>\n",
              "      <td>12</td>\n",
              "      <td>14</td>\n",
              "    </tr>\n",
              "    <tr>\n",
              "      <th>2</th>\n",
              "      <td>16</td>\n",
              "      <td>18</td>\n",
              "      <td>20</td>\n",
              "      <td>22</td>\n",
              "    </tr>\n",
              "    <tr>\n",
              "      <th>3</th>\n",
              "      <td>24</td>\n",
              "      <td>26</td>\n",
              "      <td>28</td>\n",
              "      <td>30</td>\n",
              "    </tr>\n",
              "  </tbody>\n",
              "</table>\n",
              "</div>"
            ],
            "text/plain": [
              "    a   b   c   d\n",
              "0   0   2   4   6\n",
              "1   8  10  12  14\n",
              "2  16  18  20  22\n",
              "3  24  26  28  30"
            ]
          },
          "metadata": {
            "tags": []
          },
          "execution_count": 40
        }
      ]
    },
    {
      "cell_type": "code",
      "metadata": {
        "id": "PVy0LYg3YivB",
        "colab_type": "code",
        "outputId": "c3ebfba1-11f3-4957-927d-c89eaf6ee690",
        "colab": {
          "base_uri": "https://localhost:8080/",
          "height": 173
        }
      },
      "source": [
        "2 * df  "
      ],
      "execution_count": 0,
      "outputs": [
        {
          "output_type": "execute_result",
          "data": {
            "text/html": [
              "<div>\n",
              "<style scoped>\n",
              "    .dataframe tbody tr th:only-of-type {\n",
              "        vertical-align: middle;\n",
              "    }\n",
              "\n",
              "    .dataframe tbody tr th {\n",
              "        vertical-align: top;\n",
              "    }\n",
              "\n",
              "    .dataframe thead th {\n",
              "        text-align: right;\n",
              "    }\n",
              "</style>\n",
              "<table border=\"1\" class=\"dataframe\">\n",
              "  <thead>\n",
              "    <tr style=\"text-align: right;\">\n",
              "      <th></th>\n",
              "      <th>a</th>\n",
              "      <th>b</th>\n",
              "      <th>c</th>\n",
              "      <th>d</th>\n",
              "    </tr>\n",
              "  </thead>\n",
              "  <tbody>\n",
              "    <tr>\n",
              "      <th>0</th>\n",
              "      <td>0</td>\n",
              "      <td>2</td>\n",
              "      <td>4</td>\n",
              "      <td>6</td>\n",
              "    </tr>\n",
              "    <tr>\n",
              "      <th>1</th>\n",
              "      <td>8</td>\n",
              "      <td>10</td>\n",
              "      <td>12</td>\n",
              "      <td>14</td>\n",
              "    </tr>\n",
              "    <tr>\n",
              "      <th>2</th>\n",
              "      <td>16</td>\n",
              "      <td>18</td>\n",
              "      <td>20</td>\n",
              "      <td>22</td>\n",
              "    </tr>\n",
              "    <tr>\n",
              "      <th>3</th>\n",
              "      <td>24</td>\n",
              "      <td>26</td>\n",
              "      <td>28</td>\n",
              "      <td>30</td>\n",
              "    </tr>\n",
              "  </tbody>\n",
              "</table>\n",
              "</div>"
            ],
            "text/plain": [
              "    a   b   c   d\n",
              "0   0   2   4   6\n",
              "1   8  10  12  14\n",
              "2  16  18  20  22\n",
              "3  24  26  28  30"
            ]
          },
          "metadata": {
            "tags": []
          },
          "execution_count": 41
        }
      ]
    },
    {
      "cell_type": "code",
      "metadata": {
        "id": "dgMbmJuEYivD",
        "colab_type": "code",
        "outputId": "361b1a78-564c-4267-a895-c010d2e4be6b",
        "colab": {
          "base_uri": "https://localhost:8080/",
          "height": 102
        }
      },
      "source": [
        "np.sum(df)  "
      ],
      "execution_count": 0,
      "outputs": [
        {
          "output_type": "execute_result",
          "data": {
            "text/plain": [
              "a    24\n",
              "b    28\n",
              "c    32\n",
              "d    36\n",
              "dtype: int64"
            ]
          },
          "metadata": {
            "tags": []
          },
          "execution_count": 42
        }
      ]
    },
    {
      "cell_type": "code",
      "metadata": {
        "id": "m_e5_khRYivE",
        "colab_type": "code",
        "outputId": "a9d380c9-77e0-45d1-d730-8bcf0859af9c",
        "colab": {
          "base_uri": "https://localhost:8080/",
          "height": 34
        }
      },
      "source": [
        "df.__sizeof__()  "
      ],
      "execution_count": 0,
      "outputs": [
        {
          "output_type": "execute_result",
          "data": {
            "text/plain": [
              "256"
            ]
          },
          "metadata": {
            "tags": []
          },
          "execution_count": 43
        }
      ]
    },
    {
      "cell_type": "markdown",
      "metadata": {
        "id": "ST8rqJdEYivH",
        "colab_type": "text"
      },
      "source": [
        "## Basics of Python Classes"
      ]
    },
    {
      "cell_type": "code",
      "metadata": {
        "id": "Qu6WRzRVYivI",
        "colab_type": "code",
        "colab": {}
      },
      "source": [
        "class FinancialInstrument(object):  \n",
        "    pass  "
      ],
      "execution_count": 0,
      "outputs": []
    },
    {
      "cell_type": "code",
      "metadata": {
        "id": "bwoNTFlnYivJ",
        "colab_type": "code",
        "colab": {}
      },
      "source": [
        "fi = FinancialInstrument()  "
      ],
      "execution_count": 0,
      "outputs": []
    },
    {
      "cell_type": "code",
      "metadata": {
        "id": "8rkFNy3hYivL",
        "colab_type": "code",
        "outputId": "429c9af1-8a5a-46a5-9260-f9b1f3fc9645",
        "colab": {
          "base_uri": "https://localhost:8080/",
          "height": 34
        }
      },
      "source": [
        "type(fi)  "
      ],
      "execution_count": 0,
      "outputs": [
        {
          "output_type": "execute_result",
          "data": {
            "text/plain": [
              "__main__.FinancialInstrument"
            ]
          },
          "metadata": {
            "tags": []
          },
          "execution_count": 46
        }
      ]
    },
    {
      "cell_type": "code",
      "metadata": {
        "id": "Kp8lylazYivM",
        "colab_type": "code",
        "outputId": "e872de08-b742-4194-f9ba-61f4951bc0e2",
        "colab": {
          "base_uri": "https://localhost:8080/",
          "height": 34
        }
      },
      "source": [
        "fi  "
      ],
      "execution_count": 0,
      "outputs": [
        {
          "output_type": "execute_result",
          "data": {
            "text/plain": [
              "<__main__.FinancialInstrument at 0x7facf218a208>"
            ]
          },
          "metadata": {
            "tags": []
          },
          "execution_count": 47
        }
      ]
    },
    {
      "cell_type": "code",
      "metadata": {
        "id": "1fPhtQJnYivN",
        "colab_type": "code",
        "outputId": "6ce21117-efc8-4637-ee6f-83c16bce1c45",
        "colab": {
          "base_uri": "https://localhost:8080/",
          "height": 34
        }
      },
      "source": [
        "fi.__str__()  "
      ],
      "execution_count": 0,
      "outputs": [
        {
          "output_type": "execute_result",
          "data": {
            "text/plain": [
              "'<__main__.FinancialInstrument object at 0x7facf218a208>'"
            ]
          },
          "metadata": {
            "tags": []
          },
          "execution_count": 48
        }
      ]
    },
    {
      "cell_type": "code",
      "metadata": {
        "id": "0V6owTz2YivO",
        "colab_type": "code",
        "colab": {}
      },
      "source": [
        "fi.price = 100  "
      ],
      "execution_count": 0,
      "outputs": []
    },
    {
      "cell_type": "code",
      "metadata": {
        "id": "xzDpXdiTYivR",
        "colab_type": "code",
        "outputId": "3ce5e01e-1aff-4aa1-8b18-b5fc21825acb",
        "colab": {
          "base_uri": "https://localhost:8080/",
          "height": 34
        }
      },
      "source": [
        "fi.price  "
      ],
      "execution_count": 0,
      "outputs": [
        {
          "output_type": "execute_result",
          "data": {
            "text/plain": [
              "100"
            ]
          },
          "metadata": {
            "tags": []
          },
          "execution_count": 50
        }
      ]
    },
    {
      "cell_type": "code",
      "metadata": {
        "id": "dsvFWfwKYivT",
        "colab_type": "code",
        "colab": {}
      },
      "source": [
        "class FinancialInstrument(object):\n",
        "    author = 'Yves Hilpisch'  \n",
        "    def __init__(self, symbol, price):  \n",
        "        self.symbol = symbol  \n",
        "        self.price = price  "
      ],
      "execution_count": 0,
      "outputs": []
    },
    {
      "cell_type": "code",
      "metadata": {
        "id": "e_ScVKFbYivT",
        "colab_type": "code",
        "outputId": "74cb9383-c940-42c2-ed77-c36383d8e4a2",
        "colab": {
          "base_uri": "https://localhost:8080/",
          "height": 34
        }
      },
      "source": [
        "FinancialInstrument.author  "
      ],
      "execution_count": 0,
      "outputs": [
        {
          "output_type": "execute_result",
          "data": {
            "text/plain": [
              "'Yves Hilpisch'"
            ]
          },
          "metadata": {
            "tags": []
          },
          "execution_count": 52
        }
      ]
    },
    {
      "cell_type": "code",
      "metadata": {
        "id": "-rQRv9QlYivU",
        "colab_type": "code",
        "colab": {}
      },
      "source": [
        "aapl = FinancialInstrument('AAPL', 100)  "
      ],
      "execution_count": 0,
      "outputs": []
    },
    {
      "cell_type": "code",
      "metadata": {
        "id": "zttsvxyuYivW",
        "colab_type": "code",
        "outputId": "e4e7bb0b-4cd9-4f54-95ce-b9c013e94b75",
        "colab": {
          "base_uri": "https://localhost:8080/",
          "height": 34
        }
      },
      "source": [
        "aapl.symbol  "
      ],
      "execution_count": 0,
      "outputs": [
        {
          "output_type": "execute_result",
          "data": {
            "text/plain": [
              "'AAPL'"
            ]
          },
          "metadata": {
            "tags": []
          },
          "execution_count": 54
        }
      ]
    },
    {
      "cell_type": "code",
      "metadata": {
        "id": "pN7j7EmOYivX",
        "colab_type": "code",
        "outputId": "eea16747-8e5c-4dea-f523-0d328a5707cb",
        "colab": {
          "base_uri": "https://localhost:8080/",
          "height": 34
        }
      },
      "source": [
        "aapl.author  "
      ],
      "execution_count": 0,
      "outputs": [
        {
          "output_type": "execute_result",
          "data": {
            "text/plain": [
              "'Yves Hilpisch'"
            ]
          },
          "metadata": {
            "tags": []
          },
          "execution_count": 55
        }
      ]
    },
    {
      "cell_type": "code",
      "metadata": {
        "id": "-H4AETqXYivY",
        "colab_type": "code",
        "colab": {}
      },
      "source": [
        "aapl.price = 105  "
      ],
      "execution_count": 0,
      "outputs": []
    },
    {
      "cell_type": "code",
      "metadata": {
        "id": "bpJEwtrpYivZ",
        "colab_type": "code",
        "outputId": "da75d963-715b-417f-d712-e59759c8007c",
        "colab": {
          "base_uri": "https://localhost:8080/",
          "height": 34
        }
      },
      "source": [
        "aapl.price  "
      ],
      "execution_count": 0,
      "outputs": [
        {
          "output_type": "execute_result",
          "data": {
            "text/plain": [
              "105"
            ]
          },
          "metadata": {
            "tags": []
          },
          "execution_count": 57
        }
      ]
    },
    {
      "cell_type": "code",
      "metadata": {
        "id": "swD-D3TpYiva",
        "colab_type": "code",
        "colab": {}
      },
      "source": [
        "class FinancialInstrument(FinancialInstrument):  \n",
        "    def get_price(self):  \n",
        "        return self.price  \n",
        "    def set_price(self, price):  \n",
        "        self.price = price  "
      ],
      "execution_count": 0,
      "outputs": []
    },
    {
      "cell_type": "code",
      "metadata": {
        "id": "8P7E8SDwYivc",
        "colab_type": "code",
        "colab": {}
      },
      "source": [
        "fi = FinancialInstrument('AAPL', 100)  "
      ],
      "execution_count": 0,
      "outputs": []
    },
    {
      "cell_type": "code",
      "metadata": {
        "id": "KOJwjeqmYive",
        "colab_type": "code",
        "outputId": "a5b01bbe-5a54-44e6-ec99-f1dca1d89d33",
        "colab": {
          "base_uri": "https://localhost:8080/",
          "height": 34
        }
      },
      "source": [
        "fi.get_price()  "
      ],
      "execution_count": 0,
      "outputs": [
        {
          "output_type": "execute_result",
          "data": {
            "text/plain": [
              "100"
            ]
          },
          "metadata": {
            "tags": []
          },
          "execution_count": 60
        }
      ]
    },
    {
      "cell_type": "code",
      "metadata": {
        "id": "HU5PH6SFYivf",
        "colab_type": "code",
        "colab": {}
      },
      "source": [
        "fi.set_price(105)  "
      ],
      "execution_count": 0,
      "outputs": []
    },
    {
      "cell_type": "code",
      "metadata": {
        "id": "rS9MmlgoYivg",
        "colab_type": "code",
        "outputId": "83175cdd-8adc-41fa-c2bd-99db605809eb",
        "colab": {
          "base_uri": "https://localhost:8080/",
          "height": 34
        }
      },
      "source": [
        "fi.get_price()  "
      ],
      "execution_count": 0,
      "outputs": [
        {
          "output_type": "execute_result",
          "data": {
            "text/plain": [
              "105"
            ]
          },
          "metadata": {
            "tags": []
          },
          "execution_count": 62
        }
      ]
    },
    {
      "cell_type": "code",
      "metadata": {
        "id": "HKsRx5NtYivh",
        "colab_type": "code",
        "outputId": "b632d0b8-4d5c-4c06-9b08-12fe49c7a0b3",
        "colab": {
          "base_uri": "https://localhost:8080/",
          "height": 34
        }
      },
      "source": [
        "fi.price  "
      ],
      "execution_count": 0,
      "outputs": [
        {
          "output_type": "execute_result",
          "data": {
            "text/plain": [
              "105"
            ]
          },
          "metadata": {
            "tags": []
          },
          "execution_count": 63
        }
      ]
    },
    {
      "cell_type": "code",
      "metadata": {
        "id": "InTYSbYuYivi",
        "colab_type": "code",
        "colab": {}
      },
      "source": [
        "class FinancialInstrument(object):\n",
        "    def __init__(self, symbol, price):\n",
        "        self.symbol = symbol  \n",
        "        self.__price = price  \n",
        "    def get_price(self):\n",
        "        return self.__price\n",
        "    def set_price(self, price):\n",
        "        self.__price = price"
      ],
      "execution_count": 0,
      "outputs": []
    },
    {
      "cell_type": "code",
      "metadata": {
        "id": "CumYoDQHYivj",
        "colab_type": "code",
        "colab": {}
      },
      "source": [
        "fi = FinancialInstrument('AAPL', 100)"
      ],
      "execution_count": 0,
      "outputs": []
    },
    {
      "cell_type": "code",
      "metadata": {
        "id": "fykP8RQJYivk",
        "colab_type": "code",
        "outputId": "083435aa-8c6d-4b85-d197-c07d28e111db",
        "colab": {
          "base_uri": "https://localhost:8080/",
          "height": 34
        }
      },
      "source": [
        "fi.get_price()  "
      ],
      "execution_count": 0,
      "outputs": [
        {
          "output_type": "execute_result",
          "data": {
            "text/plain": [
              "100"
            ]
          },
          "metadata": {
            "tags": []
          },
          "execution_count": 66
        }
      ]
    },
    {
      "cell_type": "code",
      "metadata": {
        "id": "eHAWroQAYivm",
        "colab_type": "code",
        "colab": {}
      },
      "source": [
        "# causes intentional error\n",
        "# fi.__price  "
      ],
      "execution_count": 0,
      "outputs": []
    },
    {
      "cell_type": "code",
      "metadata": {
        "id": "2VkK4bm3Yivn",
        "colab_type": "code",
        "outputId": "de37700e-f9fc-4c7b-ed6b-0ed03d413a0e",
        "colab": {
          "base_uri": "https://localhost:8080/",
          "height": 34
        }
      },
      "source": [
        "fi._FinancialInstrument__price  "
      ],
      "execution_count": 0,
      "outputs": [
        {
          "output_type": "execute_result",
          "data": {
            "text/plain": [
              "100"
            ]
          },
          "metadata": {
            "tags": []
          },
          "execution_count": 68
        }
      ]
    },
    {
      "cell_type": "code",
      "metadata": {
        "id": "hah0d61ZYivp",
        "colab_type": "code",
        "colab": {}
      },
      "source": [
        "fi._FinancialInstrument__price = 105  "
      ],
      "execution_count": 0,
      "outputs": []
    },
    {
      "cell_type": "code",
      "metadata": {
        "id": "aWZGgWFBYivq",
        "colab_type": "code",
        "colab": {}
      },
      "source": [
        "fi.set_price(100)  "
      ],
      "execution_count": 0,
      "outputs": []
    },
    {
      "cell_type": "code",
      "metadata": {
        "id": "9yuX6yQuYivr",
        "colab_type": "code",
        "colab": {}
      },
      "source": [
        "class PortfolioPosition(object):\n",
        "    def __init__(self, financial_instrument, position_size):\n",
        "        self.position = financial_instrument  \n",
        "        self.__position_size = position_size  \n",
        "    def get_position_size(self):\n",
        "        return self.__position_size\n",
        "    def update_position_size(self, position_size):\n",
        "        self.__position_size = position_size\n",
        "    def get_position_value(self):\n",
        "        return self.__position_size * \\\n",
        "               self.position.get_price()  "
      ],
      "execution_count": 0,
      "outputs": []
    },
    {
      "cell_type": "code",
      "metadata": {
        "id": "IJ5MYkxcYivs",
        "colab_type": "code",
        "colab": {}
      },
      "source": [
        "pp = PortfolioPosition(fi, 10)"
      ],
      "execution_count": 0,
      "outputs": []
    },
    {
      "cell_type": "code",
      "metadata": {
        "id": "eRz1NHxOYivt",
        "colab_type": "code",
        "outputId": "e2d7344d-03a7-43bd-d321-e35b88410902",
        "colab": {
          "base_uri": "https://localhost:8080/",
          "height": 34
        }
      },
      "source": [
        "pp.get_position_size()"
      ],
      "execution_count": 0,
      "outputs": [
        {
          "output_type": "execute_result",
          "data": {
            "text/plain": [
              "10"
            ]
          },
          "metadata": {
            "tags": []
          },
          "execution_count": 73
        }
      ]
    },
    {
      "cell_type": "code",
      "metadata": {
        "id": "SRVbLZQmYivu",
        "colab_type": "code",
        "outputId": "abd81092-33dc-4e77-a0c8-7015906e9584",
        "colab": {
          "base_uri": "https://localhost:8080/",
          "height": 34
        }
      },
      "source": [
        "pp.get_position_value()  "
      ],
      "execution_count": 0,
      "outputs": [
        {
          "output_type": "execute_result",
          "data": {
            "text/plain": [
              "1000"
            ]
          },
          "metadata": {
            "tags": []
          },
          "execution_count": 74
        }
      ]
    },
    {
      "cell_type": "code",
      "metadata": {
        "id": "bM2Jp8A-Yivv",
        "colab_type": "code",
        "outputId": "e82a0109-6ea2-4028-92e1-9150e9a03a18",
        "colab": {
          "base_uri": "https://localhost:8080/",
          "height": 34
        }
      },
      "source": [
        "pp.position.get_price()  "
      ],
      "execution_count": 0,
      "outputs": [
        {
          "output_type": "execute_result",
          "data": {
            "text/plain": [
              "100"
            ]
          },
          "metadata": {
            "tags": []
          },
          "execution_count": 75
        }
      ]
    },
    {
      "cell_type": "code",
      "metadata": {
        "id": "49vDsI35Yivw",
        "colab_type": "code",
        "colab": {}
      },
      "source": [
        "pp.position.set_price(105)  "
      ],
      "execution_count": 0,
      "outputs": []
    },
    {
      "cell_type": "code",
      "metadata": {
        "id": "IDW8PfdAYivx",
        "colab_type": "code",
        "outputId": "5aa8698a-186a-4c5b-8667-1268516e0371",
        "colab": {
          "base_uri": "https://localhost:8080/",
          "height": 34
        }
      },
      "source": [
        "pp.get_position_value()  "
      ],
      "execution_count": 0,
      "outputs": [
        {
          "output_type": "execute_result",
          "data": {
            "text/plain": [
              "1050"
            ]
          },
          "metadata": {
            "tags": []
          },
          "execution_count": 77
        }
      ]
    },
    {
      "cell_type": "markdown",
      "metadata": {
        "id": "6s5Bn_ksYivy",
        "colab_type": "text"
      },
      "source": [
        "## Python Data Model"
      ]
    },
    {
      "cell_type": "code",
      "metadata": {
        "id": "wQMBLyc_Yivy",
        "colab_type": "code",
        "colab": {}
      },
      "source": [
        "class Vector(object):\n",
        "    def __init__(self, x=0, y=0, z=0):  \n",
        "        self.x = x  \n",
        "        self.y = y  \n",
        "        self.z = z  "
      ],
      "execution_count": 0,
      "outputs": []
    },
    {
      "cell_type": "code",
      "metadata": {
        "id": "7tO_p1SyYivz",
        "colab_type": "code",
        "colab": {}
      },
      "source": [
        "v = Vector(1, 2, 3)  "
      ],
      "execution_count": 0,
      "outputs": []
    },
    {
      "cell_type": "code",
      "metadata": {
        "id": "j_0LYPz5Yiv0",
        "colab_type": "code",
        "outputId": "d749577f-acaf-44ca-b874-ebb624cfa59e",
        "colab": {
          "base_uri": "https://localhost:8080/",
          "height": 34
        }
      },
      "source": [
        "v  "
      ],
      "execution_count": 0,
      "outputs": [
        {
          "output_type": "execute_result",
          "data": {
            "text/plain": [
              "<__main__.Vector at 0x7facf219dfd0>"
            ]
          },
          "metadata": {
            "tags": []
          },
          "execution_count": 80
        }
      ]
    },
    {
      "cell_type": "code",
      "metadata": {
        "id": "CGWmPPBtYiv3",
        "colab_type": "code",
        "colab": {}
      },
      "source": [
        "class Vector(Vector):\n",
        "    def __repr__(self):\n",
        "        return 'Vector(%r, %r, %r)' % (self.x, self.y, self.z)"
      ],
      "execution_count": 0,
      "outputs": []
    },
    {
      "cell_type": "code",
      "metadata": {
        "id": "Znmdp8EeYiv3",
        "colab_type": "code",
        "colab": {}
      },
      "source": [
        "v = Vector(1, 2, 3)"
      ],
      "execution_count": 0,
      "outputs": []
    },
    {
      "cell_type": "code",
      "metadata": {
        "id": "tNYfyjzJYiv4",
        "colab_type": "code",
        "outputId": "a0a88e1b-9993-49fa-9490-f22527da5a77",
        "colab": {
          "base_uri": "https://localhost:8080/",
          "height": 34
        }
      },
      "source": [
        "v  "
      ],
      "execution_count": 0,
      "outputs": [
        {
          "output_type": "execute_result",
          "data": {
            "text/plain": [
              "Vector(1, 2, 3)"
            ]
          },
          "metadata": {
            "tags": []
          },
          "execution_count": 83
        }
      ]
    },
    {
      "cell_type": "code",
      "metadata": {
        "id": "WdZj0v1HYiv5",
        "colab_type": "code",
        "outputId": "6ad5638c-4014-4530-c7e7-504a112d0e55",
        "colab": {
          "base_uri": "https://localhost:8080/",
          "height": 34
        }
      },
      "source": [
        "print(v)  "
      ],
      "execution_count": 0,
      "outputs": [
        {
          "output_type": "stream",
          "text": [
            "Vector(1, 2, 3)\n"
          ],
          "name": "stdout"
        }
      ]
    },
    {
      "cell_type": "code",
      "metadata": {
        "id": "fxZN5UMMYiv6",
        "colab_type": "code",
        "colab": {}
      },
      "source": [
        "class Vector(Vector):\n",
        "    def __abs__(self):\n",
        "        return (self.x ** 2 +  self.y ** 2 +\n",
        "                self.z ** 2) ** 0.5  \n",
        "    \n",
        "    def __bool__(self):\n",
        "        return bool(abs(self))"
      ],
      "execution_count": 0,
      "outputs": []
    },
    {
      "cell_type": "code",
      "metadata": {
        "id": "_Q3DYjrbYiv7",
        "colab_type": "code",
        "colab": {}
      },
      "source": [
        "v = Vector(1, 2, -1)  "
      ],
      "execution_count": 0,
      "outputs": []
    },
    {
      "cell_type": "code",
      "metadata": {
        "id": "SckqX6SqYiv9",
        "colab_type": "code",
        "outputId": "83503464-d6b0-47d0-9686-7f56cc074de0",
        "colab": {
          "base_uri": "https://localhost:8080/",
          "height": 34
        }
      },
      "source": [
        "abs(v)"
      ],
      "execution_count": 0,
      "outputs": [
        {
          "output_type": "execute_result",
          "data": {
            "text/plain": [
              "2.449489742783178"
            ]
          },
          "metadata": {
            "tags": []
          },
          "execution_count": 87
        }
      ]
    },
    {
      "cell_type": "code",
      "metadata": {
        "id": "dzS-vogZYiv-",
        "colab_type": "code",
        "outputId": "57c77f2f-a655-4edb-dd90-1feac81145c4",
        "colab": {
          "base_uri": "https://localhost:8080/",
          "height": 34
        }
      },
      "source": [
        "bool(v)"
      ],
      "execution_count": 0,
      "outputs": [
        {
          "output_type": "execute_result",
          "data": {
            "text/plain": [
              "True"
            ]
          },
          "metadata": {
            "tags": []
          },
          "execution_count": 88
        }
      ]
    },
    {
      "cell_type": "code",
      "metadata": {
        "id": "9qMztBy5Yiv_",
        "colab_type": "code",
        "colab": {}
      },
      "source": [
        "v = Vector()  "
      ],
      "execution_count": 0,
      "outputs": []
    },
    {
      "cell_type": "code",
      "metadata": {
        "id": "FUTxTSTHYiwB",
        "colab_type": "code",
        "outputId": "1720dc3b-4ef1-43f1-d5ea-84bf22b6cb42",
        "colab": {
          "base_uri": "https://localhost:8080/",
          "height": 34
        }
      },
      "source": [
        "v  "
      ],
      "execution_count": 0,
      "outputs": [
        {
          "output_type": "execute_result",
          "data": {
            "text/plain": [
              "Vector(0, 0, 0)"
            ]
          },
          "metadata": {
            "tags": []
          },
          "execution_count": 90
        }
      ]
    },
    {
      "cell_type": "code",
      "metadata": {
        "id": "L0r1mV3nYiwD",
        "colab_type": "code",
        "outputId": "76291907-0bfc-4581-cd23-fb84df4b060b",
        "colab": {
          "base_uri": "https://localhost:8080/",
          "height": 34
        }
      },
      "source": [
        "abs(v)"
      ],
      "execution_count": 0,
      "outputs": [
        {
          "output_type": "execute_result",
          "data": {
            "text/plain": [
              "0.0"
            ]
          },
          "metadata": {
            "tags": []
          },
          "execution_count": 91
        }
      ]
    },
    {
      "cell_type": "code",
      "metadata": {
        "id": "AX62fcZHYiwF",
        "colab_type": "code",
        "outputId": "d47acd54-e31c-455d-b824-bcb7d4c47ae0",
        "colab": {
          "base_uri": "https://localhost:8080/",
          "height": 34
        }
      },
      "source": [
        "bool(v)"
      ],
      "execution_count": 0,
      "outputs": [
        {
          "output_type": "execute_result",
          "data": {
            "text/plain": [
              "False"
            ]
          },
          "metadata": {
            "tags": []
          },
          "execution_count": 92
        }
      ]
    },
    {
      "cell_type": "code",
      "metadata": {
        "id": "H6MFT3ZwYiwG",
        "colab_type": "code",
        "colab": {}
      },
      "source": [
        "class Vector(Vector):\n",
        "    def __add__(self, other):\n",
        "        x = self.x + other.x\n",
        "        y = self.y + other.y\n",
        "        z = self.z + other.z\n",
        "        return Vector(x, y, z)  \n",
        "    \n",
        "    def __mul__(self, scalar):\n",
        "        return Vector(self.x * scalar,\n",
        "                      self.y * scalar,\n",
        "                      self.z * scalar)  "
      ],
      "execution_count": 0,
      "outputs": []
    },
    {
      "cell_type": "code",
      "metadata": {
        "id": "reUDkqsOYiwH",
        "colab_type": "code",
        "colab": {}
      },
      "source": [
        "v = Vector(1, 2, 3)"
      ],
      "execution_count": 0,
      "outputs": []
    },
    {
      "cell_type": "code",
      "metadata": {
        "id": "EF34_iz_YiwI",
        "colab_type": "code",
        "outputId": "0b9b6de2-be52-4733-c958-c134c1841ddc",
        "colab": {
          "base_uri": "https://localhost:8080/",
          "height": 34
        }
      },
      "source": [
        "v + Vector(2, 3, 4)"
      ],
      "execution_count": 0,
      "outputs": [
        {
          "output_type": "execute_result",
          "data": {
            "text/plain": [
              "Vector(3, 5, 7)"
            ]
          },
          "metadata": {
            "tags": []
          },
          "execution_count": 95
        }
      ]
    },
    {
      "cell_type": "code",
      "metadata": {
        "id": "LjJgJixfYiwI",
        "colab_type": "code",
        "outputId": "26408d9f-63c1-464f-cb4c-010723cd3e0d",
        "colab": {
          "base_uri": "https://localhost:8080/",
          "height": 34
        }
      },
      "source": [
        "v * 2"
      ],
      "execution_count": 0,
      "outputs": [
        {
          "output_type": "execute_result",
          "data": {
            "text/plain": [
              "Vector(2, 4, 6)"
            ]
          },
          "metadata": {
            "tags": []
          },
          "execution_count": 96
        }
      ]
    },
    {
      "cell_type": "code",
      "metadata": {
        "id": "j1jr6PSkYiwJ",
        "colab_type": "code",
        "colab": {}
      },
      "source": [
        "class Vector(Vector):\n",
        "    def __len__(self):\n",
        "        return 3  \n",
        "    \n",
        "    def __getitem__(self, i):\n",
        "        if i in [0, -3]: return self.x\n",
        "        elif i in [1, -2]: return self.y\n",
        "        elif i in [2, -1]: return self.z\n",
        "        else: raise IndexError('Index out of range.')"
      ],
      "execution_count": 0,
      "outputs": []
    },
    {
      "cell_type": "code",
      "metadata": {
        "id": "LxUT-lBKYiwK",
        "colab_type": "code",
        "colab": {}
      },
      "source": [
        "v = Vector(1, 2, 3)"
      ],
      "execution_count": 0,
      "outputs": []
    },
    {
      "cell_type": "code",
      "metadata": {
        "id": "vU0W8CWEYiwK",
        "colab_type": "code",
        "outputId": "93f353b6-90f6-4fbf-adec-d88396df3e4a",
        "colab": {
          "base_uri": "https://localhost:8080/",
          "height": 34
        }
      },
      "source": [
        "len(v)"
      ],
      "execution_count": 0,
      "outputs": [
        {
          "output_type": "execute_result",
          "data": {
            "text/plain": [
              "3"
            ]
          },
          "metadata": {
            "tags": []
          },
          "execution_count": 99
        }
      ]
    },
    {
      "cell_type": "code",
      "metadata": {
        "id": "MjOcJxjuYiwL",
        "colab_type": "code",
        "outputId": "dce7c995-35fd-450c-b46d-ae92172d0c37",
        "colab": {
          "base_uri": "https://localhost:8080/",
          "height": 34
        }
      },
      "source": [
        "v[0]"
      ],
      "execution_count": 0,
      "outputs": [
        {
          "output_type": "execute_result",
          "data": {
            "text/plain": [
              "1"
            ]
          },
          "metadata": {
            "tags": []
          },
          "execution_count": 100
        }
      ]
    },
    {
      "cell_type": "code",
      "metadata": {
        "id": "aI6-e0mNYiwM",
        "colab_type": "code",
        "outputId": "09bd3fd6-1976-445e-e27e-8d7e929ac5ae",
        "colab": {
          "base_uri": "https://localhost:8080/",
          "height": 34
        }
      },
      "source": [
        "v[-2]"
      ],
      "execution_count": 0,
      "outputs": [
        {
          "output_type": "execute_result",
          "data": {
            "text/plain": [
              "2"
            ]
          },
          "metadata": {
            "tags": []
          },
          "execution_count": 101
        }
      ]
    },
    {
      "cell_type": "code",
      "metadata": {
        "id": "Yq137kY5YiwN",
        "colab_type": "code",
        "colab": {}
      },
      "source": [
        "# causes intentional error\n",
        "# v[3]"
      ],
      "execution_count": 0,
      "outputs": []
    },
    {
      "cell_type": "code",
      "metadata": {
        "id": "zdUrOA_IYiwP",
        "colab_type": "code",
        "colab": {}
      },
      "source": [
        "class Vector(Vector):\n",
        "    def __iter__(self):\n",
        "        for i in range(len(self)):\n",
        "            yield self[i]"
      ],
      "execution_count": 0,
      "outputs": []
    },
    {
      "cell_type": "code",
      "metadata": {
        "id": "OgGPSpQ3YiwQ",
        "colab_type": "code",
        "colab": {}
      },
      "source": [
        "v = Vector(1, 2, 3)"
      ],
      "execution_count": 0,
      "outputs": []
    },
    {
      "cell_type": "code",
      "metadata": {
        "id": "GfCcT3jGYiwR",
        "colab_type": "code",
        "outputId": "a3ee4dbe-4212-42ac-9c34-bbc01e5d7326",
        "colab": {
          "base_uri": "https://localhost:8080/",
          "height": 68
        }
      },
      "source": [
        "for i in range(3):  \n",
        "    print(v[i])  "
      ],
      "execution_count": 0,
      "outputs": [
        {
          "output_type": "stream",
          "text": [
            "1\n",
            "2\n",
            "3\n"
          ],
          "name": "stdout"
        }
      ]
    },
    {
      "cell_type": "code",
      "metadata": {
        "id": "4GftNBn9YiwS",
        "colab_type": "code",
        "outputId": "2458e48f-70ff-4d52-bd4a-470bfdab3feb",
        "colab": {
          "base_uri": "https://localhost:8080/",
          "height": 68
        }
      },
      "source": [
        "for coordinate in v:  \n",
        "    print(coordinate)  "
      ],
      "execution_count": 0,
      "outputs": [
        {
          "output_type": "stream",
          "text": [
            "1\n",
            "2\n",
            "3\n"
          ],
          "name": "stdout"
        }
      ]
    },
    {
      "cell_type": "code",
      "metadata": {
        "id": "xpb7F0GMYiwS",
        "colab_type": "code",
        "colab": {}
      },
      "source": [
        "class Vector(object):\n",
        "    def __init__(self, x=0, y=0, z=0):\n",
        "        self.x = x\n",
        "        self.y = y\n",
        "        self.z = z\n",
        "    \n",
        "    def __repr__(self):\n",
        "        return 'Vector(%r, %r, %r)' % (self.x, self.y, self.z)\n",
        "    \n",
        "    def __abs__(self):\n",
        "        return (self.x ** 2 +  self.y ** 2 + self.z ** 2) ** 0.5\n",
        "    \n",
        "    def __bool__(self):\n",
        "        return bool(abs(self))\n",
        "    \n",
        "    def __add__(self, other):\n",
        "        x = self.x + other.x\n",
        "        y = self.y + other.y\n",
        "        z = self.z + other.z\n",
        "        return Vector(x, y, z)\n",
        "    \n",
        "    def __mul__(self, scalar):\n",
        "        return Vector(self.x * scalar,\n",
        "                      self.y * scalar,\n",
        "                      self.z * scalar)\n",
        "    \n",
        "    def __len__(self):\n",
        "        return 3\n",
        "    \n",
        "    def __getitem__(self, i):\n",
        "        if i in [0, -3]: return self.x\n",
        "        elif i in [1, -2]: return self.y\n",
        "        elif i in [2, -1]: return self.z\n",
        "        else: raise IndexError('Index out of range.')\n",
        "            \n",
        "    def __iter__(self):\n",
        "        for i in range(len(self)):\n",
        "            yield self[i]"
      ],
      "execution_count": 0,
      "outputs": []
    },
    {
      "cell_type": "markdown",
      "metadata": {
        "id": "N0lun2u4YiwT",
        "colab_type": "text"
      },
      "source": [
        "<img src=\"http://hilpisch.com/tpq_logo.png\" alt=\"The Python Quants\" width=\"35%\" align=\"right\" border=\"0\"><br>\n",
        "\n",
        "<a href=\"http://tpq.io\" target=\"_blank\">http://tpq.io</a> | <a href=\"http://twitter.com/dyjh\" target=\"_blank\">@dyjh</a> | <a href=\"mailto:training@tpq.io\">training@tpq.io</a>"
      ]
    }
  ]
}